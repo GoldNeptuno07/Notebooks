{
 "cells": [
  {
   "cell_type": "markdown",
   "id": "3e9c6922",
   "metadata": {
    "papermill": {
     "duration": 0.013034,
     "end_time": "2023-10-30T01:17:23.088393",
     "exception": false,
     "start_time": "2023-10-30T01:17:23.075359",
     "status": "completed"
    },
    "tags": []
   },
   "source": [
    "# Some Web Scrapping with Pandas\n",
    "In this notebook we do some Web Scrapping with the pandas __pd.read_html(url)__ method, and then we apply some preprocessing and visualization, and finally we create a __PCA__."
   ]
  },
  {
   "cell_type": "code",
   "execution_count": 1,
   "id": "aebc8d51",
   "metadata": {
    "_cell_guid": "b1076dfc-b9ad-4769-8c92-a6c4dae69d19",
    "_uuid": "8f2839f25d086af736a60e9eeb907d3b93b6e0e5",
    "execution": {
     "iopub.execute_input": "2023-10-30T01:17:23.117522Z",
     "iopub.status.busy": "2023-10-30T01:17:23.116588Z",
     "iopub.status.idle": "2023-10-30T01:17:27.052024Z",
     "shell.execute_reply": "2023-10-30T01:17:27.050419Z"
    },
    "papermill": {
     "duration": 3.953101,
     "end_time": "2023-10-30T01:17:27.054724",
     "exception": false,
     "start_time": "2023-10-30T01:17:23.101623",
     "status": "completed"
    },
    "tags": []
   },
   "outputs": [
    {
     "data": {
      "text/plain": [
       "5"
      ]
     },
     "execution_count": 1,
     "metadata": {},
     "output_type": "execute_result"
    }
   ],
   "source": [
    "import pandas as pd\n",
    "import numpy as np\n",
    "import matplotlib.pyplot as plt\n",
    "import seaborn as sns\n",
    "import regex as re\n",
    "import plotly.express as px\n",
    "\n",
    "\n",
    "tables = pd.read_html(\"https://en.wikipedia.org/wiki/List_of_World_Heritage_in_Danger\")\n",
    "len(tables)"
   ]
  },
  {
   "cell_type": "markdown",
   "id": "a56c3e14",
   "metadata": {
    "papermill": {
     "duration": 0.012322,
     "end_time": "2023-10-30T01:17:27.079862",
     "exception": false,
     "start_time": "2023-10-30T01:17:27.067540",
     "status": "completed"
    },
    "tags": []
   },
   "source": [
    "# Get and Preprocess Data\n",
    "\n",
    "We obtain the data with the Pandas librarie from de url: https://en.wikipedia.org/wiki/List_of_World_Heritage_in_Danger"
   ]
  },
  {
   "cell_type": "code",
   "execution_count": 2,
   "id": "216591b1",
   "metadata": {
    "execution": {
     "iopub.execute_input": "2023-10-30T01:17:27.108429Z",
     "iopub.status.busy": "2023-10-30T01:17:27.107740Z",
     "iopub.status.idle": "2023-10-30T01:17:27.139234Z",
     "shell.execute_reply": "2023-10-30T01:17:27.137945Z"
    },
    "papermill": {
     "duration": 0.049031,
     "end_time": "2023-10-30T01:17:27.142087",
     "exception": false,
     "start_time": "2023-10-30T01:17:27.093056",
     "status": "completed"
    },
    "tags": []
   },
   "outputs": [
    {
     "data": {
      "text/html": [
       "<div>\n",
       "<style scoped>\n",
       "    .dataframe tbody tr th:only-of-type {\n",
       "        vertical-align: middle;\n",
       "    }\n",
       "\n",
       "    .dataframe tbody tr th {\n",
       "        vertical-align: top;\n",
       "    }\n",
       "\n",
       "    .dataframe thead th {\n",
       "        text-align: right;\n",
       "    }\n",
       "</style>\n",
       "<table border=\"1\" class=\"dataframe\">\n",
       "  <thead>\n",
       "    <tr style=\"text-align: right;\">\n",
       "      <th></th>\n",
       "      <th>Name</th>\n",
       "      <th>Image</th>\n",
       "      <th>Location</th>\n",
       "      <th>Criteria</th>\n",
       "      <th>Area ha (acre)</th>\n",
       "      <th>Year (WHS)</th>\n",
       "      <th>Endangered</th>\n",
       "      <th>Reason</th>\n",
       "      <th>Refs</th>\n",
       "    </tr>\n",
       "  </thead>\n",
       "  <tbody>\n",
       "    <tr>\n",
       "      <th>0</th>\n",
       "      <td>Abu Mena</td>\n",
       "      <td>NaN</td>\n",
       "      <td>Abusir,  Egypt .mw-parser-output .geo-default,...</td>\n",
       "      <td>Cultural: (iv)</td>\n",
       "      <td>182 (450)</td>\n",
       "      <td>1979</td>\n",
       "      <td>2001–</td>\n",
       "      <td>Cave-ins in the area caused by the clay at the...</td>\n",
       "      <td>[17][18] [19]</td>\n",
       "    </tr>\n",
       "    <tr>\n",
       "      <th>1</th>\n",
       "      <td>Air and Ténéré Natural Reserves</td>\n",
       "      <td>NaN</td>\n",
       "      <td>Arlit Department,  Niger 18°17′N 8°0′E﻿ / ﻿18....</td>\n",
       "      <td>Natural: (vii), (ix), (x)</td>\n",
       "      <td>7,736,000 (19,120,000)</td>\n",
       "      <td>1991</td>\n",
       "      <td>1992–</td>\n",
       "      <td>Military conflict and civil disturbance in the...</td>\n",
       "      <td>[20][21]</td>\n",
       "    </tr>\n",
       "    <tr>\n",
       "      <th>2</th>\n",
       "      <td>Ancient City of Aleppo</td>\n",
       "      <td>NaN</td>\n",
       "      <td>Aleppo Governorate, Syria 36°14′N 37°10′E﻿ / ﻿...</td>\n",
       "      <td>Cultural: (iii), (iv)</td>\n",
       "      <td>350 (860)</td>\n",
       "      <td>1986</td>\n",
       "      <td>2013–</td>\n",
       "      <td>Syrian Civil War, currently held by the govern...</td>\n",
       "      <td>[22]</td>\n",
       "    </tr>\n",
       "    <tr>\n",
       "      <th>3</th>\n",
       "      <td>Ancient City of Bosra</td>\n",
       "      <td>NaN</td>\n",
       "      <td>Daraa Governorate, Syria 32°31′5″N 36°28′54″E﻿...</td>\n",
       "      <td>Cultural: (i), (iii), (vi)</td>\n",
       "      <td>—</td>\n",
       "      <td>1980</td>\n",
       "      <td>2013–</td>\n",
       "      <td>Syrian Civil War, held by the government.</td>\n",
       "      <td>[23]</td>\n",
       "    </tr>\n",
       "    <tr>\n",
       "      <th>4</th>\n",
       "      <td>Ancient City of Damascus</td>\n",
       "      <td>NaN</td>\n",
       "      <td>Damascus Governorate, Syria 33°30′41″N 36°18′2...</td>\n",
       "      <td>Cultural: (i), (ii), (iii), (iv), (vi)</td>\n",
       "      <td>86 (210)</td>\n",
       "      <td>1979</td>\n",
       "      <td>2013–</td>\n",
       "      <td>Syrian Civil War, rebel gunfire and mortar she...</td>\n",
       "      <td>[24]</td>\n",
       "    </tr>\n",
       "  </tbody>\n",
       "</table>\n",
       "</div>"
      ],
      "text/plain": [
       "                              Name  Image  \\\n",
       "0                         Abu Mena    NaN   \n",
       "1  Air and Ténéré Natural Reserves    NaN   \n",
       "2           Ancient City of Aleppo    NaN   \n",
       "3            Ancient City of Bosra    NaN   \n",
       "4         Ancient City of Damascus    NaN   \n",
       "\n",
       "                                            Location  \\\n",
       "0  Abusir,  Egypt .mw-parser-output .geo-default,...   \n",
       "1  Arlit Department,  Niger 18°17′N 8°0′E﻿ / ﻿18....   \n",
       "2  Aleppo Governorate, Syria 36°14′N 37°10′E﻿ / ﻿...   \n",
       "3  Daraa Governorate, Syria 32°31′5″N 36°28′54″E﻿...   \n",
       "4  Damascus Governorate, Syria 33°30′41″N 36°18′2...   \n",
       "\n",
       "                                 Criteria          Area ha (acre)  Year (WHS)  \\\n",
       "0                          Cultural: (iv)               182 (450)        1979   \n",
       "1               Natural: (vii), (ix), (x)  7,736,000 (19,120,000)        1991   \n",
       "2                   Cultural: (iii), (iv)               350 (860)        1986   \n",
       "3              Cultural: (i), (iii), (vi)                       —        1980   \n",
       "4  Cultural: (i), (ii), (iii), (iv), (vi)                86 (210)        1979   \n",
       "\n",
       "  Endangered                                             Reason           Refs  \n",
       "0      2001–  Cave-ins in the area caused by the clay at the...  [17][18] [19]  \n",
       "1      1992–  Military conflict and civil disturbance in the...       [20][21]  \n",
       "2      2013–  Syrian Civil War, currently held by the govern...           [22]  \n",
       "3      2013–          Syrian Civil War, held by the government.           [23]  \n",
       "4      2013–  Syrian Civil War, rebel gunfire and mortar she...           [24]  "
      ]
     },
     "execution_count": 2,
     "metadata": {},
     "output_type": "execute_result"
    }
   ],
   "source": [
    "frames = [tables[1], tables[3]]\n",
    "data = pd.concat(frames).reset_index(drop= True)\n",
    "data.head(5)"
   ]
  },
  {
   "cell_type": "code",
   "execution_count": 3,
   "id": "1260958f",
   "metadata": {
    "execution": {
     "iopub.execute_input": "2023-10-30T01:17:27.172419Z",
     "iopub.status.busy": "2023-10-30T01:17:27.171742Z",
     "iopub.status.idle": "2023-10-30T01:17:27.199474Z",
     "shell.execute_reply": "2023-10-30T01:17:27.198157Z"
    },
    "papermill": {
     "duration": 0.046027,
     "end_time": "2023-10-30T01:17:27.202296",
     "exception": false,
     "start_time": "2023-10-30T01:17:27.156269",
     "status": "completed"
    },
    "tags": []
   },
   "outputs": [
    {
     "name": "stdout",
     "output_type": "stream",
     "text": [
      "<class 'pandas.core.frame.DataFrame'>\n",
      "RangeIndex: 96 entries, 0 to 95\n",
      "Data columns (total 9 columns):\n",
      " #   Column          Non-Null Count  Dtype  \n",
      "---  ------          --------------  -----  \n",
      " 0   Name            96 non-null     object \n",
      " 1   Image           0 non-null      float64\n",
      " 2   Location        96 non-null     object \n",
      " 3   Criteria        96 non-null     object \n",
      " 4   Area ha (acre)  78 non-null     object \n",
      " 5   Year (WHS)      96 non-null     int64  \n",
      " 6   Endangered      96 non-null     object \n",
      " 7   Reason          95 non-null     object \n",
      " 8   Refs            96 non-null     object \n",
      "dtypes: float64(1), int64(1), object(7)\n",
      "memory usage: 6.9+ KB\n"
     ]
    }
   ],
   "source": [
    "data.info()"
   ]
  },
  {
   "cell_type": "code",
   "execution_count": 4,
   "id": "0ce6dc4c",
   "metadata": {
    "execution": {
     "iopub.execute_input": "2023-10-30T01:17:27.234028Z",
     "iopub.status.busy": "2023-10-30T01:17:27.233578Z",
     "iopub.status.idle": "2023-10-30T01:17:27.243975Z",
     "shell.execute_reply": "2023-10-30T01:17:27.242446Z"
    },
    "papermill": {
     "duration": 0.030532,
     "end_time": "2023-10-30T01:17:27.247142",
     "exception": false,
     "start_time": "2023-10-30T01:17:27.216610",
     "status": "completed"
    },
    "tags": []
   },
   "outputs": [],
   "source": [
    "columns = ['Name', 'Location', 'Criteria', 'Area ha (acre)', 'Year (WHS)','Endangered']\n",
    "dataset = data[columns]"
   ]
  },
  {
   "cell_type": "markdown",
   "id": "e8728343",
   "metadata": {
    "papermill": {
     "duration": 0.013154,
     "end_time": "2023-10-30T01:17:27.273804",
     "exception": false,
     "start_time": "2023-10-30T01:17:27.260650",
     "status": "completed"
    },
    "tags": []
   },
   "source": [
    "### Split Location variable to City and Country variables\n",
    "\n",
    "We clean the data with Regula Expression, looking for the Country and City."
   ]
  },
  {
   "cell_type": "code",
   "execution_count": 5,
   "id": "6a04c30d",
   "metadata": {
    "execution": {
     "iopub.execute_input": "2023-10-30T01:17:27.303599Z",
     "iopub.status.busy": "2023-10-30T01:17:27.302838Z",
     "iopub.status.idle": "2023-10-30T01:17:27.452921Z",
     "shell.execute_reply": "2023-10-30T01:17:27.451639Z"
    },
    "papermill": {
     "duration": 0.168956,
     "end_time": "2023-10-30T01:17:27.455991",
     "exception": false,
     "start_time": "2023-10-30T01:17:27.287035",
     "status": "completed"
    },
    "tags": []
   },
   "outputs": [],
   "source": [
    "for i in dataset.index:\n",
    "    row = re.sub(\"(\\\\xa0)|(\\\\ufeff)|[\\/″]\", '', dataset.loc[i, \"Location\"]).replace(\"-\", \" \")\n",
    "    row = re.findall(\"[A-Za-zíóōô'áéë, ]+[A-Za-z]+\", row)[0].split(\", \")\n",
    "    dataset.loc[i, [\"City\", \"Country\"]] = str(row[0]), str(row[-1])\n",
    "dataset = dataset.drop(\"Location\", axis= 1)"
   ]
  },
  {
   "cell_type": "markdown",
   "id": "1becf521",
   "metadata": {
    "execution": {
     "iopub.execute_input": "2023-10-30T00:53:18.776381Z",
     "iopub.status.busy": "2023-10-30T00:53:18.775989Z",
     "iopub.status.idle": "2023-10-30T00:53:18.781384Z",
     "shell.execute_reply": "2023-10-30T00:53:18.780357Z",
     "shell.execute_reply.started": "2023-10-30T00:53:18.776350Z"
    },
    "papermill": {
     "duration": 0.014747,
     "end_time": "2023-10-30T01:17:27.484418",
     "exception": false,
     "start_time": "2023-10-30T01:17:27.469671",
     "status": "completed"
    },
    "tags": []
   },
   "source": [
    "### Processing Criteria Variable"
   ]
  },
  {
   "cell_type": "code",
   "execution_count": 6,
   "id": "54297c01",
   "metadata": {
    "execution": {
     "iopub.execute_input": "2023-10-30T01:17:27.514436Z",
     "iopub.status.busy": "2023-10-30T01:17:27.513997Z",
     "iopub.status.idle": "2023-10-30T01:17:27.521943Z",
     "shell.execute_reply": "2023-10-30T01:17:27.520346Z"
    },
    "papermill": {
     "duration": 0.026768,
     "end_time": "2023-10-30T01:17:27.524706",
     "exception": false,
     "start_time": "2023-10-30T01:17:27.497938",
     "status": "completed"
    },
    "tags": []
   },
   "outputs": [],
   "source": [
    "dataset[\"Criteria\"] = (\n",
    "    dataset[\"Criteria\"].str.split(\":\", expand= True)[0]\n",
    ")"
   ]
  },
  {
   "cell_type": "markdown",
   "id": "258f35ec",
   "metadata": {
    "papermill": {
     "duration": 0.013137,
     "end_time": "2023-10-30T01:17:27.551864",
     "exception": false,
     "start_time": "2023-10-30T01:17:27.538727",
     "status": "completed"
    },
    "tags": []
   },
   "source": [
    "### Processing Area ha (acre) Variable"
   ]
  },
  {
   "cell_type": "code",
   "execution_count": 7,
   "id": "11944366",
   "metadata": {
    "execution": {
     "iopub.execute_input": "2023-10-30T01:17:27.580886Z",
     "iopub.status.busy": "2023-10-30T01:17:27.580491Z",
     "iopub.status.idle": "2023-10-30T01:17:27.589830Z",
     "shell.execute_reply": "2023-10-30T01:17:27.588738Z"
    },
    "papermill": {
     "duration": 0.026916,
     "end_time": "2023-10-30T01:17:27.592180",
     "exception": false,
     "start_time": "2023-10-30T01:17:27.565264",
     "status": "completed"
    },
    "tags": []
   },
   "outputs": [],
   "source": [
    "dataset[\"Hectares\"] = dataset[\"Area ha (acre)\"].str.split(\" \", expand= True)[0]\n",
    "dataset = dataset.drop(\"Area ha (acre)\", axis = 1)"
   ]
  },
  {
   "cell_type": "markdown",
   "id": "285840f8",
   "metadata": {
    "papermill": {
     "duration": 0.013188,
     "end_time": "2023-10-30T01:17:27.619893",
     "exception": false,
     "start_time": "2023-10-30T01:17:27.606705",
     "status": "completed"
    },
    "tags": []
   },
   "source": [
    "### Processing Endangered Variable"
   ]
  },
  {
   "cell_type": "code",
   "execution_count": 8,
   "id": "b42a1081",
   "metadata": {
    "execution": {
     "iopub.execute_input": "2023-10-30T01:17:27.650696Z",
     "iopub.status.busy": "2023-10-30T01:17:27.649180Z",
     "iopub.status.idle": "2023-10-30T01:17:27.663367Z",
     "shell.execute_reply": "2023-10-30T01:17:27.662338Z"
    },
    "papermill": {
     "duration": 0.032343,
     "end_time": "2023-10-30T01:17:27.666135",
     "exception": false,
     "start_time": "2023-10-30T01:17:27.633792",
     "status": "completed"
    },
    "tags": []
   },
   "outputs": [],
   "source": [
    "dates = dataset.Endangered.str.split(\"–\", expand= True)[[0,1]]\n",
    "dates[1] = dates[1].str.split(\",\", expand= True)[0]\n",
    "dates.loc[dates[1] == \"\", 1] = \"2023\"\n",
    "dataset = pd.concat([dataset, dates], axis= 1).drop(\"Endangered\", axis= 1)"
   ]
  },
  {
   "cell_type": "markdown",
   "id": "7fcedb51",
   "metadata": {
    "papermill": {
     "duration": 0.013132,
     "end_time": "2023-10-30T01:17:27.692905",
     "exception": false,
     "start_time": "2023-10-30T01:17:27.679773",
     "status": "completed"
    },
    "tags": []
   },
   "source": [
    "### Rename Columns"
   ]
  },
  {
   "cell_type": "code",
   "execution_count": 9,
   "id": "c53c9720",
   "metadata": {
    "execution": {
     "iopub.execute_input": "2023-10-30T01:17:27.722956Z",
     "iopub.status.busy": "2023-10-30T01:17:27.722079Z",
     "iopub.status.idle": "2023-10-30T01:17:27.728649Z",
     "shell.execute_reply": "2023-10-30T01:17:27.727652Z"
    },
    "papermill": {
     "duration": 0.024468,
     "end_time": "2023-10-30T01:17:27.731178",
     "exception": false,
     "start_time": "2023-10-30T01:17:27.706710",
     "status": "completed"
    },
    "tags": []
   },
   "outputs": [],
   "source": [
    "column_names = {'Year (WHS)': 'Year_Heritage_Inscribed', 0: \"Endangered_Inscription\", 1: \"Endangered_Removed\"}\n",
    "dataset = dataset.rename(columns= column_names)"
   ]
  },
  {
   "cell_type": "markdown",
   "id": "ab91b027",
   "metadata": {
    "papermill": {
     "duration": 0.0133,
     "end_time": "2023-10-30T01:17:27.758306",
     "exception": false,
     "start_time": "2023-10-30T01:17:27.745006",
     "status": "completed"
    },
    "tags": []
   },
   "source": [
    "### Filling Dates with Random days and months"
   ]
  },
  {
   "cell_type": "code",
   "execution_count": 10,
   "id": "d5e92880",
   "metadata": {
    "execution": {
     "iopub.execute_input": "2023-10-30T01:17:27.787091Z",
     "iopub.status.busy": "2023-10-30T01:17:27.786592Z",
     "iopub.status.idle": "2023-10-30T01:17:27.850126Z",
     "shell.execute_reply": "2023-10-30T01:17:27.848736Z"
    },
    "papermill": {
     "duration": 0.081591,
     "end_time": "2023-10-30T01:17:27.853223",
     "exception": false,
     "start_time": "2023-10-30T01:17:27.771632",
     "status": "completed"
    },
    "tags": []
   },
   "outputs": [],
   "source": [
    "dataset[\"Year_Heritage_Inscribed\"] = dataset[\"Year_Heritage_Inscribed\"].astype(str)\n",
    "for i in dataset.index:\n",
    "    dataset.loc[i, \"Year_Heritage_Inscribed\"] += f\"-{np.random.randint(1, 13)}-{np.random.randint(1, 29)}\"\n",
    "    dataset.loc[i, \"Endangered_Inscription\"] += f\"-{np.random.randint(1, 13)}-{np.random.randint(1, 29)}\"\n",
    "    dataset.loc[i, \"Endangered_Removed\"] += f\"-{np.random.randint(1, 13)}-{np.random.randint(1, 29)}\""
   ]
  },
  {
   "cell_type": "markdown",
   "id": "d7fe7bb4",
   "metadata": {
    "papermill": {
     "duration": 0.013014,
     "end_time": "2023-10-30T01:17:27.879541",
     "exception": false,
     "start_time": "2023-10-30T01:17:27.866527",
     "status": "completed"
    },
    "tags": []
   },
   "source": [
    "### Change Data Type and Impute Hectares"
   ]
  },
  {
   "cell_type": "code",
   "execution_count": 11,
   "id": "cf6fade1",
   "metadata": {
    "execution": {
     "iopub.execute_input": "2023-10-30T01:17:27.973574Z",
     "iopub.status.busy": "2023-10-30T01:17:27.972240Z",
     "iopub.status.idle": "2023-10-30T01:17:27.996438Z",
     "shell.execute_reply": "2023-10-30T01:17:27.995036Z"
    },
    "papermill": {
     "duration": 0.106437,
     "end_time": "2023-10-30T01:17:27.999066",
     "exception": false,
     "start_time": "2023-10-30T01:17:27.892629",
     "status": "completed"
    },
    "tags": []
   },
   "outputs": [
    {
     "data": {
      "text/plain": [
       "0.0"
      ]
     },
     "execution_count": 11,
     "metadata": {},
     "output_type": "execute_result"
    }
   ],
   "source": [
    "dataset[['Year_Heritage_Inscribed', 'Endangered_Inscription', 'Endangered_Removed']]= dataset[['Year_Heritage_Inscribed', 'Endangered_Inscription', 'Endangered_Removed']]\\\n",
    ".apply(pd.to_datetime)\n",
    "dataset.loc[dataset[\"Hectares\"] == \"—\", \"Hectares\"] = np.nan\n",
    "dataset[\"Hectares\"] = dataset[\"Hectares\"].str.replace(\",\", \"\").astype(float)\n",
    "dataset.loc[dataset[\"Hectares\"].isna(), \"Hectares\"].sum()"
   ]
  },
  {
   "cell_type": "code",
   "execution_count": 12,
   "id": "f9e31a52",
   "metadata": {
    "execution": {
     "iopub.execute_input": "2023-10-30T01:17:28.029936Z",
     "iopub.status.busy": "2023-10-30T01:17:28.029252Z",
     "iopub.status.idle": "2023-10-30T01:17:28.669035Z",
     "shell.execute_reply": "2023-10-30T01:17:28.667311Z"
    },
    "papermill": {
     "duration": 0.658915,
     "end_time": "2023-10-30T01:17:28.672340",
     "exception": false,
     "start_time": "2023-10-30T01:17:28.013425",
     "status": "completed"
    },
    "tags": []
   },
   "outputs": [],
   "source": [
    "from sklearn.impute import SimpleImputer\n",
    "imputer = SimpleImputer(missing_values= np.nan, strategy= \"mean\")\n",
    "dataset.Hectares = imputer.fit_transform(dataset[[\"Hectares\"]].values)"
   ]
  },
  {
   "cell_type": "markdown",
   "id": "e70d28d5",
   "metadata": {
    "papermill": {
     "duration": 0.014061,
     "end_time": "2023-10-30T01:17:28.701790",
     "exception": false,
     "start_time": "2023-10-30T01:17:28.687729",
     "status": "completed"
    },
    "tags": []
   },
   "source": [
    "### Fixing Specific Data"
   ]
  },
  {
   "cell_type": "code",
   "execution_count": 13,
   "id": "12dc9fcf",
   "metadata": {
    "execution": {
     "iopub.execute_input": "2023-10-30T01:17:28.733321Z",
     "iopub.status.busy": "2023-10-30T01:17:28.732678Z",
     "iopub.status.idle": "2023-10-30T01:17:28.740919Z",
     "shell.execute_reply": "2023-10-30T01:17:28.739569Z"
    },
    "papermill": {
     "duration": 0.028054,
     "end_time": "2023-10-30T01:17:28.744213",
     "exception": false,
     "start_time": "2023-10-30T01:17:28.716159",
     "status": "completed"
    },
    "tags": []
   },
   "outputs": [],
   "source": [
    "# Jerusalem - Country Israel\n",
    "dataset.loc[dataset[\"Country\"] == \"Jerusalem\", \"Country\"] = \"Israel\"\n",
    "\n",
    "# Toledo - Country Belize\n",
    "dataset.loc[dataset[\"Country\"] == \"Stann Creek and Toledo Belize\", \"Country\"] = \"Belize\"\n",
    "dataset.loc[dataset[\"Country\"] == \"Belize\", \"City\"] = \"Toledo\""
   ]
  },
  {
   "cell_type": "markdown",
   "id": "78df6719",
   "metadata": {
    "papermill": {
     "duration": 0.01399,
     "end_time": "2023-10-30T01:17:28.772340",
     "exception": false,
     "start_time": "2023-10-30T01:17:28.758350",
     "status": "completed"
    },
    "tags": []
   },
   "source": [
    "### Get Continent Name"
   ]
  },
  {
   "cell_type": "code",
   "execution_count": 14,
   "id": "803f8a3d",
   "metadata": {
    "execution": {
     "iopub.execute_input": "2023-10-30T01:17:28.805750Z",
     "iopub.status.busy": "2023-10-30T01:17:28.804498Z",
     "iopub.status.idle": "2023-10-30T01:18:09.150901Z",
     "shell.execute_reply": "2023-10-30T01:18:09.148723Z"
    },
    "papermill": {
     "duration": 40.366536,
     "end_time": "2023-10-30T01:18:09.154686",
     "exception": false,
     "start_time": "2023-10-30T01:17:28.788150",
     "status": "completed"
    },
    "tags": []
   },
   "outputs": [
    {
     "name": "stdout",
     "output_type": "stream",
     "text": [
      "Collecting pycountry-convert\r\n",
      "  Downloading pycountry_convert-0.7.2-py3-none-any.whl (13 kB)\r\n",
      "Collecting pprintpp>=0.3.0 (from pycountry-convert)\r\n",
      "  Downloading pprintpp-0.4.0-py2.py3-none-any.whl (16 kB)\r\n",
      "Collecting pycountry>=16.11.27.1 (from pycountry-convert)\r\n",
      "  Downloading pycountry-22.3.5.tar.gz (10.1 MB)\r\n",
      "\u001b[2K     \u001b[90m━━━━━━━━━━━━━━━━━━━━━━━━━━━━━━━━━━━━━━━━\u001b[0m \u001b[32m10.1/10.1 MB\u001b[0m \u001b[31m50.9 MB/s\u001b[0m eta \u001b[36m0:00:00\u001b[0m\r\n",
      "\u001b[?25h  Installing build dependencies ... \u001b[?25l-\b \b\\\b \b|\b \b/\b \b-\b \bdone\r\n",
      "\u001b[?25h  Getting requirements to build wheel ... \u001b[?25l-\b \bdone\r\n",
      "\u001b[?25h  Preparing metadata (pyproject.toml) ... \u001b[?25l-\b \bdone\r\n",
      "\u001b[?25hRequirement already satisfied: pytest>=3.4.0 in /opt/conda/lib/python3.10/site-packages (from pycountry-convert) (7.4.1)\r\n",
      "Collecting pytest-mock>=1.6.3 (from pycountry-convert)\r\n",
      "  Downloading pytest_mock-3.12.0-py3-none-any.whl (9.8 kB)\r\n",
      "Collecting pytest-cov>=2.5.1 (from pycountry-convert)\r\n",
      "  Downloading pytest_cov-4.1.0-py3-none-any.whl (21 kB)\r\n",
      "Collecting repoze.lru>=0.7 (from pycountry-convert)\r\n",
      "  Downloading repoze.lru-0.7-py3-none-any.whl (10 kB)\r\n",
      "Requirement already satisfied: wheel>=0.30.0 in /opt/conda/lib/python3.10/site-packages (from pycountry-convert) (0.40.0)\r\n",
      "Requirement already satisfied: setuptools in /opt/conda/lib/python3.10/site-packages (from pycountry>=16.11.27.1->pycountry-convert) (68.0.0)\r\n",
      "Requirement already satisfied: iniconfig in /opt/conda/lib/python3.10/site-packages (from pytest>=3.4.0->pycountry-convert) (2.0.0)\r\n",
      "Requirement already satisfied: packaging in /opt/conda/lib/python3.10/site-packages (from pytest>=3.4.0->pycountry-convert) (21.3)\r\n",
      "Requirement already satisfied: pluggy<2.0,>=0.12 in /opt/conda/lib/python3.10/site-packages (from pytest>=3.4.0->pycountry-convert) (1.0.0)\r\n",
      "Requirement already satisfied: exceptiongroup>=1.0.0rc8 in /opt/conda/lib/python3.10/site-packages (from pytest>=3.4.0->pycountry-convert) (1.1.1)\r\n",
      "Requirement already satisfied: tomli>=1.0.0 in /opt/conda/lib/python3.10/site-packages (from pytest>=3.4.0->pycountry-convert) (2.0.1)\r\n",
      "Collecting coverage[toml]>=5.2.1 (from pytest-cov>=2.5.1->pycountry-convert)\r\n",
      "  Downloading coverage-7.3.2-cp310-cp310-manylinux_2_5_x86_64.manylinux1_x86_64.manylinux_2_17_x86_64.manylinux2014_x86_64.whl (227 kB)\r\n",
      "\u001b[2K     \u001b[90m━━━━━━━━━━━━━━━━━━━━━━━━━━━━━━━━━━━━━━\u001b[0m \u001b[32m227.5/227.5 kB\u001b[0m \u001b[31m16.3 MB/s\u001b[0m eta \u001b[36m0:00:00\u001b[0m\r\n",
      "\u001b[?25hRequirement already satisfied: pyparsing!=3.0.5,>=2.0.2 in /opt/conda/lib/python3.10/site-packages (from packaging->pytest>=3.4.0->pycountry-convert) (3.0.9)\r\n",
      "Building wheels for collected packages: pycountry\r\n",
      "  Building wheel for pycountry (pyproject.toml) ... \u001b[?25l-\b \b\\\b \b|\b \b/\b \b-\b \b\\\b \b|\b \b/\b \b-\b \b\\\b \b|\b \b/\b \b-\b \b\\\b \b|\b \b/\b \b-\b \b\\\b \b|\b \b/\b \b-\b \b\\\b \b|\b \b/\b \b-\b \b\\\b \b|\b \b/\b \bdone\r\n",
      "\u001b[?25h  Created wheel for pycountry: filename=pycountry-22.3.5-py2.py3-none-any.whl size=10681833 sha256=c18e13864bd35743bd96ba584bc5ea7b42e638b80614023424a41bcb913e5d19\r\n",
      "  Stored in directory: /root/.cache/pip/wheels/03/57/cc/290c5252ec97a6d78d36479a3c5e5ecc76318afcb241ad9dbe\r\n",
      "Successfully built pycountry\r\n",
      "Installing collected packages: repoze.lru, pprintpp, pycountry, coverage, pytest-mock, pytest-cov, pycountry-convert\r\n",
      "Successfully installed coverage-7.3.2 pprintpp-0.4.0 pycountry-22.3.5 pycountry-convert-0.7.2 pytest-cov-4.1.0 pytest-mock-3.12.0 repoze.lru-0.7\r\n"
     ]
    }
   ],
   "source": [
    "! pip install pycountry-convert"
   ]
  },
  {
   "cell_type": "code",
   "execution_count": 15,
   "id": "9009d85e",
   "metadata": {
    "execution": {
     "iopub.execute_input": "2023-10-30T01:18:09.198871Z",
     "iopub.status.busy": "2023-10-30T01:18:09.198320Z",
     "iopub.status.idle": "2023-10-30T01:18:09.368857Z",
     "shell.execute_reply": "2023-10-30T01:18:09.367700Z"
    },
    "papermill": {
     "duration": 0.194997,
     "end_time": "2023-10-30T01:18:09.371927",
     "exception": false,
     "start_time": "2023-10-30T01:18:09.176930",
     "status": "completed"
    },
    "tags": []
   },
   "outputs": [],
   "source": [
    "import pycountry_convert as pc\n",
    "\n",
    "for i in dataset.index:\n",
    "    country_code = pc.country_name_to_country_alpha2(dataset.loc[i, \"Country\"], cn_name_format=\"default\")\n",
    "    continent_name = pc.country_alpha2_to_continent_code(country_code)\n",
    "    dataset.loc[i, \"Continent\"] = str(continent_name)"
   ]
  },
  {
   "cell_type": "code",
   "execution_count": 16,
   "id": "e1ed1305",
   "metadata": {
    "execution": {
     "iopub.execute_input": "2023-10-30T01:18:09.412884Z",
     "iopub.status.busy": "2023-10-30T01:18:09.412311Z",
     "iopub.status.idle": "2023-10-30T01:18:09.437055Z",
     "shell.execute_reply": "2023-10-30T01:18:09.435505Z"
    },
    "papermill": {
     "duration": 0.04915,
     "end_time": "2023-10-30T01:18:09.440428",
     "exception": false,
     "start_time": "2023-10-30T01:18:09.391278",
     "status": "completed"
    },
    "tags": []
   },
   "outputs": [
    {
     "data": {
      "text/html": [
       "<div>\n",
       "<style scoped>\n",
       "    .dataframe tbody tr th:only-of-type {\n",
       "        vertical-align: middle;\n",
       "    }\n",
       "\n",
       "    .dataframe tbody tr th {\n",
       "        vertical-align: top;\n",
       "    }\n",
       "\n",
       "    .dataframe thead th {\n",
       "        text-align: right;\n",
       "    }\n",
       "</style>\n",
       "<table border=\"1\" class=\"dataframe\">\n",
       "  <thead>\n",
       "    <tr style=\"text-align: right;\">\n",
       "      <th></th>\n",
       "      <th>Name</th>\n",
       "      <th>City</th>\n",
       "      <th>Country</th>\n",
       "      <th>Continent</th>\n",
       "      <th>Criteria</th>\n",
       "      <th>Year_Heritage_Inscribed</th>\n",
       "      <th>Endangered_Inscription</th>\n",
       "      <th>Endangered_Removed</th>\n",
       "      <th>Hectares</th>\n",
       "    </tr>\n",
       "  </thead>\n",
       "  <tbody>\n",
       "    <tr>\n",
       "      <th>0</th>\n",
       "      <td>Abu Mena</td>\n",
       "      <td>Abusir</td>\n",
       "      <td>Egypt</td>\n",
       "      <td>AF</td>\n",
       "      <td>Cultural</td>\n",
       "      <td>1979-04-04</td>\n",
       "      <td>2001-04-01</td>\n",
       "      <td>2023-01-17</td>\n",
       "      <td>182.0</td>\n",
       "    </tr>\n",
       "    <tr>\n",
       "      <th>1</th>\n",
       "      <td>Air and Ténéré Natural Reserves</td>\n",
       "      <td>Arlit Department</td>\n",
       "      <td>Niger</td>\n",
       "      <td>AF</td>\n",
       "      <td>Natural</td>\n",
       "      <td>1991-04-25</td>\n",
       "      <td>1992-04-04</td>\n",
       "      <td>2023-01-12</td>\n",
       "      <td>7736000.0</td>\n",
       "    </tr>\n",
       "    <tr>\n",
       "      <th>2</th>\n",
       "      <td>Ancient City of Aleppo</td>\n",
       "      <td>Aleppo Governorate</td>\n",
       "      <td>Syria</td>\n",
       "      <td>AS</td>\n",
       "      <td>Cultural</td>\n",
       "      <td>1986-05-13</td>\n",
       "      <td>2013-12-10</td>\n",
       "      <td>2023-12-12</td>\n",
       "      <td>350.0</td>\n",
       "    </tr>\n",
       "  </tbody>\n",
       "</table>\n",
       "</div>"
      ],
      "text/plain": [
       "                              Name                City Country Continent  \\\n",
       "0                         Abu Mena              Abusir   Egypt        AF   \n",
       "1  Air and Ténéré Natural Reserves    Arlit Department   Niger        AF   \n",
       "2           Ancient City of Aleppo  Aleppo Governorate   Syria        AS   \n",
       "\n",
       "   Criteria Year_Heritage_Inscribed Endangered_Inscription Endangered_Removed  \\\n",
       "0  Cultural              1979-04-04             2001-04-01         2023-01-17   \n",
       "1   Natural              1991-04-25             1992-04-04         2023-01-12   \n",
       "2  Cultural              1986-05-13             2013-12-10         2023-12-12   \n",
       "\n",
       "    Hectares  \n",
       "0      182.0  \n",
       "1  7736000.0  \n",
       "2      350.0  "
      ]
     },
     "execution_count": 16,
     "metadata": {},
     "output_type": "execute_result"
    }
   ],
   "source": [
    "columns= ['Name','City', 'Country', \"Continent\",'Criteria', 'Year_Heritage_Inscribed', \n",
    "          'Endangered_Inscription', 'Endangered_Removed','Hectares']\n",
    "dataset = dataset[columns]\n",
    "dataset.head(3)"
   ]
  },
  {
   "cell_type": "markdown",
   "id": "623066e3",
   "metadata": {
    "papermill": {
     "duration": 0.019802,
     "end_time": "2023-10-30T01:18:09.481708",
     "exception": false,
     "start_time": "2023-10-30T01:18:09.461906",
     "status": "completed"
    },
    "tags": []
   },
   "source": [
    "### # Save Dataset"
   ]
  },
  {
   "cell_type": "code",
   "execution_count": 17,
   "id": "3d11e0dd",
   "metadata": {
    "execution": {
     "iopub.execute_input": "2023-10-30T01:18:09.524206Z",
     "iopub.status.busy": "2023-10-30T01:18:09.523770Z",
     "iopub.status.idle": "2023-10-30T01:18:09.529667Z",
     "shell.execute_reply": "2023-10-30T01:18:09.528250Z"
    },
    "papermill": {
     "duration": 0.030643,
     "end_time": "2023-10-30T01:18:09.532639",
     "exception": false,
     "start_time": "2023-10-30T01:18:09.501996",
     "status": "completed"
    },
    "tags": []
   },
   "outputs": [],
   "source": [
    "#dataset.to_csv(\"World_Heritage_in_Endangered.csv \")"
   ]
  },
  {
   "cell_type": "markdown",
   "id": "74c3d50d",
   "metadata": {
    "papermill": {
     "duration": 0.018993,
     "end_time": "2023-10-30T01:18:09.571375",
     "exception": false,
     "start_time": "2023-10-30T01:18:09.552382",
     "status": "completed"
    },
    "tags": []
   },
   "source": [
    "# Data Visualization\n",
    "A quick look at the data."
   ]
  },
  {
   "cell_type": "code",
   "execution_count": 18,
   "id": "7c37ab9e",
   "metadata": {
    "execution": {
     "iopub.execute_input": "2023-10-30T01:18:09.612984Z",
     "iopub.status.busy": "2023-10-30T01:18:09.611844Z",
     "iopub.status.idle": "2023-10-30T01:18:10.289372Z",
     "shell.execute_reply": "2023-10-30T01:18:10.288399Z"
    },
    "papermill": {
     "duration": 0.700692,
     "end_time": "2023-10-30T01:18:10.291584",
     "exception": false,
     "start_time": "2023-10-30T01:18:09.590892",
     "status": "completed"
    },
    "tags": []
   },
   "outputs": [
    {
     "data": {
      "image/png": "[encoded data removed]",
      "text/plain": [
       "<Figure size 640x480 with 1 Axes>"
      ]
     },
     "metadata": {},
     "output_type": "display_data"
    }
   ],
   "source": [
    "ax = plt.subplot()\n",
    "sns.barplot(x = dataset.Continent.value_counts(ascending= False).values,\n",
    "            y= dataset.Continent.unique(), ax= ax, hue= dataset.Continent.unique())\n",
    "plt.title(\"Count of Heritage Areas by Continent\")\n",
    "plt.show()"
   ]
  },
  {
   "cell_type": "code",
   "execution_count": 19,
   "id": "8a1006cc",
   "metadata": {
    "execution": {
     "iopub.execute_input": "2023-10-30T01:18:10.336849Z",
     "iopub.status.busy": "2023-10-30T01:18:10.335681Z",
     "iopub.status.idle": "2023-10-30T01:18:10.638922Z",
     "shell.execute_reply": "2023-10-30T01:18:10.637654Z"
    },
    "papermill": {
     "duration": 0.32961,
     "end_time": "2023-10-30T01:18:10.641838",
     "exception": false,
     "start_time": "2023-10-30T01:18:10.312228",
     "status": "completed"
    },
    "tags": []
   },
   "outputs": [
    {
     "data": {
      "image/png": "[encoded data removed]",
      "text/plain": [
       "<Figure size 640x480 with 1 Axes>"
      ]
     },
     "metadata": {},
     "output_type": "display_data"
    }
   ],
   "source": [
    "ax = plt.subplot()\n",
    "sns.barplot(x = dataset.groupby(\"Continent\")[\"Hectares\"].mean(),\n",
    "            y= dataset[\"Continent\"].unique(), ax= ax)\n",
    "plt.title(\"Hectares Mean per Continent\")\n",
    "plt.show()"
   ]
  },
  {
   "cell_type": "markdown",
   "id": "b3963d6d",
   "metadata": {
    "papermill": {
     "duration": 0.021114,
     "end_time": "2023-10-30T01:18:10.684682",
     "exception": false,
     "start_time": "2023-10-30T01:18:10.663568",
     "status": "completed"
    },
    "tags": []
   },
   "source": [
    " # Data Engineering\n",
    " Building a new variable using the Hectares mean of each Continent."
   ]
  },
  {
   "cell_type": "code",
   "execution_count": 20,
   "id": "649e132c",
   "metadata": {
    "execution": {
     "iopub.execute_input": "2023-10-30T01:18:10.729283Z",
     "iopub.status.busy": "2023-10-30T01:18:10.728839Z",
     "iopub.status.idle": "2023-10-30T01:18:10.737378Z",
     "shell.execute_reply": "2023-10-30T01:18:10.736149Z"
    },
    "papermill": {
     "duration": 0.033632,
     "end_time": "2023-10-30T01:18:10.740050",
     "exception": false,
     "start_time": "2023-10-30T01:18:10.706418",
     "status": "completed"
    },
    "tags": []
   },
   "outputs": [],
   "source": [
    "dataset[\"Hectares_Mean\"] = (\n",
    "    dataset.groupby(\"Continent\")[\"Hectares\"].transform(\"mean\")\n",
    ")"
   ]
  },
  {
   "cell_type": "markdown",
   "id": "d9685fab",
   "metadata": {
    "papermill": {
     "duration": 0.021702,
     "end_time": "2023-10-30T01:18:10.783480",
     "exception": false,
     "start_time": "2023-10-30T01:18:10.761778",
     "status": "completed"
    },
    "tags": []
   },
   "source": [
    "# PCA"
   ]
  },
  {
   "cell_type": "code",
   "execution_count": 21,
   "id": "79a8182d",
   "metadata": {
    "execution": {
     "iopub.execute_input": "2023-10-30T01:18:10.827713Z",
     "iopub.status.busy": "2023-10-30T01:18:10.827277Z",
     "iopub.status.idle": "2023-10-30T01:18:10.837684Z",
     "shell.execute_reply": "2023-10-30T01:18:10.836461Z"
    },
    "papermill": {
     "duration": 0.035561,
     "end_time": "2023-10-30T01:18:10.840233",
     "exception": false,
     "start_time": "2023-10-30T01:18:10.804672",
     "status": "completed"
    },
    "tags": []
   },
   "outputs": [
    {
     "data": {
      "text/plain": [
       "array(['AF', 'Cultural', 182.0, 971077.2335416666], dtype=object)"
      ]
     },
     "execution_count": 21,
     "metadata": {},
     "output_type": "execute_result"
    }
   ],
   "source": [
    "columns = ['Continent', 'Criteria', 'Hectares', 'Hectares_Mean']\n",
    "\n",
    "X = dataset[columns].values\n",
    "labels = dataset.Continent\n",
    "X[0]"
   ]
  },
  {
   "cell_type": "markdown",
   "id": "c7533829",
   "metadata": {
    "papermill": {
     "duration": 0.02133,
     "end_time": "2023-10-30T01:18:10.883948",
     "exception": false,
     "start_time": "2023-10-30T01:18:10.862618",
     "status": "completed"
    },
    "tags": []
   },
   "source": [
    "### Encode Categorical Variables and Scale "
   ]
  },
  {
   "cell_type": "code",
   "execution_count": 22,
   "id": "08dc6c1d",
   "metadata": {
    "execution": {
     "iopub.execute_input": "2023-10-30T01:18:10.928922Z",
     "iopub.status.busy": "2023-10-30T01:18:10.928384Z",
     "iopub.status.idle": "2023-10-30T01:18:10.966843Z",
     "shell.execute_reply": "2023-10-30T01:18:10.965478Z"
    },
    "papermill": {
     "duration": 0.064185,
     "end_time": "2023-10-30T01:18:10.969783",
     "exception": false,
     "start_time": "2023-10-30T01:18:10.905598",
     "status": "completed"
    },
    "tags": []
   },
   "outputs": [],
   "source": [
    "from sklearn.preprocessing import OneHotEncoder, LabelEncoder\n",
    "from sklearn.compose import ColumnTransformer\n",
    "from sklearn.preprocessing import StandardScaler\n",
    "\n",
    "continent_enc = LabelEncoder()\n",
    "criteria_enc = LabelEncoder()\n",
    "hectares_sc = StandardScaler()\n",
    "\n",
    "X[:, 0] = continent_enc.fit_transform(X[:, 0])\n",
    "X[:, 1] = criteria_enc.fit_transform(X[:, 1])\n",
    "\n",
    "ct = ColumnTransformer(\n",
    "    [('one_hot_encoder', OneHotEncoder(categories='auto'), [0])], \n",
    "    remainder='passthrough')\n",
    "X = ct.fit_transform(X)\n",
    "X[:, [-2, -1]] = hectares_sc.fit_transform(X[:, [-2,-1]])"
   ]
  },
  {
   "cell_type": "code",
   "execution_count": 23,
   "id": "41dd7dd3",
   "metadata": {
    "execution": {
     "iopub.execute_input": "2023-10-30T01:18:11.013619Z",
     "iopub.status.busy": "2023-10-30T01:18:11.013191Z",
     "iopub.status.idle": "2023-10-30T01:18:11.044012Z",
     "shell.execute_reply": "2023-10-30T01:18:11.042521Z"
    },
    "papermill": {
     "duration": 0.056329,
     "end_time": "2023-10-30T01:18:11.046918",
     "exception": false,
     "start_time": "2023-10-30T01:18:10.990589",
     "status": "completed"
    },
    "tags": []
   },
   "outputs": [
    {
     "data": {
      "text/html": [
       "<div>\n",
       "<style scoped>\n",
       "    .dataframe tbody tr th:only-of-type {\n",
       "        vertical-align: middle;\n",
       "    }\n",
       "\n",
       "    .dataframe tbody tr th {\n",
       "        vertical-align: top;\n",
       "    }\n",
       "\n",
       "    .dataframe thead th {\n",
       "        text-align: right;\n",
       "    }\n",
       "</style>\n",
       "<table border=\"1\" class=\"dataframe\">\n",
       "  <thead>\n",
       "    <tr style=\"text-align: right;\">\n",
       "      <th></th>\n",
       "      <th>Variance</th>\n",
       "    </tr>\n",
       "    <tr>\n",
       "      <th>Components</th>\n",
       "      <th></th>\n",
       "    </tr>\n",
       "  </thead>\n",
       "  <tbody>\n",
       "    <tr>\n",
       "      <th>0</th>\n",
       "      <td>0.491764</td>\n",
       "    </tr>\n",
       "    <tr>\n",
       "      <th>1</th>\n",
       "      <td>0.753186</td>\n",
       "    </tr>\n",
       "    <tr>\n",
       "      <th>2</th>\n",
       "      <td>0.850308</td>\n",
       "    </tr>\n",
       "  </tbody>\n",
       "</table>\n",
       "</div>"
      ],
      "text/plain": [
       "            Variance\n",
       "Components          \n",
       "0           0.491764\n",
       "1           0.753186\n",
       "2           0.850308"
      ]
     },
     "execution_count": 23,
     "metadata": {},
     "output_type": "execute_result"
    }
   ],
   "source": [
    "from sklearn.decomposition import PCA\n",
    "\n",
    "pca = PCA(n_components= 3).fit(X)\n",
    "X2 = pca.transform(X)\n",
    "pd.DataFrame(np.cumsum(pca.explained_variance_ratio_), columns = [\"Variance\"]).rename_axis('Components')"
   ]
  },
  {
   "cell_type": "code",
   "execution_count": 24,
   "id": "7aca19dd",
   "metadata": {
    "execution": {
     "iopub.execute_input": "2023-10-30T01:18:11.094383Z",
     "iopub.status.busy": "2023-10-30T01:18:11.093889Z",
     "iopub.status.idle": "2023-10-30T01:18:11.113238Z",
     "shell.execute_reply": "2023-10-30T01:18:11.111692Z"
    },
    "papermill": {
     "duration": 0.04626,
     "end_time": "2023-10-30T01:18:11.115599",
     "exception": false,
     "start_time": "2023-10-30T01:18:11.069339",
     "status": "completed"
    },
    "tags": []
   },
   "outputs": [
    {
     "data": {
      "text/html": [
       "<div>\n",
       "<style scoped>\n",
       "    .dataframe tbody tr th:only-of-type {\n",
       "        vertical-align: middle;\n",
       "    }\n",
       "\n",
       "    .dataframe tbody tr th {\n",
       "        vertical-align: top;\n",
       "    }\n",
       "\n",
       "    .dataframe thead th {\n",
       "        text-align: right;\n",
       "    }\n",
       "</style>\n",
       "<table border=\"1\" class=\"dataframe\">\n",
       "  <thead>\n",
       "    <tr style=\"text-align: right;\">\n",
       "      <th></th>\n",
       "      <th>Continent</th>\n",
       "      <th>Component1</th>\n",
       "      <th>Component2</th>\n",
       "      <th>Component3</th>\n",
       "    </tr>\n",
       "  </thead>\n",
       "  <tbody>\n",
       "    <tr>\n",
       "      <th>0</th>\n",
       "      <td>AF</td>\n",
       "      <td>0.338619</td>\n",
       "      <td>-0.804815</td>\n",
       "      <td>-0.187849</td>\n",
       "    </tr>\n",
       "    <tr>\n",
       "      <th>1</th>\n",
       "      <td>AF</td>\n",
       "      <td>3.171847</td>\n",
       "      <td>2.791127</td>\n",
       "      <td>-0.497973</td>\n",
       "    </tr>\n",
       "    <tr>\n",
       "      <th>2</th>\n",
       "      <td>AS</td>\n",
       "      <td>-0.973323</td>\n",
       "      <td>0.216432</td>\n",
       "      <td>0.497208</td>\n",
       "    </tr>\n",
       "    <tr>\n",
       "      <th>3</th>\n",
       "      <td>AS</td>\n",
       "      <td>-0.743859</td>\n",
       "      <td>0.530108</td>\n",
       "      <td>0.509752</td>\n",
       "    </tr>\n",
       "    <tr>\n",
       "      <th>4</th>\n",
       "      <td>AS</td>\n",
       "      <td>-0.973413</td>\n",
       "      <td>0.216309</td>\n",
       "      <td>0.497203</td>\n",
       "    </tr>\n",
       "    <tr>\n",
       "      <th>...</th>\n",
       "      <td>...</td>\n",
       "      <td>...</td>\n",
       "      <td>...</td>\n",
       "      <td>...</td>\n",
       "    </tr>\n",
       "    <tr>\n",
       "      <th>91</th>\n",
       "      <td>AF</td>\n",
       "      <td>0.568140</td>\n",
       "      <td>-0.491061</td>\n",
       "      <td>-0.175301</td>\n",
       "    </tr>\n",
       "    <tr>\n",
       "      <th>92</th>\n",
       "      <td>AF</td>\n",
       "      <td>0.338575</td>\n",
       "      <td>-0.804876</td>\n",
       "      <td>-0.187851</td>\n",
       "    </tr>\n",
       "    <tr>\n",
       "      <th>93</th>\n",
       "      <td>AS</td>\n",
       "      <td>-0.743859</td>\n",
       "      <td>0.530108</td>\n",
       "      <td>0.509752</td>\n",
       "    </tr>\n",
       "    <tr>\n",
       "      <th>94</th>\n",
       "      <td>EU</td>\n",
       "      <td>-1.043836</td>\n",
       "      <td>0.248555</td>\n",
       "      <td>-0.376863</td>\n",
       "    </tr>\n",
       "    <tr>\n",
       "      <th>95</th>\n",
       "      <td>NA</td>\n",
       "      <td>0.117124</td>\n",
       "      <td>0.169096</td>\n",
       "      <td>-0.430663</td>\n",
       "    </tr>\n",
       "  </tbody>\n",
       "</table>\n",
       "<p>96 rows × 4 columns</p>\n",
       "</div>"
      ],
      "text/plain": [
       "   Continent  Component1  Component2  Component3\n",
       "0         AF    0.338619   -0.804815   -0.187849\n",
       "1         AF    3.171847    2.791127   -0.497973\n",
       "2         AS   -0.973323    0.216432    0.497208\n",
       "3         AS   -0.743859    0.530108    0.509752\n",
       "4         AS   -0.973413    0.216309    0.497203\n",
       "..       ...         ...         ...         ...\n",
       "91        AF    0.568140   -0.491061   -0.175301\n",
       "92        AF    0.338575   -0.804876   -0.187851\n",
       "93        AS   -0.743859    0.530108    0.509752\n",
       "94        EU   -1.043836    0.248555   -0.376863\n",
       "95        NA    0.117124    0.169096   -0.430663\n",
       "\n",
       "[96 rows x 4 columns]"
      ]
     },
     "execution_count": 24,
     "metadata": {},
     "output_type": "execute_result"
    }
   ],
   "source": [
    "df_components = pd.DataFrame(X2, labels, columns= ['Component1', 'Component2', 'Component3'])\\\n",
    ".reset_index()\n",
    "df_components"
   ]
  },
  {
   "cell_type": "markdown",
   "id": "94ee9be0",
   "metadata": {
    "papermill": {
     "duration": 0.020954,
     "end_time": "2023-10-30T01:18:11.157887",
     "exception": false,
     "start_time": "2023-10-30T01:18:11.136933",
     "status": "completed"
    },
    "tags": []
   },
   "source": [
    "### 2 Components Plot"
   ]
  },
  {
   "cell_type": "code",
   "execution_count": 25,
   "id": "e7ea4880",
   "metadata": {
    "execution": {
     "iopub.execute_input": "2023-10-30T01:18:11.204747Z",
     "iopub.status.busy": "2023-10-30T01:18:11.204293Z",
     "iopub.status.idle": "2023-10-30T01:18:11.743139Z",
     "shell.execute_reply": "2023-10-30T01:18:11.741803Z"
    },
    "papermill": {
     "duration": 0.56642,
     "end_time": "2023-10-30T01:18:11.745708",
     "exception": false,
     "start_time": "2023-10-30T01:18:11.179288",
     "status": "completed"
    },
    "tags": []
   },
   "outputs": [
    {
     "data": {
      "image/png": "[encoded data removed]",
      "text/plain": [
       "<Figure size 640x480 with 1 Axes>"
      ]
     },
     "metadata": {},
     "output_type": "display_data"
    }
   ],
   "source": [
    "sns.scatterplot(data = df_components, x= \"Component1\", y= \"Component2\", hue= \"Continent\")\n",
    "plt.title(\"Dataset Components\")\n",
    "plt.show()"
   ]
  },
  {
   "cell_type": "markdown",
   "id": "98cca13d",
   "metadata": {
    "papermill": {
     "duration": 0.021141,
     "end_time": "2023-10-30T01:18:11.788439",
     "exception": false,
     "start_time": "2023-10-30T01:18:11.767298",
     "status": "completed"
    },
    "tags": []
   },
   "source": [
    "### 3 Components Plot"
   ]
  },
  {
   "cell_type": "code",
   "execution_count": 26,
   "id": "2905966a",
   "metadata": {
    "execution": {
     "iopub.execute_input": "2023-10-30T01:18:11.835304Z",
     "iopub.status.busy": "2023-10-30T01:18:11.834029Z",
     "iopub.status.idle": "2023-10-30T01:18:14.064183Z",
     "shell.execute_reply": "2023-10-30T01:18:14.062755Z"
    },
    "papermill": {
     "duration": 2.256433,
     "end_time": "2023-10-30T01:18:14.067200",
     "exception": false,
     "start_time": "2023-10-30T01:18:11.810767",
     "status": "completed"
    },
    "tags": []
   },
   "outputs": [
    {
     "data": {
      "text/html": [
       "        <script type=\"text/javascript\">\n",
       "        window.PlotlyConfig = {MathJaxConfig: 'local'};\n",
       "        if (window.MathJax && window.MathJax.Hub && window.MathJax.Hub.Config) {window.MathJax.Hub.Config({SVG: {font: \"STIX-Web\"}});}\n",
       "        if (typeof require !== 'undefined') {\n",
       "        require.undef(\"plotly\");\n",
       "        requirejs.config({\n",
       "            paths: {\n",
       "                'plotly': ['https://cdn.plot.ly/plotly-2.24.1.min']\n",
       "            }\n",
       "        });\n",
       "        require(['plotly'], function(Plotly) {\n",
       "            window._Plotly = Plotly;\n",
       "        });\n",
       "        }\n",
       "        </script>\n",
       "        "
      ]
     },
     "metadata": {},
     "output_type": "display_data"
    },
    {
     "data": {
      "text/html": [
       "<div>                            <div id=\"5390da5f-36fd-4d2e-9544-4de7e962b140\" class=\"plotly-graph-div\" style=\"height:525px; width:100%;\"></div>            <script type=\"text/javascript\">                require([\"plotly\"], function(Plotly) {                    window.PLOTLYENV=window.PLOTLYENV || {};                                    if (document.getElementById(\"5390da5f-36fd-4d2e-9544-4de7e962b140\")) {                    Plotly.newPlot(                        \"5390da5f-36fd-4d2e-9544-4de7e962b140\",                        [{\"hovertemplate\":\"Continent=AF\\u003cbr\\u003eComponent1=%{x}\\u003cbr\\u003eComponent2=%{y}\\u003cbr\\u003eComponent3=%{z}\\u003cextra\\u003e\\u003c\\u002fextra\\u003e\",\"legendgroup\":\"AF\",\"marker\":{\"color\":\"#636efa\",\"symbol\":\"circle\"},\"mode\":\"markers\",\"name\":\"AF\",\"scene\":\"scene\",\"showlegend\":true,\"x\":[0.3386190434503457,3.17184749145832,0.5681398745998345,0.5681398745998345,0.5681398745998345,0.7045738605589501,0.7386710638604892,0.589149712802745,1.127379181498035,0.5402253406455316,0.8453953101943066,1.0021145808690057,0.5681398745998345,0.5681398745998345,0.697638489407417,0.5681398745998345,2.279864653090057,0.5681398745998345,0.3385584322617569,0.3385661927852283,0.8068654704635675,0.9262056820189543,0.5395433965795008,0.5383840916672485,0.7636707321107522,0.33857335319792164,0.5681398745998345,0.5680486585395875,1.7615871629066624,0.5415892287775932,0.5681398745998345,0.3385747170860537],\"y\":[-0.8048153702789941,2.791126827454673,-0.4910607993792192,-0.4910607993792192,-0.4910607993792192,-0.5816318693407896,-0.5350210526354902,-0.7394164755107338,-0.003657742195077265,-0.8062960058603326,-0.3891291963479031,-0.1748942300661709,-0.4910607993792192,-0.4910607993792192,-0.5911125094586475,-0.4910607993792192,1.5717878624440418,-0.4910607993792192,-0.8048982256667694,-0.8048876170448873,-0.4417994192248914,-0.27866156075634363,-0.8072282221944386,-0.8088129899624187,-0.5008465502811079,-0.8048778287733792,-0.4910607993792192,-0.7682615794288082,0.8633034485234911,-0.8044315731921206,-0.4910607993792192,-0.804875964340711],\"z\":[-0.18784853993553172,-0.4979733037453929,-0.17530081331760636,-0.17530081331760636,-0.17530081331760636,-0.6328572480788716,-0.6309931803020131,-0.6391673971137041,-0.6097428076458266,-0.6418420547633295,-0.6251586481604461,-0.6165909266410604,-0.17530081331760636,-0.17530081331760636,-0.6332363994646846,-0.17530081331760636,-0.5467373167880104,-0.17530081331760636,-0.18785185350241188,-0.18785142924058587,-0.6272650447482963,-0.6207408075292916,-0.6418793361188666,-0.6419427144232798,-0.6296264677418847,-0.18785103778635273,-0.17530081331760636,-0.640320975457413,-0.575071146996259,-0.6417674920522551,-0.17530081331760636,-0.18785096322364167],\"type\":\"scatter3d\"},{\"hovertemplate\":\"Continent=AS\\u003cbr\\u003eComponent1=%{x}\\u003cbr\\u003eComponent2=%{y}\\u003cbr\\u003eComponent3=%{z}\\u003cextra\\u003e\\u003c\\u002fextra\\u003e\",\"legendgroup\":\"AS\",\"marker\":{\"color\":\"#EF553B\",\"symbol\":\"diamond\"},\"mode\":\"markers\",\"name\":\"AS\",\"scene\":\"scene\",\"showlegend\":true,\"x\":[-0.9733226757388955,-0.7438591278909533,-0.9734126923556116,-0.9692514696646918,-0.9734181479081399,-0.9734389472021537,-0.9733878013972015,-0.9733315410117539,-0.9734349919265708,-0.9733601826625272,-0.7438591278909533,-0.9733140525561805,-0.9734181479081399,-0.7438591278909533,-0.7438591278909533,-0.9733230167109286,-0.7438591278909533,-0.9734174659640739,-0.9683076590773052,-0.973441893200519,0.10695354776750055,-0.7438591278909533,-0.9734393325005511,-0.7438591278909533,-0.7438591278909533,-0.9734409998537925,-0.7438591278909533,-0.7438591278909533,-0.7438591278909533,-0.9733850736209373,-0.7645791519486315,-0.8029559994427553,-0.7438591278909533],\"y\":[0.21643191454158672,0.5301081792692968,0.2163088619854847,0.22199724605619947,0.21630140425481187,0.21627297165662165,0.2163428878816796,0.21641979572924333,0.21627837851135948,0.21638064264321089,0.5301081792692968,0.21644370241713148,0.21630140425481187,0.5301081792692968,0.5301081792692968,0.21643144843341963,0.5301081792692968,0.216302336471146,0.22328743346260216,0.2162689444820583,1.4160915166964627,0.5301081792692968,0.21627244495439285,0.5301081792692968,0.5301081792692968,0.21627016568545596,0.5301081792692968,0.5301081792692968,0.5301081792692968,0.21634661674701602,0.22470785511300154,0.44932286020961504,0.5301081792692968],\"z\":[0.49720753902812553,0.5097521340121858,0.4972026178891946,0.4974301087206824,0.49720231963835027,0.4972011825570064,0.4972039786586717,0.4972070543705035,0.4972013987888686,0.49720548855357094,0.5097521340121858,0.49720801045086627,0.49720231963835027,0.5097521340121858,0.5097521340121858,0.49720752038744775,0.5097521340121858,0.4972023569197058,0.4974817061167459,0.49720102150155054,0.09125023062014868,0.5097521340121858,0.4972011614930405,0.5097521340121858,0.5097521340121858,0.4972010703401263,0.5097521340121858,0.5097521340121858,0.5097521340121858,0.49720412778409384,0.0436042108673798,0.5065213536751989,0.5097521340121858],\"type\":\"scatter3d\"},{\"hovertemplate\":\"Continent=SA\\u003cbr\\u003eComponent1=%{x}\\u003cbr\\u003eComponent2=%{y}\\u003cbr\\u003eComponent3=%{z}\\u003cextra\\u003e\\u003c\\u002fextra\\u003e\",\"legendgroup\":\"SA\",\"marker\":{\"color\":\"#00cc96\",\"symbol\":\"square\"},\"mode\":\"markers\",\"name\":\"SA\",\"scene\":\"scene\",\"showlegend\":true,\"x\":[1.6874999975308393,1.6913222940209418,1.6873318983185628,6.679114147841409,1.9168783023705278,1.9408208410294037,1.9073762581990559,1.975545091899658],\"y\":[-1.7892485127567574,-1.7840234402040935,-1.7894783040831146,4.757203128806396,-1.4756887750708108,-1.7200354548575025,-1.7657541405310624,-1.6725674652329927],\"z\":[1.1447144416889257,1.1449234036867115,1.1447052518347858,0.9525869576592713,1.1572543765035437,0.6935481211769335,0.6917197316573241,0.6954464691602085],\"type\":\"scatter3d\"},{\"hovertemplate\":\"Continent=OC\\u003cbr\\u003eComponent1=%{x}\\u003cbr\\u003eComponent2=%{y}\\u003cbr\\u003eComponent3=%{z}\\u003cextra\\u003e\\u003c\\u002fextra\\u003e\",\"legendgroup\":\"OC\",\"marker\":{\"color\":\"#ab63fa\",\"symbol\":\"x\"},\"mode\":\"markers\",\"name\":\"OC\",\"scene\":\"scene\",\"showlegend\":true,\"x\":[-1.0592227330894846,-1.2673434032670394],\"y\":[0.42658586361119727,0.41916136282853816],\"z\":[-0.7580211586898513,-0.3043837796030257],\"type\":\"scatter3d\"},{\"hovertemplate\":\"Continent=NA\\u003cbr\\u003eComponent1=%{x}\\u003cbr\\u003eComponent2=%{y}\\u003cbr\\u003eComponent3=%{z}\\u003cextra\\u003e\\u003c\\u002fextra\\u003e\",\"legendgroup\":\"NA\",\"marker\":{\"color\":\"#FFA15A\",\"symbol\":\"cross\"},\"mode\":\"markers\",\"name\":\"NA\",\"scene\":\"scene\",\"showlegend\":true,\"x\":[0.012981678740957526,-0.1551354285259482,0.0455915620344835,0.04039542898496945,-0.15635185229514603,0.1171244258128154],\"y\":[0.02673338954700497,0.07399368862601115,0.0713110424276192,0.06420793772412245,-0.2047452483748528,0.16909634090183379],\"z\":[-0.43635630151767496,0.01946804146533349,-0.43457354437724305,-0.43485761295894493,-0.4456136349111095,-0.4306628979474939],\"type\":\"scatter3d\"},{\"hovertemplate\":\"Continent=EU\\u003cbr\\u003eComponent1=%{x}\\u003cbr\\u003eComponent2=%{y}\\u003cbr\\u003eComponent3=%{z}\\u003cextra\\u003e\\u003c\\u002fextra\\u003e\",\"legendgroup\":\"EU\",\"marker\":{\"color\":\"#19d3f3\",\"symbol\":\"circle\"},\"mode\":\"markers\",\"name\":\"EU\",\"scene\":\"scene\",\"showlegend\":true,\"x\":[-0.8145835146284133,-0.8145835146284133,-0.8145835146284133,-1.0440399020636622,-1.0441654206884559,-1.0440591942612902,-1.0428093339965097,-0.8145835146284133,-1.0435083266641911,-1.0441333284007084,-1.0441200304914207,-0.8145835146284133,-0.8420888821430977,-0.8484180050199294,-1.043836000787919],\"y\":[0.5619425154721649,0.5619425154721649,0.5619425154721649,0.24827603901596304,0.2481044552775075,0.24824966661587122,0.2499582233908573,0.5619425154721649,0.2490027016483987,0.24814832537819054,0.2481665035967056,0.5619425154721649,0.24726663879151517,0.23861473899467747,0.24855477169986073],\"z\":[-0.36432990234924717,-0.36432990234924717,-0.36432990234924717,-0.3768741058790743,-0.37688096788537445,-0.3768751605686224,-0.37680683167300744,-0.36432990234924717,-0.37684504506243305,-0.37687921342478287,-0.3768784864383499,-0.36432990234924717,-0.830848774981648,-0.8311947832423884,-0.3768629587537687],\"type\":\"scatter3d\"}],                        {\"template\":{\"data\":{\"histogram2dcontour\":[{\"type\":\"histogram2dcontour\",\"colorbar\":{\"outlinewidth\":0,\"ticks\":\"\"},\"colorscale\":[[0.0,\"#0d0887\"],[0.1111111111111111,\"#46039f\"],[0.2222222222222222,\"#7201a8\"],[0.3333333333333333,\"#9c179e\"],[0.4444444444444444,\"#bd3786\"],[0.5555555555555556,\"#d8576b\"],[0.6666666666666666,\"#ed7953\"],[0.7777777777777778,\"#fb9f3a\"],[0.8888888888888888,\"#fdca26\"],[1.0,\"#f0f921\"]]}],\"choropleth\":[{\"type\":\"choropleth\",\"colorbar\":{\"outlinewidth\":0,\"ticks\":\"\"}}],\"histogram2d\":[{\"type\":\"histogram2d\",\"colorbar\":{\"outlinewidth\":0,\"ticks\":\"\"},\"colorscale\":[[0.0,\"#0d0887\"],[0.1111111111111111,\"#46039f\"],[0.2222222222222222,\"#7201a8\"],[0.3333333333333333,\"#9c179e\"],[0.4444444444444444,\"#bd3786\"],[0.5555555555555556,\"#d8576b\"],[0.6666666666666666,\"#ed7953\"],[0.7777777777777778,\"#fb9f3a\"],[0.8888888888888888,\"#fdca26\"],[1.0,\"#f0f921\"]]}],\"heatmap\":[{\"type\":\"heatmap\",\"colorbar\":{\"outlinewidth\":0,\"ticks\":\"\"},\"colorscale\":[[0.0,\"#0d0887\"],[0.1111111111111111,\"#46039f\"],[0.2222222222222222,\"#7201a8\"],[0.3333333333333333,\"#9c179e\"],[0.4444444444444444,\"#bd3786\"],[0.5555555555555556,\"#d8576b\"],[0.6666666666666666,\"#ed7953\"],[0.7777777777777778,\"#fb9f3a\"],[0.8888888888888888,\"#fdca26\"],[1.0,\"#f0f921\"]]}],\"heatmapgl\":[{\"type\":\"heatmapgl\",\"colorbar\":{\"outlinewidth\":0,\"ticks\":\"\"},\"colorscale\":[[0.0,\"#0d0887\"],[0.1111111111111111,\"#46039f\"],[0.2222222222222222,\"#7201a8\"],[0.3333333333333333,\"#9c179e\"],[0.4444444444444444,\"#bd3786\"],[0.5555555555555556,\"#d8576b\"],[0.6666666666666666,\"#ed7953\"],[0.7777777777777778,\"#fb9f3a\"],[0.8888888888888888,\"#fdca26\"],[1.0,\"#f0f921\"]]}],\"contourcarpet\":[{\"type\":\"contourcarpet\",\"colorbar\":{\"outlinewidth\":0,\"ticks\":\"\"}}],\"contour\":[{\"type\":\"contour\",\"colorbar\":{\"outlinewidth\":0,\"ticks\":\"\"},\"colorscale\":[[0.0,\"#0d0887\"],[0.1111111111111111,\"#46039f\"],[0.2222222222222222,\"#7201a8\"],[0.3333333333333333,\"#9c179e\"],[0.4444444444444444,\"#bd3786\"],[0.5555555555555556,\"#d8576b\"],[0.6666666666666666,\"#ed7953\"],[0.7777777777777778,\"#fb9f3a\"],[0.8888888888888888,\"#fdca26\"],[1.0,\"#f0f921\"]]}],\"surface\":[{\"type\":\"surface\",\"colorbar\":{\"outlinewidth\":0,\"ticks\":\"\"},\"colorscale\":[[0.0,\"#0d0887\"],[0.1111111111111111,\"#46039f\"],[0.2222222222222222,\"#7201a8\"],[0.3333333333333333,\"#9c179e\"],[0.4444444444444444,\"#bd3786\"],[0.5555555555555556,\"#d8576b\"],[0.6666666666666666,\"#ed7953\"],[0.7777777777777778,\"#fb9f3a\"],[0.8888888888888888,\"#fdca26\"],[1.0,\"#f0f921\"]]}],\"mesh3d\":[{\"type\":\"mesh3d\",\"colorbar\":{\"outlinewidth\":0,\"ticks\":\"\"}}],\"scatter\":[{\"fillpattern\":{\"fillmode\":\"overlay\",\"size\":10,\"solidity\":0.2},\"type\":\"scatter\"}],\"parcoords\":[{\"type\":\"parcoords\",\"line\":{\"colorbar\":{\"outlinewidth\":0,\"ticks\":\"\"}}}],\"scatterpolargl\":[{\"type\":\"scatterpolargl\",\"marker\":{\"colorbar\":{\"outlinewidth\":0,\"ticks\":\"\"}}}],\"bar\":[{\"error_x\":{\"color\":\"#2a3f5f\"},\"error_y\":{\"color\":\"#2a3f5f\"},\"marker\":{\"line\":{\"color\":\"#E5ECF6\",\"width\":0.5},\"pattern\":{\"fillmode\":\"overlay\",\"size\":10,\"solidity\":0.2}},\"type\":\"bar\"}],\"scattergeo\":[{\"type\":\"scattergeo\",\"marker\":{\"colorbar\":{\"outlinewidth\":0,\"ticks\":\"\"}}}],\"scatterpolar\":[{\"type\":\"scatterpolar\",\"marker\":{\"colorbar\":{\"outlinewidth\":0,\"ticks\":\"\"}}}],\"histogram\":[{\"marker\":{\"pattern\":{\"fillmode\":\"overlay\",\"size\":10,\"solidity\":0.2}},\"type\":\"histogram\"}],\"scattergl\":[{\"type\":\"scattergl\",\"marker\":{\"colorbar\":{\"outlinewidth\":0,\"ticks\":\"\"}}}],\"scatter3d\":[{\"type\":\"scatter3d\",\"line\":{\"colorbar\":{\"outlinewidth\":0,\"ticks\":\"\"}},\"marker\":{\"colorbar\":{\"outlinewidth\":0,\"ticks\":\"\"}}}],\"scattermapbox\":[{\"type\":\"scattermapbox\",\"marker\":{\"colorbar\":{\"outlinewidth\":0,\"ticks\":\"\"}}}],\"scatterternary\":[{\"type\":\"scatterternary\",\"marker\":{\"colorbar\":{\"outlinewidth\":0,\"ticks\":\"\"}}}],\"scattercarpet\":[{\"type\":\"scattercarpet\",\"marker\":{\"colorbar\":{\"outlinewidth\":0,\"ticks\":\"\"}}}],\"carpet\":[{\"aaxis\":{\"endlinecolor\":\"#2a3f5f\",\"gridcolor\":\"white\",\"linecolor\":\"white\",\"minorgridcolor\":\"white\",\"startlinecolor\":\"#2a3f5f\"},\"baxis\":{\"endlinecolor\":\"#2a3f5f\",\"gridcolor\":\"white\",\"linecolor\":\"white\",\"minorgridcolor\":\"white\",\"startlinecolor\":\"#2a3f5f\"},\"type\":\"carpet\"}],\"table\":[{\"cells\":{\"fill\":{\"color\":\"#EBF0F8\"},\"line\":{\"color\":\"white\"}},\"header\":{\"fill\":{\"color\":\"#C8D4E3\"},\"line\":{\"color\":\"white\"}},\"type\":\"table\"}],\"barpolar\":[{\"marker\":{\"line\":{\"color\":\"#E5ECF6\",\"width\":0.5},\"pattern\":{\"fillmode\":\"overlay\",\"size\":10,\"solidity\":0.2}},\"type\":\"barpolar\"}],\"pie\":[{\"automargin\":true,\"type\":\"pie\"}]},\"layout\":{\"autotypenumbers\":\"strict\",\"colorway\":[\"#636efa\",\"#EF553B\",\"#00cc96\",\"#ab63fa\",\"#FFA15A\",\"#19d3f3\",\"#FF6692\",\"#B6E880\",\"#FF97FF\",\"#FECB52\"],\"font\":{\"color\":\"#2a3f5f\"},\"hovermode\":\"closest\",\"hoverlabel\":{\"align\":\"left\"},\"paper_bgcolor\":\"white\",\"plot_bgcolor\":\"#E5ECF6\",\"polar\":{\"bgcolor\":\"#E5ECF6\",\"angularaxis\":{\"gridcolor\":\"white\",\"linecolor\":\"white\",\"ticks\":\"\"},\"radialaxis\":{\"gridcolor\":\"white\",\"linecolor\":\"white\",\"ticks\":\"\"}},\"ternary\":{\"bgcolor\":\"#E5ECF6\",\"aaxis\":{\"gridcolor\":\"white\",\"linecolor\":\"white\",\"ticks\":\"\"},\"baxis\":{\"gridcolor\":\"white\",\"linecolor\":\"white\",\"ticks\":\"\"},\"caxis\":{\"gridcolor\":\"white\",\"linecolor\":\"white\",\"ticks\":\"\"}},\"coloraxis\":{\"colorbar\":{\"outlinewidth\":0,\"ticks\":\"\"}},\"colorscale\":{\"sequential\":[[0.0,\"#0d0887\"],[0.1111111111111111,\"#46039f\"],[0.2222222222222222,\"#7201a8\"],[0.3333333333333333,\"#9c179e\"],[0.4444444444444444,\"#bd3786\"],[0.5555555555555556,\"#d8576b\"],[0.6666666666666666,\"#ed7953\"],[0.7777777777777778,\"#fb9f3a\"],[0.8888888888888888,\"#fdca26\"],[1.0,\"#f0f921\"]],\"sequentialminus\":[[0.0,\"#0d0887\"],[0.1111111111111111,\"#46039f\"],[0.2222222222222222,\"#7201a8\"],[0.3333333333333333,\"#9c179e\"],[0.4444444444444444,\"#bd3786\"],[0.5555555555555556,\"#d8576b\"],[0.6666666666666666,\"#ed7953\"],[0.7777777777777778,\"#fb9f3a\"],[0.8888888888888888,\"#fdca26\"],[1.0,\"#f0f921\"]],\"diverging\":[[0,\"#8e0152\"],[0.1,\"#c51b7d\"],[0.2,\"#de77ae\"],[0.3,\"#f1b6da\"],[0.4,\"#fde0ef\"],[0.5,\"#f7f7f7\"],[0.6,\"#e6f5d0\"],[0.7,\"#b8e186\"],[0.8,\"#7fbc41\"],[0.9,\"#4d9221\"],[1,\"#276419\"]]},\"xaxis\":{\"gridcolor\":\"white\",\"linecolor\":\"white\",\"ticks\":\"\",\"title\":{\"standoff\":15},\"zerolinecolor\":\"white\",\"automargin\":true,\"zerolinewidth\":2},\"yaxis\":{\"gridcolor\":\"white\",\"linecolor\":\"white\",\"ticks\":\"\",\"title\":{\"standoff\":15},\"zerolinecolor\":\"white\",\"automargin\":true,\"zerolinewidth\":2},\"scene\":{\"xaxis\":{\"backgroundcolor\":\"#E5ECF6\",\"gridcolor\":\"white\",\"linecolor\":\"white\",\"showbackground\":true,\"ticks\":\"\",\"zerolinecolor\":\"white\",\"gridwidth\":2},\"yaxis\":{\"backgroundcolor\":\"#E5ECF6\",\"gridcolor\":\"white\",\"linecolor\":\"white\",\"showbackground\":true,\"ticks\":\"\",\"zerolinecolor\":\"white\",\"gridwidth\":2},\"zaxis\":{\"backgroundcolor\":\"#E5ECF6\",\"gridcolor\":\"white\",\"linecolor\":\"white\",\"showbackground\":true,\"ticks\":\"\",\"zerolinecolor\":\"white\",\"gridwidth\":2}},\"shapedefaults\":{\"line\":{\"color\":\"#2a3f5f\"}},\"annotationdefaults\":{\"arrowcolor\":\"#2a3f5f\",\"arrowhead\":0,\"arrowwidth\":1},\"geo\":{\"bgcolor\":\"white\",\"landcolor\":\"#E5ECF6\",\"subunitcolor\":\"white\",\"showland\":true,\"showlakes\":true,\"lakecolor\":\"white\"},\"title\":{\"x\":0.05},\"mapbox\":{\"style\":\"light\"}}},\"scene\":{\"domain\":{\"x\":[0.0,1.0],\"y\":[0.0,1.0]},\"xaxis\":{\"title\":{\"text\":\"Component1\"}},\"yaxis\":{\"title\":{\"text\":\"Component2\"}},\"zaxis\":{\"title\":{\"text\":\"Component3\"}}},\"legend\":{\"title\":{\"text\":\"Continent\"},\"tracegroupgap\":0},\"margin\":{\"t\":100,\"l\":0,\"r\":80,\"b\":0}},                        {\"responsive\": true}                    ).then(function(){\n",
       "                            \n",
       "var gd = document.getElementById('5390da5f-36fd-4d2e-9544-4de7e962b140');\n",
       "var x = new MutationObserver(function (mutations, observer) {{\n",
       "        var display = window.getComputedStyle(gd).display;\n",
       "        if (!display || display === 'none') {{\n",
       "            console.log([gd, 'removed!']);\n",
       "            Plotly.purge(gd);\n",
       "            observer.disconnect();\n",
       "        }}\n",
       "}});\n",
       "\n",
       "// Listen for the removal of the full notebook cells\n",
       "var notebookContainer = gd.closest('#notebook-container');\n",
       "if (notebookContainer) {{\n",
       "    x.observe(notebookContainer, {childList: true});\n",
       "}}\n",
       "\n",
       "// Listen for the clearing of the current output cell\n",
       "var outputEl = gd.closest('.output');\n",
       "if (outputEl) {{\n",
       "    x.observe(outputEl, {childList: true});\n",
       "}}\n",
       "\n",
       "                        })                };                });            </script>        </div>"
      ]
     },
     "metadata": {},
     "output_type": "display_data"
    }
   ],
   "source": [
    "fig = px.scatter_3d(data_frame= df_components, \n",
    "                    x= \"Component1\", y= \"Component2\", z= \"Component3\", \n",
    "                    color= \"Continent\", symbol= \"Continent\")\n",
    "fig.update_layout(margin=dict(l=0, r=80, b=0, t=100))\n",
    "fig.show()"
   ]
  },
  {
   "cell_type": "code",
   "execution_count": null,
   "id": "166c19dc",
   "metadata": {
    "papermill": {
     "duration": 0.023323,
     "end_time": "2023-10-30T01:18:14.113901",
     "exception": false,
     "start_time": "2023-10-30T01:18:14.090578",
     "status": "completed"
    },
    "tags": []
   },
   "outputs": [],
   "source": []
  }
 ],
 "metadata": {
  "kernelspec": {
   "display_name": "Python 3",
   "language": "python",
   "name": "python3"
  },
  "language_info": {
   "codemirror_mode": {
    "name": "ipython",
    "version": 3
   },
   "file_extension": ".py",
   "mimetype": "text/x-python",
   "name": "python",
   "nbconvert_exporter": "python",
   "pygments_lexer": "ipython3",
   "version": "3.10.12"
  },
  "papermill": {
   "default_parameters": {},
   "duration": 55.754634,
   "end_time": "2023-10-30T01:18:15.064324",
   "environment_variables": {},
   "exception": null,
   "input_path": "__notebook__.ipynb",
   "output_path": "__notebook__.ipynb",
   "parameters": {},
   "start_time": "2023-10-30T01:17:19.309690",
   "version": "2.4.0"
  }
 },
 "nbformat": 4,
 "nbformat_minor": 5
}
