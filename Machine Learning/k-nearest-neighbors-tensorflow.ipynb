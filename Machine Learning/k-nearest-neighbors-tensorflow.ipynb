{
 "cells": [
  {
   "cell_type": "markdown",
   "id": "2ac03481",
   "metadata": {
    "_cell_guid": "b1076dfc-b9ad-4769-8c92-a6c4dae69d19",
    "_uuid": "8f2839f25d086af736a60e9eeb907d3b93b6e0e5",
    "papermill": {
     "duration": 0.006508,
     "end_time": "2024-01-27T00:23:40.041532",
     "exception": false,
     "start_time": "2024-01-27T00:23:40.035024",
     "status": "completed"
    },
    "tags": []
   },
   "source": [
    "# K-Nearest Neighbors\n",
    "\n",
    "Data set with samples $\\vec{x}=~(x_1,x_2,x_3, \\cdots, x_n))$ with categories $\\vec{y}=~(y_1,y_2,y_3, \\cdots, y_n))$\n",
    "\n",
    "To predict a new sample $z$ we need to take a look at the $k$ nearest neighbors. For this, a regression is used if $~\\vec{y}~$ is continuous or classification if $~\\vec{y}~$ is discrete.\n",
    " \n",
    "In discrete classification problems, the prediction is made by majority vote, weighting the distance of the $K$ neighbors with the point to be predicted:\n"
   ]
  },
  {
   "cell_type": "markdown",
   "id": "1bbd6c92",
   "metadata": {
    "papermill": {
     "duration": 0.006082,
     "end_time": "2024-01-27T00:23:40.053941",
     "exception": false,
     "start_time": "2024-01-27T00:23:40.047859",
     "status": "completed"
    },
    "tags": []
   },
   "source": [
    "In continuous regression problems, the prediction is made as the weighted average of the $K$ points closest to the one we want to predict.\n",
    "\n",
    "$$ f(z)=~\\sum_{i=1}^k \\phi(d_i) ~=~ \\sum_{i=1}^k w_i \\cdot d_i $$\n",
    "\n",
    "where:\n",
    "- $w_i = \\frac{1}{dist(x_{test},~ x_i) + \\epsilon},~ \\epsilon \\in \\mathbb R $\n",
    "- $\\epsilon$ to avoid division by zero \n"
   ]
  },
  {
   "cell_type": "markdown",
   "id": "5d436cfa",
   "metadata": {
    "papermill": {
     "duration": 0.005653,
     "end_time": "2024-01-27T00:23:40.065578",
     "exception": false,
     "start_time": "2024-01-27T00:23:40.059925",
     "status": "completed"
    },
    "tags": []
   },
   "source": [
    "The most used distances are:\n",
    "\n",
    "- $d_{L1}(x,y)=~ |x-y| = |x_1 - y_1| + |x_2 - y_2| + \\cdots + |x_n - y_n|$\n",
    "- $d_{L2}(x,y)=~ ||x-y|| = \\sqrt{(x_1 - y_1)^2 + (x_2 - y_2)^2 + \\cdots + (x_n - y_n)}$"
   ]
  },
  {
   "cell_type": "markdown",
   "id": "c4fcdbd5",
   "metadata": {
    "papermill": {
     "duration": 0.005817,
     "end_time": "2024-01-27T00:23:40.077754",
     "exception": false,
     "start_time": "2024-01-27T00:23:40.071937",
     "status": "completed"
    },
    "tags": []
   },
   "source": [
    "# Predicting the Sale Price of a House\n",
    "\n",
    "### Boston Houses\n",
    "\n",
    "**Variables**\n",
    "There are 14 attributes in each case of the dataset. They are:\n",
    "* CRIM - per capita crime rate by town\n",
    "* ZN - proportion of residential land zoned for lots over 25,000 sq.ft.\n",
    "* INDUS - proportion of non-retail business acres per town.\n",
    "* CHAS - Charles River dummy variable (1 if tract bounds river; 0 otherwise)\n",
    "* NOX - nitric oxides concentration (parts per 10 million)\n",
    "* RM - average number of rooms per dwelling\n",
    "* AGE - proportion of owner-occupied units built prior to 1940\n",
    "* DIS - weighted distances to five Boston employment centres\n",
    "* RAD - index of accessibility to radial highways\n",
    "* TAX - full-value property-tax rate per 10,000USD\n",
    "* PTRATIO - pupil-teacher ratio by town\n",
    "* B - $1000(Bk - 0.63)^2$ where Bk is the proportion of blacks by town\n",
    "* LSTAT - porcent lower status of the population\n",
    "* MEDV - Median value of owner-occupied homes in $1000's"
   ]
  },
  {
   "cell_type": "markdown",
   "id": "f36f0c7b",
   "metadata": {
    "papermill": {
     "duration": 0.005747,
     "end_time": "2024-01-27T00:23:40.089627",
     "exception": false,
     "start_time": "2024-01-27T00:23:40.083880",
     "status": "completed"
    },
    "tags": []
   },
   "source": [
    "### Get Boston Housing Data"
   ]
  },
  {
   "cell_type": "code",
   "execution_count": 1,
   "id": "8577edfd",
   "metadata": {
    "execution": {
     "iopub.execute_input": "2024-01-27T00:23:40.104158Z",
     "iopub.status.busy": "2024-01-27T00:23:40.103778Z",
     "iopub.status.idle": "2024-01-27T00:23:40.187521Z",
     "shell.execute_reply": "2024-01-27T00:23:40.186017Z"
    },
    "papermill": {
     "duration": 0.094834,
     "end_time": "2024-01-27T00:23:40.190630",
     "exception": false,
     "start_time": "2024-01-27T00:23:40.095796",
     "status": "completed"
    },
    "tags": []
   },
   "outputs": [],
   "source": [
    "import requests"
   ]
  },
  {
   "cell_type": "code",
   "execution_count": 2,
   "id": "0f8313f6",
   "metadata": {
    "execution": {
     "iopub.execute_input": "2024-01-27T00:23:40.205091Z",
     "iopub.status.busy": "2024-01-27T00:23:40.204689Z",
     "iopub.status.idle": "2024-01-27T00:23:40.286595Z",
     "shell.execute_reply": "2024-01-27T00:23:40.285281Z"
    },
    "papermill": {
     "duration": 0.092811,
     "end_time": "2024-01-27T00:23:40.289719",
     "exception": false,
     "start_time": "2024-01-27T00:23:40.196908",
     "status": "completed"
    },
    "tags": []
   },
   "outputs": [
    {
     "name": "stdout",
     "output_type": "stream",
     "text": [
      "Data Sucessfully Loaded!\n"
     ]
    }
   ],
   "source": [
    "url = 'https://raw.githubusercontent.com/selva86/datasets/master/BostonHousing.csv'\n",
    "req = requests.get(url)\n",
    "\n",
    "if req.ok:\n",
    "    raw_file = req.content.decode().split('\\n')\n",
    "    # Header\n",
    "    header = raw_file[0].upper().replace('\"', '').split(',')\n",
    "    # Data\n",
    "    housing_data = raw_file[1:]\n",
    "    housing_data = [[float(x.replace('\"', '')) for x in row.split(',')] for row in housing_data if len(row.split(',')) == 14]\n",
    "    print(f'Data Sucessfully Loaded!')\n",
    "else:\n",
    "    print(f'Eror: Data could not be loaded, Status Code: {req.status_code}')"
   ]
  },
  {
   "cell_type": "markdown",
   "id": "6868339b",
   "metadata": {
    "papermill": {
     "duration": 0.005973,
     "end_time": "2024-01-27T00:23:40.301998",
     "exception": false,
     "start_time": "2024-01-27T00:23:40.296025",
     "status": "completed"
    },
    "tags": []
   },
   "source": [
    "### Define Training and Testing set"
   ]
  },
  {
   "cell_type": "code",
   "execution_count": 3,
   "id": "2bf68621",
   "metadata": {
    "execution": {
     "iopub.execute_input": "2024-01-27T00:23:40.317021Z",
     "iopub.status.busy": "2024-01-27T00:23:40.316558Z",
     "iopub.status.idle": "2024-01-27T00:23:40.788214Z",
     "shell.execute_reply": "2024-01-27T00:23:40.786908Z"
    },
    "papermill": {
     "duration": 0.483175,
     "end_time": "2024-01-27T00:23:40.791523",
     "exception": false,
     "start_time": "2024-01-27T00:23:40.308348",
     "status": "completed"
    },
    "tags": []
   },
   "outputs": [],
   "source": [
    "import pandas as pd\n",
    "import numpy as np"
   ]
  },
  {
   "cell_type": "code",
   "execution_count": 4,
   "id": "083598d9",
   "metadata": {
    "execution": {
     "iopub.execute_input": "2024-01-27T00:23:40.808523Z",
     "iopub.status.busy": "2024-01-27T00:23:40.807952Z",
     "iopub.status.idle": "2024-01-27T00:23:40.860246Z",
     "shell.execute_reply": "2024-01-27T00:23:40.859026Z"
    },
    "papermill": {
     "duration": 0.064164,
     "end_time": "2024-01-27T00:23:40.863338",
     "exception": false,
     "start_time": "2024-01-27T00:23:40.799174",
     "status": "completed"
    },
    "tags": []
   },
   "outputs": [
    {
     "data": {
      "text/html": [
       "<div>\n",
       "<style scoped>\n",
       "    .dataframe tbody tr th:only-of-type {\n",
       "        vertical-align: middle;\n",
       "    }\n",
       "\n",
       "    .dataframe tbody tr th {\n",
       "        vertical-align: top;\n",
       "    }\n",
       "\n",
       "    .dataframe thead th {\n",
       "        text-align: right;\n",
       "    }\n",
       "</style>\n",
       "<table border=\"1\" class=\"dataframe\">\n",
       "  <thead>\n",
       "    <tr style=\"text-align: right;\">\n",
       "      <th></th>\n",
       "      <th>CRIM</th>\n",
       "      <th>INDUS</th>\n",
       "      <th>NOX</th>\n",
       "      <th>RM</th>\n",
       "      <th>AGE</th>\n",
       "      <th>DIS</th>\n",
       "      <th>TAX</th>\n",
       "      <th>PTRATIO</th>\n",
       "      <th>B</th>\n",
       "      <th>LSTAT</th>\n",
       "      <th>MEDV</th>\n",
       "    </tr>\n",
       "  </thead>\n",
       "  <tbody>\n",
       "    <tr>\n",
       "      <th>0</th>\n",
       "      <td>0.00632</td>\n",
       "      <td>2.31</td>\n",
       "      <td>0.538</td>\n",
       "      <td>6.575</td>\n",
       "      <td>65.2</td>\n",
       "      <td>4.0900</td>\n",
       "      <td>296.0</td>\n",
       "      <td>15.3</td>\n",
       "      <td>396.90</td>\n",
       "      <td>4.98</td>\n",
       "      <td>24.0</td>\n",
       "    </tr>\n",
       "    <tr>\n",
       "      <th>1</th>\n",
       "      <td>0.02731</td>\n",
       "      <td>7.07</td>\n",
       "      <td>0.469</td>\n",
       "      <td>6.421</td>\n",
       "      <td>78.9</td>\n",
       "      <td>4.9671</td>\n",
       "      <td>242.0</td>\n",
       "      <td>17.8</td>\n",
       "      <td>396.90</td>\n",
       "      <td>9.14</td>\n",
       "      <td>21.6</td>\n",
       "    </tr>\n",
       "    <tr>\n",
       "      <th>2</th>\n",
       "      <td>0.02729</td>\n",
       "      <td>7.07</td>\n",
       "      <td>0.469</td>\n",
       "      <td>7.185</td>\n",
       "      <td>61.1</td>\n",
       "      <td>4.9671</td>\n",
       "      <td>242.0</td>\n",
       "      <td>17.8</td>\n",
       "      <td>392.83</td>\n",
       "      <td>4.03</td>\n",
       "      <td>34.7</td>\n",
       "    </tr>\n",
       "    <tr>\n",
       "      <th>3</th>\n",
       "      <td>0.03237</td>\n",
       "      <td>2.18</td>\n",
       "      <td>0.458</td>\n",
       "      <td>6.998</td>\n",
       "      <td>45.8</td>\n",
       "      <td>6.0622</td>\n",
       "      <td>222.0</td>\n",
       "      <td>18.7</td>\n",
       "      <td>394.63</td>\n",
       "      <td>2.94</td>\n",
       "      <td>33.4</td>\n",
       "    </tr>\n",
       "    <tr>\n",
       "      <th>4</th>\n",
       "      <td>0.06905</td>\n",
       "      <td>2.18</td>\n",
       "      <td>0.458</td>\n",
       "      <td>7.147</td>\n",
       "      <td>54.2</td>\n",
       "      <td>6.0622</td>\n",
       "      <td>222.0</td>\n",
       "      <td>18.7</td>\n",
       "      <td>396.90</td>\n",
       "      <td>5.33</td>\n",
       "      <td>36.2</td>\n",
       "    </tr>\n",
       "  </tbody>\n",
       "</table>\n",
       "</div>"
      ],
      "text/plain": [
       "      CRIM  INDUS    NOX     RM   AGE     DIS    TAX  PTRATIO       B  LSTAT  \\\n",
       "0  0.00632   2.31  0.538  6.575  65.2  4.0900  296.0     15.3  396.90   4.98   \n",
       "1  0.02731   7.07  0.469  6.421  78.9  4.9671  242.0     17.8  396.90   9.14   \n",
       "2  0.02729   7.07  0.469  7.185  61.1  4.9671  242.0     17.8  392.83   4.03   \n",
       "3  0.03237   2.18  0.458  6.998  45.8  6.0622  222.0     18.7  394.63   2.94   \n",
       "4  0.06905   2.18  0.458  7.147  54.2  6.0622  222.0     18.7  396.90   5.33   \n",
       "\n",
       "   MEDV  \n",
       "0  24.0  \n",
       "1  21.6  \n",
       "2  34.7  \n",
       "3  33.4  \n",
       "4  36.2  "
      ]
     },
     "execution_count": 4,
     "metadata": {},
     "output_type": "execute_result"
    }
   ],
   "source": [
    "cols_used = ['CRIM','INDUS','NOX','RM','AGE','DIS','TAX','PTRATIO','B','LSTAT', 'MEDV']\n",
    "df = pd.DataFrame(housing_data, columns= header).loc[:, cols_used]\n",
    "df.head(5)"
   ]
  },
  {
   "cell_type": "code",
   "execution_count": 5,
   "id": "103fd0d2",
   "metadata": {
    "execution": {
     "iopub.execute_input": "2024-01-27T00:23:40.880478Z",
     "iopub.status.busy": "2024-01-27T00:23:40.878981Z",
     "iopub.status.idle": "2024-01-27T00:23:40.892290Z",
     "shell.execute_reply": "2024-01-27T00:23:40.890786Z"
    },
    "papermill": {
     "duration": 0.02481,
     "end_time": "2024-01-27T00:23:40.894999",
     "exception": false,
     "start_time": "2024-01-27T00:23:40.870189",
     "status": "completed"
    },
    "tags": []
   },
   "outputs": [
    {
     "name": "stdout",
     "output_type": "stream",
     "text": [
      "Training: (455, 10) \n",
      " Testing: (51, 10)\n"
     ]
    }
   ],
   "source": [
    "x_vals = df.iloc[:, :-1].values\n",
    "y_vals = df.MEDV.values\n",
    "\n",
    "# Normalize data\n",
    "min = x_vals.min(axis= 0)\n",
    "max = x_vals.max(axis= 0)\n",
    "x_norm = (x_vals - min) / (max - min)\n",
    "\n",
    "# Define training and testing set\n",
    "train_size = int(x_norm.shape[0] * 0.9)\n",
    "perm = np.random.permutation(x_norm.shape[0])\n",
    "\n",
    "x_train = x_norm[ perm[:train_size] ]\n",
    "y_train = y_vals[ perm[:train_size] ]\n",
    "\n",
    "x_test = x_norm[ perm[train_size:] ]\n",
    "y_test = y_vals[ perm[train_size:] ]\n",
    "\n",
    "print(f'Training: {x_train.shape} \\n Testing: {x_test.shape}')"
   ]
  },
  {
   "cell_type": "markdown",
   "id": "05868f1f",
   "metadata": {
    "papermill": {
     "duration": 0.006443,
     "end_time": "2024-01-27T00:23:40.908959",
     "exception": false,
     "start_time": "2024-01-27T00:23:40.902516",
     "status": "completed"
    },
    "tags": []
   },
   "source": [
    "### K-Nearest Neighbors"
   ]
  },
  {
   "cell_type": "code",
   "execution_count": 6,
   "id": "0064b6c0",
   "metadata": {
    "execution": {
     "iopub.execute_input": "2024-01-27T00:23:40.925938Z",
     "iopub.status.busy": "2024-01-27T00:23:40.924548Z",
     "iopub.status.idle": "2024-01-27T00:23:56.255080Z",
     "shell.execute_reply": "2024-01-27T00:23:56.253750Z"
    },
    "papermill": {
     "duration": 15.343232,
     "end_time": "2024-01-27T00:23:56.258961",
     "exception": false,
     "start_time": "2024-01-27T00:23:40.915729",
     "status": "completed"
    },
    "tags": []
   },
   "outputs": [],
   "source": [
    "import tensorflow as tf\n",
    "import matplotlib.pyplot as plt\n",
    "\n",
    "plt.style.use('ggplot')"
   ]
  },
  {
   "cell_type": "code",
   "execution_count": 7,
   "id": "fca41963",
   "metadata": {
    "execution": {
     "iopub.execute_input": "2024-01-27T00:23:56.276684Z",
     "iopub.status.busy": "2024-01-27T00:23:56.275901Z",
     "iopub.status.idle": "2024-01-27T00:23:56.363148Z",
     "shell.execute_reply": "2024-01-27T00:23:56.362207Z"
    },
    "papermill": {
     "duration": 0.099474,
     "end_time": "2024-01-27T00:23:56.366106",
     "exception": false,
     "start_time": "2024-01-27T00:23:56.266632",
     "status": "completed"
    },
    "tags": []
   },
   "outputs": [],
   "source": [
    "# Define Data\n",
    "x_train_set = tf.constant(x_train, dtype= tf.float32)\n",
    "x_test_set = tf.constant(x_test, dtype= tf.float32)\n",
    "\n",
    "y_train_set = tf.constant(y_train, dtype= tf.float32)\n",
    "y_test_set = tf.constant(y_test, dtype= tf.float32)"
   ]
  },
  {
   "cell_type": "code",
   "execution_count": 8,
   "id": "b1c6d09f",
   "metadata": {
    "execution": {
     "iopub.execute_input": "2024-01-27T00:23:56.383093Z",
     "iopub.status.busy": "2024-01-27T00:23:56.381912Z",
     "iopub.status.idle": "2024-01-27T00:23:56.395980Z",
     "shell.execute_reply": "2024-01-27T00:23:56.394522Z"
    },
    "papermill": {
     "duration": 0.025823,
     "end_time": "2024-01-27T00:23:56.399105",
     "exception": false,
     "start_time": "2024-01-27T00:23:56.373282",
     "status": "completed"
    },
    "tags": []
   },
   "outputs": [],
   "source": [
    "class KNearestRegression:\n",
    "    \"\"\"\n",
    "        Parameters.\n",
    "                    - distance_metric. l1 or l2\n",
    "                    - k_neighbors. Int number of K-Neighbors to predict.\n",
    "    \"\"\"\n",
    "    def __init__(self, k_neighbors= 5, distance_metric = 'l1'):\n",
    "        self.k_neighbors= k_neighbors\n",
    "        self.distance_metric = distance_metric\n",
    "        self._x_data = []\n",
    "        self._y_data = []\n",
    "\n",
    "    # Function to get distance either l1 or l2\n",
    "    def norm(self, values):\n",
    "        if self.distance_metric == 'l1':\n",
    "            return tf.reduce_sum(tf.abs(tf.expand_dims(values, 1) - self._x_data), axis= 2)\n",
    "        elif self.distance_metric == 'l2':\n",
    "            return tf.reduce_sum(tf.square(tf.expand_dims(values, 1) - self._x_data), axis= 2)\n",
    "        else:\n",
    "            raise ValueError('Invalid Distance Metric. Use l1 or l2.')\n",
    "\n",
    "    # Define the data\n",
    "    def fit(self, x, y):\n",
    "        self._x_data = x\n",
    "        self._y_data = y\n",
    "\n",
    "    # Function to predict\n",
    "    def predict(self, data):\n",
    "        distance = self.norm(data)\n",
    "        k_values, k_ind = tf.nn.top_k(tf.negative(distance), k= self.k_neighbors) # K Neighbors\n",
    "        k_values = tf.negative(k_values)  \n",
    "        k_nearest = tf.gather(self._y_data, k_ind)\n",
    "        weights = k_values / tf.reduce_sum(k_values, axis= 1, keepdims= True)\n",
    "        pred_output = tf.reduce_sum(weights * k_nearest, axis= 1)\n",
    "        return pred_output\n",
    "\n",
    "    # Get MSE and MAE\n",
    "    def score(self, x, y):\n",
    "        y_pred = self.predict(x)\n",
    "        mse = tf.reduce_mean(tf.square(y - y_pred))\n",
    "        mae = tf.sqrt(mse)\n",
    "        print(f'* MSE: {mse} -- * MAE: {mae}')"
   ]
  },
  {
   "cell_type": "code",
   "execution_count": 9,
   "id": "5d0b63e4",
   "metadata": {
    "execution": {
     "iopub.execute_input": "2024-01-27T00:23:56.417169Z",
     "iopub.status.busy": "2024-01-27T00:23:56.416378Z",
     "iopub.status.idle": "2024-01-27T00:23:56.521480Z",
     "shell.execute_reply": "2024-01-27T00:23:56.520274Z"
    },
    "papermill": {
     "duration": 0.117607,
     "end_time": "2024-01-27T00:23:56.525039",
     "exception": false,
     "start_time": "2024-01-27T00:23:56.407432",
     "status": "completed"
    },
    "tags": []
   },
   "outputs": [
    {
     "name": "stdout",
     "output_type": "stream",
     "text": [
      "K-Neighbors: 2\n",
      "* MSE: 10.241110801696777 -- * MAE: 3.2001736164093018\n",
      "K-Neighbors: 4\n",
      "* MSE: 10.10499095916748 -- * MAE: 3.178834915161133\n",
      "K-Neighbors: 6\n",
      "* MSE: 19.379560470581055 -- * MAE: 4.402222156524658\n",
      "K-Neighbors: 8\n",
      "* MSE: 20.704496383666992 -- * MAE: 4.550219535827637\n",
      "K-Neighbors: 10\n",
      "* MSE: 26.455211639404297 -- * MAE: 5.143463134765625\n",
      "K-Neighbors: 12\n",
      "* MSE: 25.80560874938965 -- * MAE: 5.079922199249268\n",
      "K-Neighbors: 14\n",
      "* MSE: 25.68373680114746 -- * MAE: 5.067912578582764\n",
      "K-Neighbors: 16\n",
      "* MSE: 24.147836685180664 -- * MAE: 4.9140448570251465\n",
      "K-Neighbors: 18\n",
      "* MSE: 20.709941864013672 -- * MAE: 4.550817489624023\n",
      "K-Neighbors: 20\n",
      "* MSE: 20.100629806518555 -- * MAE: 4.483372688293457\n"
     ]
    }
   ],
   "source": [
    "# Define the optimal number of K-Neighbors\n",
    "for n in range(2, 21, 2):\n",
    "    print(f'K-Neighbors: {n}')\n",
    "    model = KNearestRegression(k_neighbors= n, distance_metric= 'l2')\n",
    "    model.fit(x_train_set, y_train_set)\n",
    "    model.score(x_test_set, y_test_set)"
   ]
  },
  {
   "cell_type": "code",
   "execution_count": 10,
   "id": "3af4138c",
   "metadata": {
    "execution": {
     "iopub.execute_input": "2024-01-27T00:23:56.543071Z",
     "iopub.status.busy": "2024-01-27T00:23:56.542618Z",
     "iopub.status.idle": "2024-01-27T00:23:56.555957Z",
     "shell.execute_reply": "2024-01-27T00:23:56.554300Z"
    },
    "papermill": {
     "duration": 0.026847,
     "end_time": "2024-01-27T00:23:56.559619",
     "exception": false,
     "start_time": "2024-01-27T00:23:56.532772",
     "status": "completed"
    },
    "tags": []
   },
   "outputs": [
    {
     "name": "stdout",
     "output_type": "stream",
     "text": [
      "* MSE: 10.10499095916748 -- * MAE: 3.178834915161133\n"
     ]
    }
   ],
   "source": [
    "model = KNearestRegression(k_neighbors= 4, distance_metric= 'l2')\n",
    "model.fit(x_train_set, y_train_set)\n",
    "model.score(x_test_set, y_test_set)"
   ]
  },
  {
   "cell_type": "code",
   "execution_count": 11,
   "id": "2ee4e267",
   "metadata": {
    "execution": {
     "iopub.execute_input": "2024-01-27T00:23:56.578569Z",
     "iopub.status.busy": "2024-01-27T00:23:56.577420Z",
     "iopub.status.idle": "2024-01-27T00:23:57.047260Z",
     "shell.execute_reply": "2024-01-27T00:23:57.046026Z"
    },
    "papermill": {
     "duration": 0.482213,
     "end_time": "2024-01-27T00:23:57.050009",
     "exception": false,
     "start_time": "2024-01-27T00:23:56.567796",
     "status": "completed"
    },
    "tags": []
   },
   "outputs": [
    {
     "data": {
      "image/png": "[encoded data removed]",
      "text/plain": [
       "<Figure size 640x480 with 1 Axes>"
      ]
     },
     "metadata": {},
     "output_type": "display_data"
    }
   ],
   "source": [
    "predictions = model.predict(x_test_set)\n",
    "\n",
    "plt.hist(predictions, label = \"Predictions\", color= 'red', alpha= 0.4, bins= 15)\n",
    "plt.hist(y_test_set, label = \"Real Values\", color= 'blue', alpha= 0.4, bins= 15)\n",
    "\n",
    "plt.title('Median Value')\n",
    "plt.legend()\n",
    "plt.show()"
   ]
  }
 ],
 "metadata": {
  "kaggle": {
   "accelerator": "none",
   "dataSources": [],
   "dockerImageVersionId": 30635,
   "isGpuEnabled": false,
   "isInternetEnabled": true,
   "language": "python",
   "sourceType": "notebook"
  },
  "kernelspec": {
   "display_name": "Python 3",
   "language": "python",
   "name": "python3"
  },
  "language_info": {
   "codemirror_mode": {
    "name": "ipython",
    "version": 3
   },
   "file_extension": ".py",
   "mimetype": "text/x-python",
   "name": "python",
   "nbconvert_exporter": "python",
   "pygments_lexer": "ipython3",
   "version": "3.10.12"
  },
  "papermill": {
   "default_parameters": {},
   "duration": 22.239045,
   "end_time": "2024-01-27T00:23:58.587210",
   "environment_variables": {},
   "exception": null,
   "input_path": "__notebook__.ipynb",
   "output_path": "__notebook__.ipynb",
   "parameters": {},
   "start_time": "2024-01-27T00:23:36.348165",
   "version": "2.4.0"
  }
 },
 "nbformat": 4,
 "nbformat_minor": 5
}
