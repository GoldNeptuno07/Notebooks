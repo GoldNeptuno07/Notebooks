{
 "cells": [
  {
   "cell_type": "markdown",
   "id": "5ce55ab7",
   "metadata": {
    "papermill": {
     "duration": 0.010614,
     "end_time": "2023-11-27T23:51:33.807035",
     "exception": false,
     "start_time": "2023-11-27T23:51:33.796421",
     "status": "completed"
    },
    "tags": []
   },
   "source": [
    "# Prediction of R5, X4, and R5X4 HIV-1 Coreceptor Usage"
   ]
  },
  {
   "cell_type": "code",
   "execution_count": 1,
   "id": "0133956f",
   "metadata": {
    "_cell_guid": "b1076dfc-b9ad-4769-8c92-a6c4dae69d19",
    "_uuid": "8f2839f25d086af736a60e9eeb907d3b93b6e0e5",
    "execution": {
     "iopub.execute_input": "2023-11-27T23:51:33.826377Z",
     "iopub.status.busy": "2023-11-27T23:51:33.825948Z",
     "iopub.status.idle": "2023-11-27T23:51:36.291533Z",
     "shell.execute_reply": "2023-11-27T23:51:36.290367Z"
    },
    "papermill": {
     "duration": 2.47833,
     "end_time": "2023-11-27T23:51:36.294161",
     "exception": false,
     "start_time": "2023-11-27T23:51:33.815831",
     "status": "completed"
    },
    "tags": []
   },
   "outputs": [
    {
     "name": "stdout",
     "output_type": "stream",
     "text": [
      "/kaggle/input/r5-x4-and-r5x4-hiv-1-coreceptor-usage/R5_X4_R5X4.csv\n"
     ]
    }
   ],
   "source": [
    "import numpy as np\n",
    "import pandas as pd\n",
    "import matplotlib.pyplot as plt\n",
    "import seaborn as sns\n",
    "from scipy.stats import entropy\n",
    "from sklearn.preprocessing import StandardScaler\n",
    "from sklearn.model_selection import GridSearchCV\n",
    "from sklearn.decomposition import PCA\n",
    "import xgboost as xgb\n",
    "from sklearn.metrics import roc_curve, auc, confusion_matrix\n",
    "from sklearn.pipeline import Pipeline\n",
    "import os\n",
    "\n",
    "\n",
    "sns.set_palette(\"mako\")\n",
    "sns.set_style(\"darkgrid\")\n",
    "pd.set_option(\"display.max_rows\", None)\n",
    "pd.set_option(\"display.max_columns\", None)\n",
    "\n",
    "\n",
    "for dirname, _, filenames in os.walk('/kaggle/input'):\n",
    "    for filename in filenames:\n",
    "        print(os.path.join(dirname, filename))"
   ]
  },
  {
   "cell_type": "code",
   "execution_count": 2,
   "id": "b6584383",
   "metadata": {
    "execution": {
     "iopub.execute_input": "2023-11-27T23:51:36.312784Z",
     "iopub.status.busy": "2023-11-27T23:51:36.312271Z",
     "iopub.status.idle": "2023-11-27T23:51:36.377213Z",
     "shell.execute_reply": "2023-11-27T23:51:36.376251Z"
    },
    "papermill": {
     "duration": 0.078036,
     "end_time": "2023-11-27T23:51:36.380565",
     "exception": false,
     "start_time": "2023-11-27T23:51:36.302529",
     "status": "completed"
    },
    "tags": []
   },
   "outputs": [
    {
     "data": {
      "text/html": [
       "<div>\n",
       "<style scoped>\n",
       "    .dataframe tbody tr th:only-of-type {\n",
       "        vertical-align: middle;\n",
       "    }\n",
       "\n",
       "    .dataframe tbody tr th {\n",
       "        vertical-align: top;\n",
       "    }\n",
       "\n",
       "    .dataframe thead th {\n",
       "        text-align: right;\n",
       "    }\n",
       "</style>\n",
       "<table border=\"1\" class=\"dataframe\">\n",
       "  <thead>\n",
       "    <tr style=\"text-align: right;\">\n",
       "      <th></th>\n",
       "      <th>Sequence</th>\n",
       "      <th>Tropisms</th>\n",
       "      <th>Volume (A3)</th>\n",
       "      <th>Mass (daltons)</th>\n",
       "      <th>HP Scale</th>\n",
       "      <th>Surface Area</th>\n",
       "      <th>alpha helix</th>\n",
       "      <th>B-strand</th>\n",
       "      <th>Turn</th>\n",
       "      <th>Number of amino acids</th>\n",
       "      <th>Molecular weight</th>\n",
       "      <th>Theoretical pI</th>\n",
       "      <th>Total number of negatively charged residues (Asp + Glu)</th>\n",
       "      <th>Total number of positively charged residues (Arg + Lys)</th>\n",
       "      <th>Carbon</th>\n",
       "      <th>Hydrogen</th>\n",
       "      <th>Nitrogen</th>\n",
       "      <th>Oxygen</th>\n",
       "      <th>Sulfur</th>\n",
       "      <th>Total number of atoms</th>\n",
       "      <th>Aliphatic index</th>\n",
       "      <th>Grand average of hydropathicity (GRAVY)</th>\n",
       "    </tr>\n",
       "  </thead>\n",
       "  <tbody>\n",
       "    <tr>\n",
       "      <th>0</th>\n",
       "      <td>AB014795</td>\n",
       "      <td>R5X4</td>\n",
       "      <td>11560.0</td>\n",
       "      <td>12186.35</td>\n",
       "      <td>-45.6</td>\n",
       "      <td>77.15</td>\n",
       "      <td>105.63</td>\n",
       "      <td>108.43</td>\n",
       "      <td>98.36</td>\n",
       "      <td>107.0</td>\n",
       "      <td>12204.05</td>\n",
       "      <td>9.86</td>\n",
       "      <td>9.0</td>\n",
       "      <td>16.0</td>\n",
       "      <td>538.0</td>\n",
       "      <td>886.0</td>\n",
       "      <td>160.0</td>\n",
       "      <td>159.0</td>\n",
       "      <td>2.0</td>\n",
       "      <td>1745.0</td>\n",
       "      <td>99.16</td>\n",
       "      <td>-0.426</td>\n",
       "    </tr>\n",
       "    <tr>\n",
       "      <th>1</th>\n",
       "      <td>AF062012</td>\n",
       "      <td>R5</td>\n",
       "      <td>12185.0</td>\n",
       "      <td>13009.17</td>\n",
       "      <td>-40.4</td>\n",
       "      <td>85.94</td>\n",
       "      <td>112.18</td>\n",
       "      <td>116.82</td>\n",
       "      <td>113.79</td>\n",
       "      <td>119.0</td>\n",
       "      <td>13026.81</td>\n",
       "      <td>8.67</td>\n",
       "      <td>10.0</td>\n",
       "      <td>13.0</td>\n",
       "      <td>562.0</td>\n",
       "      <td>916.0</td>\n",
       "      <td>164.0</td>\n",
       "      <td>179.0</td>\n",
       "      <td>6.0</td>\n",
       "      <td>1827.0</td>\n",
       "      <td>86.81</td>\n",
       "      <td>-0.339</td>\n",
       "    </tr>\n",
       "    <tr>\n",
       "      <th>2</th>\n",
       "      <td>U08716</td>\n",
       "      <td>R5</td>\n",
       "      <td>9730.0</td>\n",
       "      <td>10394.07</td>\n",
       "      <td>-49.9</td>\n",
       "      <td>65.63</td>\n",
       "      <td>88.41</td>\n",
       "      <td>91.53</td>\n",
       "      <td>84.19</td>\n",
       "      <td>91.0</td>\n",
       "      <td>10411.77</td>\n",
       "      <td>10.18</td>\n",
       "      <td>6.0</td>\n",
       "      <td>12.0</td>\n",
       "      <td>452.0</td>\n",
       "      <td>732.0</td>\n",
       "      <td>142.0</td>\n",
       "      <td>137.0</td>\n",
       "      <td>2.0</td>\n",
       "      <td>1465.0</td>\n",
       "      <td>86.70</td>\n",
       "      <td>-0.548</td>\n",
       "    </tr>\n",
       "    <tr>\n",
       "      <th>3</th>\n",
       "      <td>AB014785</td>\n",
       "      <td>X4</td>\n",
       "      <td>11632.0</td>\n",
       "      <td>12259.50</td>\n",
       "      <td>-54.1</td>\n",
       "      <td>76.76</td>\n",
       "      <td>105.92</td>\n",
       "      <td>107.97</td>\n",
       "      <td>98.00</td>\n",
       "      <td>107.0</td>\n",
       "      <td>12277.21</td>\n",
       "      <td>10.09</td>\n",
       "      <td>8.0</td>\n",
       "      <td>17.0</td>\n",
       "      <td>541.0</td>\n",
       "      <td>893.0</td>\n",
       "      <td>161.0</td>\n",
       "      <td>158.0</td>\n",
       "      <td>3.0</td>\n",
       "      <td>1756.0</td>\n",
       "      <td>92.80</td>\n",
       "      <td>-0.506</td>\n",
       "    </tr>\n",
       "    <tr>\n",
       "      <th>4</th>\n",
       "      <td>AF062029</td>\n",
       "      <td>R5X4</td>\n",
       "      <td>16869.0</td>\n",
       "      <td>17912.05</td>\n",
       "      <td>-46.2</td>\n",
       "      <td>117.81</td>\n",
       "      <td>153.97</td>\n",
       "      <td>159.47</td>\n",
       "      <td>154.77</td>\n",
       "      <td>163.0</td>\n",
       "      <td>17929.58</td>\n",
       "      <td>8.92</td>\n",
       "      <td>13.0</td>\n",
       "      <td>18.0</td>\n",
       "      <td>791.0</td>\n",
       "      <td>1275.0</td>\n",
       "      <td>221.0</td>\n",
       "      <td>239.0</td>\n",
       "      <td>7.0</td>\n",
       "      <td>2533.0</td>\n",
       "      <td>89.08</td>\n",
       "      <td>-0.283</td>\n",
       "    </tr>\n",
       "  </tbody>\n",
       "</table>\n",
       "</div>"
      ],
      "text/plain": [
       "   Sequence Tropisms  Volume (A3)  Mass (daltons)  HP Scale  Surface Area  \\\n",
       "0  AB014795     R5X4      11560.0        12186.35     -45.6         77.15   \n",
       "1  AF062012       R5      12185.0        13009.17     -40.4         85.94   \n",
       "2    U08716       R5       9730.0        10394.07     -49.9         65.63   \n",
       "3  AB014785       X4      11632.0        12259.50     -54.1         76.76   \n",
       "4  AF062029     R5X4      16869.0        17912.05     -46.2        117.81   \n",
       "\n",
       "   alpha helix  B-strand    Turn  Number of amino acids  Molecular weight  \\\n",
       "0       105.63    108.43   98.36                  107.0          12204.05   \n",
       "1       112.18    116.82  113.79                  119.0          13026.81   \n",
       "2        88.41     91.53   84.19                   91.0          10411.77   \n",
       "3       105.92    107.97   98.00                  107.0          12277.21   \n",
       "4       153.97    159.47  154.77                  163.0          17929.58   \n",
       "\n",
       "   Theoretical pI  Total number of negatively charged residues (Asp + Glu)  \\\n",
       "0            9.86                                                9.0         \n",
       "1            8.67                                               10.0         \n",
       "2           10.18                                                6.0         \n",
       "3           10.09                                                8.0         \n",
       "4            8.92                                               13.0         \n",
       "\n",
       "   Total number of positively charged residues (Arg + Lys)  Carbon  Hydrogen  \\\n",
       "0                                               16.0         538.0     886.0   \n",
       "1                                               13.0         562.0     916.0   \n",
       "2                                               12.0         452.0     732.0   \n",
       "3                                               17.0         541.0     893.0   \n",
       "4                                               18.0         791.0    1275.0   \n",
       "\n",
       "   Nitrogen  Oxygen  Sulfur  Total number of atoms  Aliphatic index  \\\n",
       "0     160.0   159.0     2.0                 1745.0            99.16   \n",
       "1     164.0   179.0     6.0                 1827.0            86.81   \n",
       "2     142.0   137.0     2.0                 1465.0            86.70   \n",
       "3     161.0   158.0     3.0                 1756.0            92.80   \n",
       "4     221.0   239.0     7.0                 2533.0            89.08   \n",
       "\n",
       "   Grand average of hydropathicity (GRAVY)  \n",
       "0                                   -0.426  \n",
       "1                                   -0.339  \n",
       "2                                   -0.548  \n",
       "3                                   -0.506  \n",
       "4                                   -0.283  "
      ]
     },
     "execution_count": 2,
     "metadata": {},
     "output_type": "execute_result"
    }
   ],
   "source": [
    "dataset = pd.read_csv(\"/kaggle/input/r5-x4-and-r5x4-hiv-1-coreceptor-usage/R5_X4_R5X4.csv\")\n",
    "dataset.head(5)"
   ]
  },
  {
   "cell_type": "markdown",
   "id": "99be4d77",
   "metadata": {
    "papermill": {
     "duration": 0.008529,
     "end_time": "2023-11-27T23:51:36.398028",
     "exception": false,
     "start_time": "2023-11-27T23:51:36.389499",
     "status": "completed"
    },
    "tags": []
   },
   "source": [
    "## Data Exploration"
   ]
  },
  {
   "cell_type": "code",
   "execution_count": 3,
   "id": "7bc583d2",
   "metadata": {
    "execution": {
     "iopub.execute_input": "2023-11-27T23:51:36.417726Z",
     "iopub.status.busy": "2023-11-27T23:51:36.417289Z",
     "iopub.status.idle": "2023-11-27T23:51:36.446156Z",
     "shell.execute_reply": "2023-11-27T23:51:36.444688Z"
    },
    "papermill": {
     "duration": 0.041883,
     "end_time": "2023-11-27T23:51:36.448844",
     "exception": false,
     "start_time": "2023-11-27T23:51:36.406961",
     "status": "completed"
    },
    "tags": []
   },
   "outputs": [
    {
     "name": "stdout",
     "output_type": "stream",
     "text": [
      "<class 'pandas.core.frame.DataFrame'>\n",
      "RangeIndex: 127 entries, 0 to 126\n",
      "Data columns (total 22 columns):\n",
      " #   Column                                                   Non-Null Count  Dtype  \n",
      "---  ------                                                   --------------  -----  \n",
      " 0   Sequence                                                 127 non-null    object \n",
      " 1   Tropisms                                                 127 non-null    object \n",
      " 2   Volume (A3)                                              127 non-null    float64\n",
      " 3   Mass (daltons)                                           127 non-null    float64\n",
      " 4   HP Scale                                                 127 non-null    float64\n",
      " 5   Surface Area                                             127 non-null    float64\n",
      " 6   alpha helix                                              127 non-null    float64\n",
      " 7   B-strand                                                 127 non-null    float64\n",
      " 8   Turn                                                     127 non-null    float64\n",
      " 9   Number of amino acids                                    127 non-null    float64\n",
      " 10  Molecular weight                                         127 non-null    float64\n",
      " 11  Theoretical pI                                           127 non-null    float64\n",
      " 12  Total number of negatively charged residues (Asp + Glu)  127 non-null    float64\n",
      " 13  Total number of positively charged residues (Arg + Lys)  127 non-null    float64\n",
      " 14  Carbon                                                   127 non-null    float64\n",
      " 15  Hydrogen                                                 127 non-null    float64\n",
      " 16  Nitrogen                                                 127 non-null    float64\n",
      " 17  Oxygen                                                   127 non-null    float64\n",
      " 18  Sulfur                                                   127 non-null    float64\n",
      " 19  Total number of atoms                                    127 non-null    float64\n",
      " 20  Aliphatic index                                          127 non-null    float64\n",
      " 21  Grand average of hydropathicity (GRAVY)                  127 non-null    float64\n",
      "dtypes: float64(20), object(2)\n",
      "memory usage: 22.0+ KB\n"
     ]
    }
   ],
   "source": [
    "dataset.info()"
   ]
  },
  {
   "cell_type": "code",
   "execution_count": 4,
   "id": "5b161e7a",
   "metadata": {
    "execution": {
     "iopub.execute_input": "2023-11-27T23:51:36.469332Z",
     "iopub.status.busy": "2023-11-27T23:51:36.468784Z",
     "iopub.status.idle": "2023-11-27T23:51:36.477879Z",
     "shell.execute_reply": "2023-11-27T23:51:36.476630Z"
    },
    "papermill": {
     "duration": 0.022281,
     "end_time": "2023-11-27T23:51:36.480241",
     "exception": false,
     "start_time": "2023-11-27T23:51:36.457960",
     "status": "completed"
    },
    "tags": []
   },
   "outputs": [],
   "source": [
    "# Rename Columns\n",
    "cols = {\n",
    "    'Volume (A3)':'Volume_A3', \n",
    "    'Mass (daltons)':'Mass_Daltons', \n",
    "    'HP Scale':'HP_Scale',\n",
    "    'Surface Area':'Surface_Area', \n",
    "    'alpha helix':'Alpha_Helix', \n",
    "    'B-strand':'B-Strand',\n",
    "    'Number of amino acids':'Number_Amino_Acids', \n",
    "    'Molecular weight':'Molecular_Weight', \n",
    "    'Theoretical pI':'Theoretical_pI',\n",
    "    'Total number of negatively charged residues (Asp + Glu)':'Total_Negatively_Charged_Residues',\n",
    "    'Total number of positively charged residues (Arg + Lys)':'Total_Positively_Charged_Residues',\n",
    "    'Total number of atoms':'Total_Number_Atoms',\n",
    "    'Aliphatic index':'Aliphatic_Index', \n",
    "    'Grand average of hydropathicity (GRAVY)':'Grand_Average_Hydropathicity'\n",
    "}\n",
    "dataset.rename(columns= cols, inplace= True)"
   ]
  },
  {
   "cell_type": "code",
   "execution_count": 5,
   "id": "774f9b63",
   "metadata": {
    "execution": {
     "iopub.execute_input": "2023-11-27T23:51:36.501320Z",
     "iopub.status.busy": "2023-11-27T23:51:36.500537Z",
     "iopub.status.idle": "2023-11-27T23:51:36.573255Z",
     "shell.execute_reply": "2023-11-27T23:51:36.572124Z"
    },
    "papermill": {
     "duration": 0.085952,
     "end_time": "2023-11-27T23:51:36.575717",
     "exception": false,
     "start_time": "2023-11-27T23:51:36.489765",
     "status": "completed"
    },
    "tags": []
   },
   "outputs": [
    {
     "data": {
      "text/html": [
       "<div>\n",
       "<style scoped>\n",
       "    .dataframe tbody tr th:only-of-type {\n",
       "        vertical-align: middle;\n",
       "    }\n",
       "\n",
       "    .dataframe tbody tr th {\n",
       "        vertical-align: top;\n",
       "    }\n",
       "\n",
       "    .dataframe thead th {\n",
       "        text-align: right;\n",
       "    }\n",
       "</style>\n",
       "<table border=\"1\" class=\"dataframe\">\n",
       "  <thead>\n",
       "    <tr style=\"text-align: right;\">\n",
       "      <th></th>\n",
       "      <th>Volume_A3</th>\n",
       "      <th>Mass_Daltons</th>\n",
       "      <th>HP_Scale</th>\n",
       "      <th>Surface_Area</th>\n",
       "      <th>Alpha_Helix</th>\n",
       "      <th>B-Strand</th>\n",
       "      <th>Turn</th>\n",
       "      <th>Number_Amino_Acids</th>\n",
       "      <th>Molecular_Weight</th>\n",
       "      <th>Theoretical_pI</th>\n",
       "      <th>Total_Negatively_Charged_Residues</th>\n",
       "      <th>Total_Positively_Charged_Residues</th>\n",
       "      <th>Carbon</th>\n",
       "      <th>Hydrogen</th>\n",
       "      <th>Nitrogen</th>\n",
       "      <th>Oxygen</th>\n",
       "      <th>Sulfur</th>\n",
       "      <th>Total_Number_Atoms</th>\n",
       "      <th>Aliphatic_Index</th>\n",
       "      <th>Grand_Average_Hydropathicity</th>\n",
       "    </tr>\n",
       "  </thead>\n",
       "  <tbody>\n",
       "    <tr>\n",
       "      <th>count</th>\n",
       "      <td>127.000000</td>\n",
       "      <td>127.000000</td>\n",
       "      <td>127.000000</td>\n",
       "      <td>127.000000</td>\n",
       "      <td>127.000000</td>\n",
       "      <td>127.000000</td>\n",
       "      <td>127.000000</td>\n",
       "      <td>127.000000</td>\n",
       "      <td>127.000000</td>\n",
       "      <td>127.000000</td>\n",
       "      <td>127.000000</td>\n",
       "      <td>127.000000</td>\n",
       "      <td>127.000000</td>\n",
       "      <td>127.000000</td>\n",
       "      <td>127.000000</td>\n",
       "      <td>127.000000</td>\n",
       "      <td>127.000000</td>\n",
       "      <td>127.000000</td>\n",
       "      <td>127.000000</td>\n",
       "      <td>127.000000</td>\n",
       "    </tr>\n",
       "    <tr>\n",
       "      <th>mean</th>\n",
       "      <td>36783.157480</td>\n",
       "      <td>39197.960945</td>\n",
       "      <td>-129.391339</td>\n",
       "      <td>251.560315</td>\n",
       "      <td>347.698740</td>\n",
       "      <td>339.406929</td>\n",
       "      <td>321.467165</td>\n",
       "      <td>347.755906</td>\n",
       "      <td>39214.900000</td>\n",
       "      <td>9.248740</td>\n",
       "      <td>33.149606</td>\n",
       "      <td>42.196850</td>\n",
       "      <td>1735.228346</td>\n",
       "      <td>2762.535433</td>\n",
       "      <td>494.850394</td>\n",
       "      <td>509.992126</td>\n",
       "      <td>15.527559</td>\n",
       "      <td>5518.133858</td>\n",
       "      <td>84.896299</td>\n",
       "      <td>-0.442756</td>\n",
       "    </tr>\n",
       "    <tr>\n",
       "      <th>std</th>\n",
       "      <td>32931.632413</td>\n",
       "      <td>35066.089755</td>\n",
       "      <td>106.154385</td>\n",
       "      <td>225.712370</td>\n",
       "      <td>313.074169</td>\n",
       "      <td>306.587918</td>\n",
       "      <td>282.332116</td>\n",
       "      <td>309.881178</td>\n",
       "      <td>35065.136402</td>\n",
       "      <td>0.810046</td>\n",
       "      <td>31.270220</td>\n",
       "      <td>35.109814</td>\n",
       "      <td>1566.498746</td>\n",
       "      <td>2469.356830</td>\n",
       "      <td>434.289953</td>\n",
       "      <td>451.944608</td>\n",
       "      <td>14.660619</td>\n",
       "      <td>4935.836293</td>\n",
       "      <td>12.610593</td>\n",
       "      <td>0.220103</td>\n",
       "    </tr>\n",
       "    <tr>\n",
       "      <th>min</th>\n",
       "      <td>1880.000000</td>\n",
       "      <td>1969.370000</td>\n",
       "      <td>-460.900000</td>\n",
       "      <td>12.410000</td>\n",
       "      <td>17.390000</td>\n",
       "      <td>19.230000</td>\n",
       "      <td>11.680000</td>\n",
       "      <td>16.000000</td>\n",
       "      <td>1987.330000</td>\n",
       "      <td>6.080000</td>\n",
       "      <td>0.000000</td>\n",
       "      <td>0.000000</td>\n",
       "      <td>96.000000</td>\n",
       "      <td>143.000000</td>\n",
       "      <td>23.000000</td>\n",
       "      <td>23.000000</td>\n",
       "      <td>0.000000</td>\n",
       "      <td>285.000000</td>\n",
       "      <td>33.610000</td>\n",
       "      <td>-1.262000</td>\n",
       "    </tr>\n",
       "    <tr>\n",
       "      <th>25%</th>\n",
       "      <td>10320.500000</td>\n",
       "      <td>10859.875000</td>\n",
       "      <td>-198.800000</td>\n",
       "      <td>69.985000</td>\n",
       "      <td>94.460000</td>\n",
       "      <td>97.540000</td>\n",
       "      <td>91.305000</td>\n",
       "      <td>98.000000</td>\n",
       "      <td>10877.610000</td>\n",
       "      <td>8.840000</td>\n",
       "      <td>8.000000</td>\n",
       "      <td>14.000000</td>\n",
       "      <td>482.000000</td>\n",
       "      <td>791.000000</td>\n",
       "      <td>149.500000</td>\n",
       "      <td>142.500000</td>\n",
       "      <td>3.000000</td>\n",
       "      <td>1555.500000</td>\n",
       "      <td>76.025000</td>\n",
       "      <td>-0.593000</td>\n",
       "    </tr>\n",
       "    <tr>\n",
       "      <th>50%</th>\n",
       "      <td>16292.000000</td>\n",
       "      <td>17376.360000</td>\n",
       "      <td>-66.600000</td>\n",
       "      <td>113.820000</td>\n",
       "      <td>145.080000</td>\n",
       "      <td>153.760000</td>\n",
       "      <td>152.510000</td>\n",
       "      <td>158.000000</td>\n",
       "      <td>17393.910000</td>\n",
       "      <td>9.160000</td>\n",
       "      <td>13.000000</td>\n",
       "      <td>18.000000</td>\n",
       "      <td>765.000000</td>\n",
       "      <td>1226.000000</td>\n",
       "      <td>220.000000</td>\n",
       "      <td>229.000000</td>\n",
       "      <td>7.000000</td>\n",
       "      <td>2447.000000</td>\n",
       "      <td>86.040000</td>\n",
       "      <td>-0.460000</td>\n",
       "    </tr>\n",
       "    <tr>\n",
       "      <th>75%</th>\n",
       "      <td>52862.500000</td>\n",
       "      <td>56571.185000</td>\n",
       "      <td>-48.250000</td>\n",
       "      <td>358.415000</td>\n",
       "      <td>514.085000</td>\n",
       "      <td>463.765000</td>\n",
       "      <td>478.955000</td>\n",
       "      <td>505.000000</td>\n",
       "      <td>56587.605000</td>\n",
       "      <td>9.605000</td>\n",
       "      <td>55.000000</td>\n",
       "      <td>69.000000</td>\n",
       "      <td>2469.000000</td>\n",
       "      <td>3963.000000</td>\n",
       "      <td>722.000000</td>\n",
       "      <td>748.500000</td>\n",
       "      <td>28.500000</td>\n",
       "      <td>7929.000000</td>\n",
       "      <td>92.570000</td>\n",
       "      <td>-0.268500</td>\n",
       "    </tr>\n",
       "    <tr>\n",
       "      <th>max</th>\n",
       "      <td>107117.000000</td>\n",
       "      <td>113591.270000</td>\n",
       "      <td>15.500000</td>\n",
       "      <td>718.410000</td>\n",
       "      <td>1019.070000</td>\n",
       "      <td>970.430000</td>\n",
       "      <td>930.350000</td>\n",
       "      <td>1003.000000</td>\n",
       "      <td>113606.460000</td>\n",
       "      <td>12.480000</td>\n",
       "      <td>122.000000</td>\n",
       "      <td>134.000000</td>\n",
       "      <td>5142.000000</td>\n",
       "      <td>8092.000000</td>\n",
       "      <td>1384.000000</td>\n",
       "      <td>1477.000000</td>\n",
       "      <td>42.000000</td>\n",
       "      <td>16116.000000</td>\n",
       "      <td>140.000000</td>\n",
       "      <td>0.662000</td>\n",
       "    </tr>\n",
       "  </tbody>\n",
       "</table>\n",
       "</div>"
      ],
      "text/plain": [
       "           Volume_A3   Mass_Daltons    HP_Scale  Surface_Area  Alpha_Helix  \\\n",
       "count     127.000000     127.000000  127.000000    127.000000   127.000000   \n",
       "mean    36783.157480   39197.960945 -129.391339    251.560315   347.698740   \n",
       "std     32931.632413   35066.089755  106.154385    225.712370   313.074169   \n",
       "min      1880.000000    1969.370000 -460.900000     12.410000    17.390000   \n",
       "25%     10320.500000   10859.875000 -198.800000     69.985000    94.460000   \n",
       "50%     16292.000000   17376.360000  -66.600000    113.820000   145.080000   \n",
       "75%     52862.500000   56571.185000  -48.250000    358.415000   514.085000   \n",
       "max    107117.000000  113591.270000   15.500000    718.410000  1019.070000   \n",
       "\n",
       "         B-Strand        Turn  Number_Amino_Acids  Molecular_Weight  \\\n",
       "count  127.000000  127.000000          127.000000        127.000000   \n",
       "mean   339.406929  321.467165          347.755906      39214.900000   \n",
       "std    306.587918  282.332116          309.881178      35065.136402   \n",
       "min     19.230000   11.680000           16.000000       1987.330000   \n",
       "25%     97.540000   91.305000           98.000000      10877.610000   \n",
       "50%    153.760000  152.510000          158.000000      17393.910000   \n",
       "75%    463.765000  478.955000          505.000000      56587.605000   \n",
       "max    970.430000  930.350000         1003.000000     113606.460000   \n",
       "\n",
       "       Theoretical_pI  Total_Negatively_Charged_Residues  \\\n",
       "count      127.000000                         127.000000   \n",
       "mean         9.248740                          33.149606   \n",
       "std          0.810046                          31.270220   \n",
       "min          6.080000                           0.000000   \n",
       "25%          8.840000                           8.000000   \n",
       "50%          9.160000                          13.000000   \n",
       "75%          9.605000                          55.000000   \n",
       "max         12.480000                         122.000000   \n",
       "\n",
       "       Total_Positively_Charged_Residues       Carbon     Hydrogen  \\\n",
       "count                         127.000000   127.000000   127.000000   \n",
       "mean                           42.196850  1735.228346  2762.535433   \n",
       "std                            35.109814  1566.498746  2469.356830   \n",
       "min                             0.000000    96.000000   143.000000   \n",
       "25%                            14.000000   482.000000   791.000000   \n",
       "50%                            18.000000   765.000000  1226.000000   \n",
       "75%                            69.000000  2469.000000  3963.000000   \n",
       "max                           134.000000  5142.000000  8092.000000   \n",
       "\n",
       "          Nitrogen       Oxygen      Sulfur  Total_Number_Atoms  \\\n",
       "count   127.000000   127.000000  127.000000          127.000000   \n",
       "mean    494.850394   509.992126   15.527559         5518.133858   \n",
       "std     434.289953   451.944608   14.660619         4935.836293   \n",
       "min      23.000000    23.000000    0.000000          285.000000   \n",
       "25%     149.500000   142.500000    3.000000         1555.500000   \n",
       "50%     220.000000   229.000000    7.000000         2447.000000   \n",
       "75%     722.000000   748.500000   28.500000         7929.000000   \n",
       "max    1384.000000  1477.000000   42.000000        16116.000000   \n",
       "\n",
       "       Aliphatic_Index  Grand_Average_Hydropathicity  \n",
       "count       127.000000                    127.000000  \n",
       "mean         84.896299                     -0.442756  \n",
       "std          12.610593                      0.220103  \n",
       "min          33.610000                     -1.262000  \n",
       "25%          76.025000                     -0.593000  \n",
       "50%          86.040000                     -0.460000  \n",
       "75%          92.570000                     -0.268500  \n",
       "max         140.000000                      0.662000  "
      ]
     },
     "execution_count": 5,
     "metadata": {},
     "output_type": "execute_result"
    }
   ],
   "source": [
    "dataset.describe()"
   ]
  },
  {
   "cell_type": "code",
   "execution_count": 6,
   "id": "1e736603",
   "metadata": {
    "execution": {
     "iopub.execute_input": "2023-11-27T23:51:36.596926Z",
     "iopub.status.busy": "2023-11-27T23:51:36.596515Z",
     "iopub.status.idle": "2023-11-27T23:51:36.954811Z",
     "shell.execute_reply": "2023-11-27T23:51:36.953666Z"
    },
    "papermill": {
     "duration": 0.372048,
     "end_time": "2023-11-27T23:51:36.957442",
     "exception": false,
     "start_time": "2023-11-27T23:51:36.585394",
     "status": "completed"
    },
    "tags": []
   },
   "outputs": [
    {
     "data": {
      "image/png": "[encoded data removed]",
      "text/plain": [
       "<Figure size 800x500 with 1 Axes>"
      ]
     },
     "metadata": {},
     "output_type": "display_data"
    }
   ],
   "source": [
    "tropisms_count = dataset[\"Tropisms\"].value_counts().reset_index()\n",
    "\n",
    "plt.figure(figsize= (8,5))\n",
    "sns.barplot(x= tropisms_count[\"Tropisms\"], y= tropisms_count[\"count\"])\n",
    "\n",
    "plt.title(\"Tropisms Count\")\n",
    "plt.xlabel(\"Tropisms\")\n",
    "plt.ylabel(\"Count\")\n",
    "\n",
    "for i,value in enumerate(tropisms_count[\"count\"]):\n",
    "    plt.text(x= i, y= value, s= f\"{value}\", ha= \"center\", va= \"bottom\", color= \"black\")\n",
    "plt.show()"
   ]
  },
  {
   "cell_type": "markdown",
   "id": "a2a232fa",
   "metadata": {
    "papermill": {
     "duration": 0.009797,
     "end_time": "2023-11-27T23:51:36.977687",
     "exception": false,
     "start_time": "2023-11-27T23:51:36.967890",
     "status": "completed"
    },
    "tags": []
   },
   "source": [
    "### Calculate MI score to perform feature selection"
   ]
  },
  {
   "cell_type": "code",
   "execution_count": 7,
   "id": "3e456cf1",
   "metadata": {
    "execution": {
     "iopub.execute_input": "2023-11-27T23:51:37.000023Z",
     "iopub.status.busy": "2023-11-27T23:51:36.999624Z",
     "iopub.status.idle": "2023-11-27T23:51:37.006367Z",
     "shell.execute_reply": "2023-11-27T23:51:37.005287Z"
    },
    "papermill": {
     "duration": 0.020617,
     "end_time": "2023-11-27T23:51:37.008489",
     "exception": false,
     "start_time": "2023-11-27T23:51:36.987872",
     "status": "completed"
    },
    "tags": []
   },
   "outputs": [],
   "source": [
    "def MI(x, y, bins= 50):\n",
    "    hist, _, _ = np.histogram2d(x, y, bins= bins)\n",
    "    \n",
    "    marginals = [np.sum(hist, axis= i) for i in range(2)]\n",
    "    \n",
    "    # Get the entropy\n",
    "    Px = entropy(marginals[0])\n",
    "    Py = entropy(marginals[1])\n",
    "    Pxy = entropy(hist.flatten())\n",
    "    \n",
    "    mi = Px + Py - Pxy\n",
    "    \n",
    "    return mi"
   ]
  },
  {
   "cell_type": "code",
   "execution_count": 8,
   "id": "e7ca3c3e",
   "metadata": {
    "execution": {
     "iopub.execute_input": "2023-11-27T23:51:37.031623Z",
     "iopub.status.busy": "2023-11-27T23:51:37.031236Z",
     "iopub.status.idle": "2023-11-27T23:51:37.631890Z",
     "shell.execute_reply": "2023-11-27T23:51:37.631073Z"
    },
    "papermill": {
     "duration": 0.615789,
     "end_time": "2023-11-27T23:51:37.634424",
     "exception": false,
     "start_time": "2023-11-27T23:51:37.018635",
     "status": "completed"
    },
    "tags": []
   },
   "outputs": [
    {
     "data": {
      "image/png": "[encoded data removed]",
      "text/plain": [
       "<Figure size 800x500 with 1 Axes>"
      ]
     },
     "metadata": {},
     "output_type": "display_data"
    }
   ],
   "source": [
    "MI_Score = {\n",
    "    'Variables': [],\n",
    "    'MI': []\n",
    "}\n",
    "for column in dataset.drop([\"Sequence\", \"Tropisms\"], axis= 1).columns:\n",
    "    MI_Score[\"Variables\"].append(column)\n",
    "    MI_Score[\"MI\"].append(MI(dataset[column].values, pd.Categorical(dataset[\"Tropisms\"]).codes, bins= 50))\n",
    "\n",
    "MI_df = pd.DataFrame(MI_Score).set_index(\"Variables\").sort_values(by= \"MI\", ascending= False)\n",
    "\n",
    "# MI Score BarPlot\n",
    "plt.figure(figsize= (8, 5))\n",
    "sns.barplot(y= MI_df.index, x= MI_df[\"MI\"])\n",
    "\n",
    "plt.title(\"MI Score per Feature\")\n",
    "plt.xlabel(\"MI score\")\n",
    "plt.ylabel(\"Feature\")\n",
    "plt.show()"
   ]
  },
  {
   "cell_type": "markdown",
   "id": "abc08392",
   "metadata": {
    "papermill": {
     "duration": 0.011491,
     "end_time": "2023-11-27T23:51:37.657172",
     "exception": false,
     "start_time": "2023-11-27T23:51:37.645681",
     "status": "completed"
    },
    "tags": []
   },
   "source": [
    "### Visualize Correlation between Features"
   ]
  },
  {
   "cell_type": "code",
   "execution_count": 9,
   "id": "ed393a79",
   "metadata": {
    "execution": {
     "iopub.execute_input": "2023-11-27T23:51:37.681671Z",
     "iopub.status.busy": "2023-11-27T23:51:37.680454Z",
     "iopub.status.idle": "2023-11-27T23:51:38.584126Z",
     "shell.execute_reply": "2023-11-27T23:51:38.582972Z"
    },
    "papermill": {
     "duration": 0.918975,
     "end_time": "2023-11-27T23:51:38.587280",
     "exception": false,
     "start_time": "2023-11-27T23:51:37.668305",
     "status": "completed"
    },
    "tags": []
   },
   "outputs": [
    {
     "data": {
      "image/png": "[encoded data removed]",
      "text/plain": [
       "<Figure size 800x500 with 2 Axes>"
      ]
     },
     "metadata": {},
     "output_type": "display_data"
    }
   ],
   "source": [
    "# Heatmap\n",
    "plt.figure(figsize= (8, 5))\n",
    "sns.heatmap(dataset.drop([\"Sequence\", \"Tropisms\"], axis= 1).corr(), )\n",
    "\n",
    "plt.title(\"Features Correlation\")\n",
    "plt.xlabel(\"Feature\")\n",
    "plt.ylabel(\"Feature\")\n",
    "plt.show()"
   ]
  },
  {
   "cell_type": "markdown",
   "id": "178342f6",
   "metadata": {
    "papermill": {
     "duration": 0.012675,
     "end_time": "2023-11-27T23:51:38.612466",
     "exception": false,
     "start_time": "2023-11-27T23:51:38.599791",
     "status": "completed"
    },
    "tags": []
   },
   "source": [
    "### Droping less informative features\n",
    "* Grand_Average_Hydropathicity\n",
    "* Aliphatic_Index\n",
    "* Theoretical_pI"
   ]
  },
  {
   "cell_type": "code",
   "execution_count": 10,
   "id": "aec6f669",
   "metadata": {
    "execution": {
     "iopub.execute_input": "2023-11-27T23:51:38.639953Z",
     "iopub.status.busy": "2023-11-27T23:51:38.639178Z",
     "iopub.status.idle": "2023-11-27T23:51:38.653413Z",
     "shell.execute_reply": "2023-11-27T23:51:38.652279Z"
    },
    "papermill": {
     "duration": 0.031503,
     "end_time": "2023-11-27T23:51:38.656376",
     "exception": false,
     "start_time": "2023-11-27T23:51:38.624873",
     "status": "completed"
    },
    "tags": []
   },
   "outputs": [
    {
     "name": "stdout",
     "output_type": "stream",
     "text": [
      "<class 'pandas.core.frame.DataFrame'>\n",
      "RangeIndex: 127 entries, 0 to 126\n",
      "Data columns (total 19 columns):\n",
      " #   Column                             Non-Null Count  Dtype  \n",
      "---  ------                             --------------  -----  \n",
      " 0   Sequence                           127 non-null    object \n",
      " 1   Tropisms                           127 non-null    object \n",
      " 2   Volume_A3                          127 non-null    float64\n",
      " 3   Mass_Daltons                       127 non-null    float64\n",
      " 4   HP_Scale                           127 non-null    float64\n",
      " 5   Surface_Area                       127 non-null    float64\n",
      " 6   Alpha_Helix                        127 non-null    float64\n",
      " 7   B-Strand                           127 non-null    float64\n",
      " 8   Turn                               127 non-null    float64\n",
      " 9   Number_Amino_Acids                 127 non-null    float64\n",
      " 10  Molecular_Weight                   127 non-null    float64\n",
      " 11  Total_Negatively_Charged_Residues  127 non-null    float64\n",
      " 12  Total_Positively_Charged_Residues  127 non-null    float64\n",
      " 13  Carbon                             127 non-null    float64\n",
      " 14  Hydrogen                           127 non-null    float64\n",
      " 15  Nitrogen                           127 non-null    float64\n",
      " 16  Oxygen                             127 non-null    float64\n",
      " 17  Sulfur                             127 non-null    float64\n",
      " 18  Total_Number_Atoms                 127 non-null    float64\n",
      "dtypes: float64(17), object(2)\n",
      "memory usage: 19.0+ KB\n"
     ]
    }
   ],
   "source": [
    "dataset.drop(['Grand_Average_Hydropathicity', 'Aliphatic_Index', 'Theoretical_pI'], axis= 1, inplace= True)\n",
    "dataset.info()"
   ]
  },
  {
   "cell_type": "markdown",
   "id": "1dbb4d4c",
   "metadata": {
    "papermill": {
     "duration": 0.012577,
     "end_time": "2023-11-27T23:51:38.686456",
     "exception": false,
     "start_time": "2023-11-27T23:51:38.673879",
     "status": "completed"
    },
    "tags": []
   },
   "source": [
    "## Trying to Predict the R5X4 Coreceptor Usage using XGBoost\n",
    "* Data Preprocessing\n",
    "* Training the Model:\n",
    "    * Dimensionality reduction performing PCA.\n",
    "    * Predict with the XGBoost model.\n",
    "    * Apply Grid-Search to tune PCA and XGBoost hyperparameters.\n",
    "* Testing the Model\n",
    "    * ROC curve and AUC score.\n",
    "    * Validation score.\n",
    "* Predict the class for the R5X4 coreceptor."
   ]
  },
  {
   "cell_type": "markdown",
   "id": "7106c023",
   "metadata": {
    "papermill": {
     "duration": 0.01226,
     "end_time": "2023-11-27T23:51:38.711359",
     "exception": false,
     "start_time": "2023-11-27T23:51:38.699099",
     "status": "completed"
    },
    "tags": []
   },
   "source": [
    "### Data Preprocessing "
   ]
  },
  {
   "cell_type": "code",
   "execution_count": 11,
   "id": "d876a787",
   "metadata": {
    "execution": {
     "iopub.execute_input": "2023-11-27T23:51:38.738888Z",
     "iopub.status.busy": "2023-11-27T23:51:38.738104Z",
     "iopub.status.idle": "2023-11-27T23:51:38.759198Z",
     "shell.execute_reply": "2023-11-27T23:51:38.758294Z"
    },
    "papermill": {
     "duration": 0.037918,
     "end_time": "2023-11-27T23:51:38.761712",
     "exception": false,
     "start_time": "2023-11-27T23:51:38.723794",
     "status": "completed"
    },
    "tags": []
   },
   "outputs": [],
   "source": [
    "# As we know, there are 64 samples for R5, 36 for X4 and 27 for R5X4 \n",
    "# to balance the data we can take only 36 samples for R5 and X4.\n",
    "samples = dataset[dataset.Tropisms != \"R5X4\"].groupby(\"Tropisms\").head(62) #36\n",
    "\n",
    "# R5 and X4 Coreceptor data.\n",
    "Xs = samples.drop([\"Sequence\", \"Tropisms\"], axis= 1).values\n",
    "y = pd.Categorical(samples.Tropisms).codes\n",
    "\n",
    "# We wiil use the rest of R5 data as validation.\n",
    "validation = dataset[~dataset.isin(samples)][dataset.Tropisms != \"R5X4\"].dropna()\n",
    "\n",
    "# Use the R5X4 Coreceptor data to predict.\n",
    "testing = dataset[~dataset.isin(samples)][dataset.Tropisms == \"R5X4\"]\n",
    "\n",
    "# Standardize data\n",
    "stc = StandardScaler()\n",
    "\n",
    "x_train = stc.fit_transform(Xs)\n",
    "y_train = y\n",
    "\n",
    "x_val = stc.transform(validation.drop([\"Sequence\", \"Tropisms\"], axis= 1).values)\n",
    "y_val = pd.Categorical(validation.Tropisms).codes\n",
    "\n",
    "test = stc.transform(testing.drop([\"Sequence\", \"Tropisms\"], axis= 1).values)"
   ]
  },
  {
   "cell_type": "markdown",
   "id": "40dcbe2e",
   "metadata": {
    "papermill": {
     "duration": 0.012145,
     "end_time": "2023-11-27T23:51:38.786431",
     "exception": false,
     "start_time": "2023-11-27T23:51:38.774286",
     "status": "completed"
    },
    "tags": []
   },
   "source": [
    "### Training the Model"
   ]
  },
  {
   "cell_type": "code",
   "execution_count": 12,
   "id": "1f128f2d",
   "metadata": {
    "execution": {
     "iopub.execute_input": "2023-11-27T23:51:38.816673Z",
     "iopub.status.busy": "2023-11-27T23:51:38.815639Z",
     "iopub.status.idle": "2023-11-27T23:52:14.116878Z",
     "shell.execute_reply": "2023-11-27T23:52:14.115559Z"
    },
    "papermill": {
     "duration": 35.334593,
     "end_time": "2023-11-27T23:52:14.133472",
     "exception": false,
     "start_time": "2023-11-27T23:51:38.798879",
     "status": "completed"
    },
    "tags": []
   },
   "outputs": [
    {
     "data": {
      "text/html": [
       "<style>#sk-container-id-1 {color: black;background-color: white;}#sk-container-id-1 pre{padding: 0;}#sk-container-id-1 div.sk-toggleable {background-color: white;}#sk-container-id-1 label.sk-toggleable__label {cursor: pointer;display: block;width: 100%;margin-bottom: 0;padding: 0.3em;box-sizing: border-box;text-align: center;}#sk-container-id-1 label.sk-toggleable__label-arrow:before {content: \"▸\";float: left;margin-right: 0.25em;color: #696969;}#sk-container-id-1 label.sk-toggleable__label-arrow:hover:before {color: black;}#sk-container-id-1 div.sk-estimator:hover label.sk-toggleable__label-arrow:before {color: black;}#sk-container-id-1 div.sk-toggleable__content {max-height: 0;max-width: 0;overflow: hidden;text-align: left;background-color: #f0f8ff;}#sk-container-id-1 div.sk-toggleable__content pre {margin: 0.2em;color: black;border-radius: 0.25em;background-color: #f0f8ff;}#sk-container-id-1 input.sk-toggleable__control:checked~div.sk-toggleable__content {max-height: 200px;max-width: 100%;overflow: auto;}#sk-container-id-1 input.sk-toggleable__control:checked~label.sk-toggleable__label-arrow:before {content: \"▾\";}#sk-container-id-1 div.sk-estimator input.sk-toggleable__control:checked~label.sk-toggleable__label {background-color: #d4ebff;}#sk-container-id-1 div.sk-label input.sk-toggleable__control:checked~label.sk-toggleable__label {background-color: #d4ebff;}#sk-container-id-1 input.sk-hidden--visually {border: 0;clip: rect(1px 1px 1px 1px);clip: rect(1px, 1px, 1px, 1px);height: 1px;margin: -1px;overflow: hidden;padding: 0;position: absolute;width: 1px;}#sk-container-id-1 div.sk-estimator {font-family: monospace;background-color: #f0f8ff;border: 1px dotted black;border-radius: 0.25em;box-sizing: border-box;margin-bottom: 0.5em;}#sk-container-id-1 div.sk-estimator:hover {background-color: #d4ebff;}#sk-container-id-1 div.sk-parallel-item::after {content: \"\";width: 100%;border-bottom: 1px solid gray;flex-grow: 1;}#sk-container-id-1 div.sk-label:hover label.sk-toggleable__label {background-color: #d4ebff;}#sk-container-id-1 div.sk-serial::before {content: \"\";position: absolute;border-left: 1px solid gray;box-sizing: border-box;top: 0;bottom: 0;left: 50%;z-index: 0;}#sk-container-id-1 div.sk-serial {display: flex;flex-direction: column;align-items: center;background-color: white;padding-right: 0.2em;padding-left: 0.2em;position: relative;}#sk-container-id-1 div.sk-item {position: relative;z-index: 1;}#sk-container-id-1 div.sk-parallel {display: flex;align-items: stretch;justify-content: center;background-color: white;position: relative;}#sk-container-id-1 div.sk-item::before, #sk-container-id-1 div.sk-parallel-item::before {content: \"\";position: absolute;border-left: 1px solid gray;box-sizing: border-box;top: 0;bottom: 0;left: 50%;z-index: -1;}#sk-container-id-1 div.sk-parallel-item {display: flex;flex-direction: column;z-index: 1;position: relative;background-color: white;}#sk-container-id-1 div.sk-parallel-item:first-child::after {align-self: flex-end;width: 50%;}#sk-container-id-1 div.sk-parallel-item:last-child::after {align-self: flex-start;width: 50%;}#sk-container-id-1 div.sk-parallel-item:only-child::after {width: 0;}#sk-container-id-1 div.sk-dashed-wrapped {border: 1px dashed gray;margin: 0 0.4em 0.5em 0.4em;box-sizing: border-box;padding-bottom: 0.4em;background-color: white;}#sk-container-id-1 div.sk-label label {font-family: monospace;font-weight: bold;display: inline-block;line-height: 1.2em;}#sk-container-id-1 div.sk-label-container {text-align: center;}#sk-container-id-1 div.sk-container {/* jupyter's `normalize.less` sets `[hidden] { display: none; }` but bootstrap.min.css set `[hidden] { display: none !important; }` so we also need the `!important` here to be able to override the default hidden behavior on the sphinx rendered scikit-learn.org. See: https://github.com/scikit-learn/scikit-learn/issues/21755 */display: inline-block !important;position: relative;}#sk-container-id-1 div.sk-text-repr-fallback {display: none;}</style><div id=\"sk-container-id-1\" class=\"sk-top-container\"><div class=\"sk-text-repr-fallback\"><pre>GridSearchCV(cv=5,\n",
       "             estimator=Pipeline(steps=[(&#x27;PCA&#x27;, PCA()),\n",
       "                                       (&#x27;Model&#x27;,\n",
       "                                        XGBClassifier(base_score=None,\n",
       "                                                      booster=None,\n",
       "                                                      callbacks=None,\n",
       "                                                      colsample_bylevel=None,\n",
       "                                                      colsample_bynode=None,\n",
       "                                                      colsample_bytree=None,\n",
       "                                                      device=None,\n",
       "                                                      early_stopping_rounds=None,\n",
       "                                                      enable_categorical=False,\n",
       "                                                      eval_metric=None,\n",
       "                                                      feature_types=None,\n",
       "                                                      gamma=None,\n",
       "                                                      grow_policy=None,\n",
       "                                                      importance_type=None,\n",
       "                                                      interacti...\n",
       "                                                      max_cat_to_onehot=None,\n",
       "                                                      max_delta_step=None,\n",
       "                                                      max_depth=None,\n",
       "                                                      max_leaves=None,\n",
       "                                                      min_child_weight=None,\n",
       "                                                      missing=nan,\n",
       "                                                      monotone_constraints=None,\n",
       "                                                      multi_strategy=None,\n",
       "                                                      n_estimators=None,\n",
       "                                                      n_jobs=None,\n",
       "                                                      num_parallel_tree=None,\n",
       "                                                      random_state=None, ...))]),\n",
       "             n_jobs=-1,\n",
       "             param_grid={&#x27;Model__eta&#x27;: [0.1, 0.01, 0.001],\n",
       "                         &#x27;Model__n_estimators&#x27;: [100, 300, 500],\n",
       "                         &#x27;PCA__n_components&#x27;: range(1, 18)})</pre><b>In a Jupyter environment, please rerun this cell to show the HTML representation or trust the notebook. <br />On GitHub, the HTML representation is unable to render, please try loading this page with nbviewer.org.</b></div><div class=\"sk-container\" hidden><div class=\"sk-item sk-dashed-wrapped\"><div class=\"sk-label-container\"><div class=\"sk-label sk-toggleable\"><input class=\"sk-toggleable__control sk-hidden--visually\" id=\"sk-estimator-id-1\" type=\"checkbox\" ><label for=\"sk-estimator-id-1\" class=\"sk-toggleable__label sk-toggleable__label-arrow\">GridSearchCV</label><div class=\"sk-toggleable__content\"><pre>GridSearchCV(cv=5,\n",
       "             estimator=Pipeline(steps=[(&#x27;PCA&#x27;, PCA()),\n",
       "                                       (&#x27;Model&#x27;,\n",
       "                                        XGBClassifier(base_score=None,\n",
       "                                                      booster=None,\n",
       "                                                      callbacks=None,\n",
       "                                                      colsample_bylevel=None,\n",
       "                                                      colsample_bynode=None,\n",
       "                                                      colsample_bytree=None,\n",
       "                                                      device=None,\n",
       "                                                      early_stopping_rounds=None,\n",
       "                                                      enable_categorical=False,\n",
       "                                                      eval_metric=None,\n",
       "                                                      feature_types=None,\n",
       "                                                      gamma=None,\n",
       "                                                      grow_policy=None,\n",
       "                                                      importance_type=None,\n",
       "                                                      interacti...\n",
       "                                                      max_cat_to_onehot=None,\n",
       "                                                      max_delta_step=None,\n",
       "                                                      max_depth=None,\n",
       "                                                      max_leaves=None,\n",
       "                                                      min_child_weight=None,\n",
       "                                                      missing=nan,\n",
       "                                                      monotone_constraints=None,\n",
       "                                                      multi_strategy=None,\n",
       "                                                      n_estimators=None,\n",
       "                                                      n_jobs=None,\n",
       "                                                      num_parallel_tree=None,\n",
       "                                                      random_state=None, ...))]),\n",
       "             n_jobs=-1,\n",
       "             param_grid={&#x27;Model__eta&#x27;: [0.1, 0.01, 0.001],\n",
       "                         &#x27;Model__n_estimators&#x27;: [100, 300, 500],\n",
       "                         &#x27;PCA__n_components&#x27;: range(1, 18)})</pre></div></div></div><div class=\"sk-parallel\"><div class=\"sk-parallel-item\"><div class=\"sk-item\"><div class=\"sk-label-container\"><div class=\"sk-label sk-toggleable\"><input class=\"sk-toggleable__control sk-hidden--visually\" id=\"sk-estimator-id-2\" type=\"checkbox\" ><label for=\"sk-estimator-id-2\" class=\"sk-toggleable__label sk-toggleable__label-arrow\">estimator: Pipeline</label><div class=\"sk-toggleable__content\"><pre>Pipeline(steps=[(&#x27;PCA&#x27;, PCA()),\n",
       "                (&#x27;Model&#x27;,\n",
       "                 XGBClassifier(base_score=None, booster=None, callbacks=None,\n",
       "                               colsample_bylevel=None, colsample_bynode=None,\n",
       "                               colsample_bytree=None, device=None,\n",
       "                               early_stopping_rounds=None,\n",
       "                               enable_categorical=False, eval_metric=None,\n",
       "                               feature_types=None, gamma=None, grow_policy=None,\n",
       "                               importance_type=None,\n",
       "                               interaction_constraints=None, learning_rate=None,\n",
       "                               max_bin=None, max_cat_threshold=None,\n",
       "                               max_cat_to_onehot=None, max_delta_step=None,\n",
       "                               max_depth=None, max_leaves=None,\n",
       "                               min_child_weight=None, missing=nan,\n",
       "                               monotone_constraints=None, multi_strategy=None,\n",
       "                               n_estimators=None, n_jobs=None,\n",
       "                               num_parallel_tree=None, random_state=None, ...))])</pre></div></div></div><div class=\"sk-serial\"><div class=\"sk-item\"><div class=\"sk-serial\"><div class=\"sk-item\"><div class=\"sk-estimator sk-toggleable\"><input class=\"sk-toggleable__control sk-hidden--visually\" id=\"sk-estimator-id-3\" type=\"checkbox\" ><label for=\"sk-estimator-id-3\" class=\"sk-toggleable__label sk-toggleable__label-arrow\">PCA</label><div class=\"sk-toggleable__content\"><pre>PCA()</pre></div></div></div><div class=\"sk-item\"><div class=\"sk-estimator sk-toggleable\"><input class=\"sk-toggleable__control sk-hidden--visually\" id=\"sk-estimator-id-4\" type=\"checkbox\" ><label for=\"sk-estimator-id-4\" class=\"sk-toggleable__label sk-toggleable__label-arrow\">XGBClassifier</label><div class=\"sk-toggleable__content\"><pre>XGBClassifier(base_score=None, booster=None, callbacks=None,\n",
       "              colsample_bylevel=None, colsample_bynode=None,\n",
       "              colsample_bytree=None, device=None, early_stopping_rounds=None,\n",
       "              enable_categorical=False, eval_metric=None, feature_types=None,\n",
       "              gamma=None, grow_policy=None, importance_type=None,\n",
       "              interaction_constraints=None, learning_rate=None, max_bin=None,\n",
       "              max_cat_threshold=None, max_cat_to_onehot=None,\n",
       "              max_delta_step=None, max_depth=None, max_leaves=None,\n",
       "              min_child_weight=None, missing=nan, monotone_constraints=None,\n",
       "              multi_strategy=None, n_estimators=None, n_jobs=None,\n",
       "              num_parallel_tree=None, random_state=None, ...)</pre></div></div></div></div></div></div></div></div></div></div></div></div>"
      ],
      "text/plain": [
       "GridSearchCV(cv=5,\n",
       "             estimator=Pipeline(steps=[('PCA', PCA()),\n",
       "                                       ('Model',\n",
       "                                        XGBClassifier(base_score=None,\n",
       "                                                      booster=None,\n",
       "                                                      callbacks=None,\n",
       "                                                      colsample_bylevel=None,\n",
       "                                                      colsample_bynode=None,\n",
       "                                                      colsample_bytree=None,\n",
       "                                                      device=None,\n",
       "                                                      early_stopping_rounds=None,\n",
       "                                                      enable_categorical=False,\n",
       "                                                      eval_metric=None,\n",
       "                                                      feature_types=None,\n",
       "                                                      gamma=None,\n",
       "                                                      grow_policy=None,\n",
       "                                                      importance_type=None,\n",
       "                                                      interacti...\n",
       "                                                      max_cat_to_onehot=None,\n",
       "                                                      max_delta_step=None,\n",
       "                                                      max_depth=None,\n",
       "                                                      max_leaves=None,\n",
       "                                                      min_child_weight=None,\n",
       "                                                      missing=nan,\n",
       "                                                      monotone_constraints=None,\n",
       "                                                      multi_strategy=None,\n",
       "                                                      n_estimators=None,\n",
       "                                                      n_jobs=None,\n",
       "                                                      num_parallel_tree=None,\n",
       "                                                      random_state=None, ...))]),\n",
       "             n_jobs=-1,\n",
       "             param_grid={'Model__eta': [0.1, 0.01, 0.001],\n",
       "                         'Model__n_estimators': [100, 300, 500],\n",
       "                         'PCA__n_components': range(1, 18)})"
      ]
     },
     "execution_count": 12,
     "metadata": {},
     "output_type": "execute_result"
    }
   ],
   "source": [
    "pipeline = Pipeline(\n",
    "    [\n",
    "        (\"PCA\", PCA()),\n",
    "        (\"Model\", xgb.XGBClassifier())\n",
    "    ])\n",
    "\n",
    "params= {\n",
    "    \"PCA__n_components\": range(1,18),\n",
    "    \"Model__n_estimators\": [100, 300, 500],\n",
    "    \"Model__eta\": [0.1, 0.01, 0.001]\n",
    "}\n",
    "\n",
    "grid_clf = GridSearchCV(pipeline, params, cv= 5, n_jobs= -1)\n",
    "grid_clf.fit(x_train, y_train)"
   ]
  },
  {
   "cell_type": "markdown",
   "id": "672aacfa",
   "metadata": {
    "papermill": {
     "duration": 0.013223,
     "end_time": "2023-11-27T23:52:14.160095",
     "exception": false,
     "start_time": "2023-11-27T23:52:14.146872",
     "status": "completed"
    },
    "tags": []
   },
   "source": [
    "### Testing the Model"
   ]
  },
  {
   "cell_type": "markdown",
   "id": "8bcda30f",
   "metadata": {
    "papermill": {
     "duration": 0.013404,
     "end_time": "2023-11-27T23:52:14.187239",
     "exception": false,
     "start_time": "2023-11-27T23:52:14.173835",
     "status": "completed"
    },
    "tags": []
   },
   "source": [
    "#### Training Data"
   ]
  },
  {
   "cell_type": "code",
   "execution_count": 13,
   "id": "5027a419",
   "metadata": {
    "execution": {
     "iopub.execute_input": "2023-11-27T23:52:14.217566Z",
     "iopub.status.busy": "2023-11-27T23:52:14.217158Z",
     "iopub.status.idle": "2023-11-27T23:52:14.708153Z",
     "shell.execute_reply": "2023-11-27T23:52:14.706952Z"
    },
    "papermill": {
     "duration": 0.509034,
     "end_time": "2023-11-27T23:52:14.710934",
     "exception": false,
     "start_time": "2023-11-27T23:52:14.201900",
     "status": "completed"
    },
    "tags": []
   },
   "outputs": [
    {
     "data": {
      "image/png": "[encoded data removed]",
      "text/plain": [
       "<Figure size 600x400 with 1 Axes>"
      ]
     },
     "metadata": {},
     "output_type": "display_data"
    }
   ],
   "source": [
    "# Training ROC curve and AUC score\n",
    "train_pred = grid_clf.predict(x_train)\n",
    "fpr, tpr, _ = roc_curve(y_train, train_pred)\n",
    "auc_score = auc(fpr, tpr)\n",
    "\n",
    "plt.figure(figsize=(6, 4))\n",
    "\n",
    "sns.lineplot(x= fpr, y= tpr, label= \"XGBoost\") # XGBoost Model\n",
    "sns.lineplot(x= [0,1], y= [0,1], color= \"red\", label= \"Random Guess\", linestyle='--') # Random Guess\n",
    "plt.title(\"Training ROC curve\")\n",
    "\n",
    "\n",
    "plt.text(x= 0, y=0.75, s= f\"AUC Score: {auc_score}\")\n",
    "plt.xlabel(\"False Positive Rate\")\n",
    "plt.ylabel(\"True Positive Rate\")\n",
    "plt.show()"
   ]
  },
  {
   "cell_type": "code",
   "execution_count": 14,
   "id": "9956366b",
   "metadata": {
    "execution": {
     "iopub.execute_input": "2023-11-27T23:52:14.741479Z",
     "iopub.status.busy": "2023-11-27T23:52:14.741097Z",
     "iopub.status.idle": "2023-11-27T23:52:14.748904Z",
     "shell.execute_reply": "2023-11-27T23:52:14.748111Z"
    },
    "papermill": {
     "duration": 0.025883,
     "end_time": "2023-11-27T23:52:14.751227",
     "exception": false,
     "start_time": "2023-11-27T23:52:14.725344",
     "status": "completed"
    },
    "tags": []
   },
   "outputs": [
    {
     "data": {
      "text/plain": [
       "array([[62,  0],\n",
       "       [ 0, 36]])"
      ]
     },
     "execution_count": 14,
     "metadata": {},
     "output_type": "execute_result"
    }
   ],
   "source": [
    "# Training Confusion Matrix\n",
    "confusion_matrix(train_pred, y_train)"
   ]
  },
  {
   "cell_type": "markdown",
   "id": "2baec120",
   "metadata": {
    "papermill": {
     "duration": 0.014263,
     "end_time": "2023-11-27T23:52:14.779752",
     "exception": false,
     "start_time": "2023-11-27T23:52:14.765489",
     "status": "completed"
    },
    "tags": []
   },
   "source": [
    "#### Validation Data"
   ]
  },
  {
   "cell_type": "code",
   "execution_count": 15,
   "id": "6fdc40f1",
   "metadata": {
    "execution": {
     "iopub.execute_input": "2023-11-27T23:52:14.810285Z",
     "iopub.status.busy": "2023-11-27T23:52:14.809881Z",
     "iopub.status.idle": "2023-11-27T23:52:14.819113Z",
     "shell.execute_reply": "2023-11-27T23:52:14.818249Z"
    },
    "papermill": {
     "duration": 0.028417,
     "end_time": "2023-11-27T23:52:14.822593",
     "exception": false,
     "start_time": "2023-11-27T23:52:14.794176",
     "status": "completed"
    },
    "tags": []
   },
   "outputs": [
    {
     "name": "stdout",
     "output_type": "stream",
     "text": [
      "Validation Score: 1.0\n"
     ]
    }
   ],
   "source": [
    "# Validation Score\n",
    "val_score = grid_clf.score(x_val, y_val)\n",
    "print(f\"Validation Score: {val_score}\")"
   ]
  },
  {
   "cell_type": "markdown",
   "id": "de2fc278",
   "metadata": {
    "papermill": {
     "duration": 0.014037,
     "end_time": "2023-11-27T23:52:14.852777",
     "exception": false,
     "start_time": "2023-11-27T23:52:14.838740",
     "status": "completed"
    },
    "tags": []
   },
   "source": [
    "### Predict the class for the R5X4 coreceptor."
   ]
  },
  {
   "cell_type": "code",
   "execution_count": 16,
   "id": "51716793",
   "metadata": {
    "execution": {
     "iopub.execute_input": "2023-11-27T23:52:14.883558Z",
     "iopub.status.busy": "2023-11-27T23:52:14.883126Z",
     "iopub.status.idle": "2023-11-27T23:52:14.904552Z",
     "shell.execute_reply": "2023-11-27T23:52:14.903587Z"
    },
    "papermill": {
     "duration": 0.039602,
     "end_time": "2023-11-27T23:52:14.906884",
     "exception": false,
     "start_time": "2023-11-27T23:52:14.867282",
     "status": "completed"
    },
    "tags": []
   },
   "outputs": [
    {
     "data": {
      "text/html": [
       "<div>\n",
       "<style scoped>\n",
       "    .dataframe tbody tr th:only-of-type {\n",
       "        vertical-align: middle;\n",
       "    }\n",
       "\n",
       "    .dataframe tbody tr th {\n",
       "        vertical-align: top;\n",
       "    }\n",
       "\n",
       "    .dataframe thead th {\n",
       "        text-align: right;\n",
       "    }\n",
       "</style>\n",
       "<table border=\"1\" class=\"dataframe\">\n",
       "  <thead>\n",
       "    <tr style=\"text-align: right;\">\n",
       "      <th></th>\n",
       "      <th>Sequence</th>\n",
       "      <th>Tropisms</th>\n",
       "      <th>Coreceptor Predicted</th>\n",
       "    </tr>\n",
       "  </thead>\n",
       "  <tbody>\n",
       "    <tr>\n",
       "      <th>0</th>\n",
       "      <td>AB014795</td>\n",
       "      <td>R5X4</td>\n",
       "      <td>X4</td>\n",
       "    </tr>\n",
       "    <tr>\n",
       "      <th>4</th>\n",
       "      <td>AF062029</td>\n",
       "      <td>R5X4</td>\n",
       "      <td>X4</td>\n",
       "    </tr>\n",
       "    <tr>\n",
       "      <th>7</th>\n",
       "      <td>AF062031</td>\n",
       "      <td>R5X4</td>\n",
       "      <td>X4</td>\n",
       "    </tr>\n",
       "    <tr>\n",
       "      <th>11</th>\n",
       "      <td>AF062033</td>\n",
       "      <td>R5X4</td>\n",
       "      <td>X4</td>\n",
       "    </tr>\n",
       "    <tr>\n",
       "      <th>14</th>\n",
       "      <td>AF107771</td>\n",
       "      <td>R5X4</td>\n",
       "      <td>R5</td>\n",
       "    </tr>\n",
       "    <tr>\n",
       "      <th>18</th>\n",
       "      <td>U08680</td>\n",
       "      <td>R5X4</td>\n",
       "      <td>R5</td>\n",
       "    </tr>\n",
       "    <tr>\n",
       "      <th>21</th>\n",
       "      <td>U08682</td>\n",
       "      <td>R5X4</td>\n",
       "      <td>R5</td>\n",
       "    </tr>\n",
       "    <tr>\n",
       "      <th>25</th>\n",
       "      <td>U08444</td>\n",
       "      <td>R5X4</td>\n",
       "      <td>R5</td>\n",
       "    </tr>\n",
       "    <tr>\n",
       "      <th>29</th>\n",
       "      <td>U08445</td>\n",
       "      <td>R5X4</td>\n",
       "      <td>R5</td>\n",
       "    </tr>\n",
       "    <tr>\n",
       "      <th>33</th>\n",
       "      <td>AF355674</td>\n",
       "      <td>R5X4</td>\n",
       "      <td>X4</td>\n",
       "    </tr>\n",
       "    <tr>\n",
       "      <th>37</th>\n",
       "      <td>AF355647</td>\n",
       "      <td>R5X4</td>\n",
       "      <td>X4</td>\n",
       "    </tr>\n",
       "    <tr>\n",
       "      <th>40</th>\n",
       "      <td>AF355630</td>\n",
       "      <td>R5X4</td>\n",
       "      <td>X4</td>\n",
       "    </tr>\n",
       "    <tr>\n",
       "      <th>43</th>\n",
       "      <td>AF355690</td>\n",
       "      <td>R5X4</td>\n",
       "      <td>X4</td>\n",
       "    </tr>\n",
       "    <tr>\n",
       "      <th>49</th>\n",
       "      <td>AF035532</td>\n",
       "      <td>R5X4</td>\n",
       "      <td>R5</td>\n",
       "    </tr>\n",
       "    <tr>\n",
       "      <th>53</th>\n",
       "      <td>AF035533</td>\n",
       "      <td>R5X4</td>\n",
       "      <td>R5</td>\n",
       "    </tr>\n",
       "    <tr>\n",
       "      <th>55</th>\n",
       "      <td>AF259019</td>\n",
       "      <td>R5X4</td>\n",
       "      <td>X4</td>\n",
       "    </tr>\n",
       "    <tr>\n",
       "      <th>59</th>\n",
       "      <td>AF259025</td>\n",
       "      <td>R5X4</td>\n",
       "      <td>R5</td>\n",
       "    </tr>\n",
       "    <tr>\n",
       "      <th>63</th>\n",
       "      <td>AF259021</td>\n",
       "      <td>R5X4</td>\n",
       "      <td>X4</td>\n",
       "    </tr>\n",
       "    <tr>\n",
       "      <th>66</th>\n",
       "      <td>AF259041</td>\n",
       "      <td>R5X4</td>\n",
       "      <td>X4</td>\n",
       "    </tr>\n",
       "    <tr>\n",
       "      <th>70</th>\n",
       "      <td>AF258970</td>\n",
       "      <td>R5X4</td>\n",
       "      <td>R5</td>\n",
       "    </tr>\n",
       "    <tr>\n",
       "      <th>72</th>\n",
       "      <td>AF258978</td>\n",
       "      <td>R5X4</td>\n",
       "      <td>X4</td>\n",
       "    </tr>\n",
       "    <tr>\n",
       "      <th>76</th>\n",
       "      <td>AF021607</td>\n",
       "      <td>R5X4</td>\n",
       "      <td>R5</td>\n",
       "    </tr>\n",
       "    <tr>\n",
       "      <th>80</th>\n",
       "      <td>AF204137</td>\n",
       "      <td>R5X4</td>\n",
       "      <td>R5</td>\n",
       "    </tr>\n",
       "    <tr>\n",
       "      <th>86</th>\n",
       "      <td>M17451</td>\n",
       "      <td>R5X4</td>\n",
       "      <td>X4</td>\n",
       "    </tr>\n",
       "    <tr>\n",
       "      <th>90</th>\n",
       "      <td>K02007</td>\n",
       "      <td>R5X4</td>\n",
       "      <td>R5</td>\n",
       "    </tr>\n",
       "    <tr>\n",
       "      <th>93</th>\n",
       "      <td>U39362</td>\n",
       "      <td>R5X4</td>\n",
       "      <td>R5</td>\n",
       "    </tr>\n",
       "    <tr>\n",
       "      <th>98</th>\n",
       "      <td>AF458235</td>\n",
       "      <td>R5X4</td>\n",
       "      <td>R5</td>\n",
       "    </tr>\n",
       "  </tbody>\n",
       "</table>\n",
       "</div>"
      ],
      "text/plain": [
       "    Sequence Tropisms Coreceptor Predicted\n",
       "0   AB014795     R5X4                   X4\n",
       "4   AF062029     R5X4                   X4\n",
       "7   AF062031     R5X4                   X4\n",
       "11  AF062033     R5X4                   X4\n",
       "14  AF107771     R5X4                   R5\n",
       "18    U08680     R5X4                   R5\n",
       "21    U08682     R5X4                   R5\n",
       "25    U08444     R5X4                   R5\n",
       "29    U08445     R5X4                   R5\n",
       "33  AF355674     R5X4                   X4\n",
       "37  AF355647     R5X4                   X4\n",
       "40  AF355630     R5X4                   X4\n",
       "43  AF355690     R5X4                   X4\n",
       "49  AF035532     R5X4                   R5\n",
       "53  AF035533     R5X4                   R5\n",
       "55  AF259019     R5X4                   X4\n",
       "59  AF259025     R5X4                   R5\n",
       "63  AF259021     R5X4                   X4\n",
       "66  AF259041     R5X4                   X4\n",
       "70  AF258970     R5X4                   R5\n",
       "72  AF258978     R5X4                   X4\n",
       "76  AF021607     R5X4                   R5\n",
       "80  AF204137     R5X4                   R5\n",
       "86    M17451     R5X4                   X4\n",
       "90    K02007     R5X4                   R5\n",
       "93    U39362     R5X4                   R5\n",
       "98  AF458235     R5X4                   R5"
      ]
     },
     "execution_count": 16,
     "metadata": {},
     "output_type": "execute_result"
    }
   ],
   "source": [
    "r5x4 = np.array([\"X4\" if cor else \"R5\" for cor in grid_clf.predict(test)])\n",
    "coreceptors = testing[[\"Sequence\", \"Tropisms\"]].copy()\n",
    "coreceptors[\"Coreceptor Predicted\"] = r5x4\n",
    "coreceptors"
   ]
  }
 ],
 "metadata": {
  "kaggle": {
   "accelerator": "none",
   "dataSources": [
    {
     "datasetId": 4064204,
     "sourceId": 7059782,
     "sourceType": "datasetVersion"
    }
   ],
   "dockerImageVersionId": 30587,
   "isGpuEnabled": false,
   "isInternetEnabled": true,
   "language": "python",
   "sourceType": "notebook"
  },
  "kernelspec": {
   "display_name": "Python 3",
   "language": "python",
   "name": "python3"
  },
  "language_info": {
   "codemirror_mode": {
    "name": "ipython",
    "version": 3
   },
   "file_extension": ".py",
   "mimetype": "text/x-python",
   "name": "python",
   "nbconvert_exporter": "python",
   "pygments_lexer": "ipython3",
   "version": "3.10.12"
  },
  "papermill": {
   "default_parameters": {},
   "duration": 47.16929,
   "end_time": "2023-11-27T23:52:17.543053",
   "environment_variables": {},
   "exception": null,
   "input_path": "__notebook__.ipynb",
   "output_path": "__notebook__.ipynb",
   "parameters": {},
   "start_time": "2023-11-27T23:51:30.373763",
   "version": "2.4.0"
  }
 },
 "nbformat": 4,
 "nbformat_minor": 5
}
