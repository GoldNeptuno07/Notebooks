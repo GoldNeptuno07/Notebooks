{
 "cells": [
  {
   "cell_type": "code",
   "execution_count": 1,
   "id": "ea9790de",
   "metadata": {
    "_cell_guid": "b1076dfc-b9ad-4769-8c92-a6c4dae69d19",
    "_uuid": "8f2839f25d086af736a60e9eeb907d3b93b6e0e5",
    "execution": {
     "iopub.execute_input": "2023-10-14T20:40:08.273290Z",
     "iopub.status.busy": "2023-10-14T20:40:08.272755Z",
     "iopub.status.idle": "2023-10-14T20:40:10.797916Z",
     "shell.execute_reply": "2023-10-14T20:40:10.796429Z"
    },
    "papermill": {
     "duration": 2.532355,
     "end_time": "2023-10-14T20:40:10.799976",
     "exception": false,
     "start_time": "2023-10-14T20:40:08.267621",
     "status": "completed"
    },
    "tags": []
   },
   "outputs": [
    {
     "name": "stderr",
     "output_type": "stream",
     "text": [
      "/opt/conda/lib/python3.10/site-packages/scipy/__init__.py:146: UserWarning: A NumPy version >=1.16.5 and <1.23.0 is required for this version of SciPy (detected version 1.23.5\n",
      "  warnings.warn(f\"A NumPy version >={np_minversion} and <{np_maxversion}\"\n"
     ]
    },
    {
     "name": "stdout",
     "output_type": "stream",
     "text": [
      "/kaggle/input/movie-reviews-homework/movie_data.csv\n"
     ]
    }
   ],
   "source": [
    "import numpy as np \n",
    "import pandas as pd \n",
    "import matplotlib.pyplot as plt\n",
    "import re\n",
    "import nltk\n",
    "from nltk.corpus import stopwords\n",
    "from nltk.stem.porter import PorterStemmer\n",
    "\n",
    "plt.style.use(\"ggplot\")\n",
    "\n",
    "import os\n",
    "for dirname, _, filenames in os.walk('/kaggle/input'):\n",
    "    for filename in filenames:\n",
    "        print(os.path.join(dirname, filename))"
   ]
  },
  {
   "cell_type": "markdown",
   "id": "01523676",
   "metadata": {
    "papermill": {
     "duration": 0.003621,
     "end_time": "2023-10-14T20:40:10.807566",
     "exception": false,
     "start_time": "2023-10-14T20:40:10.803945",
     "status": "completed"
    },
    "tags": []
   },
   "source": [
    "## Read the Data"
   ]
  },
  {
   "cell_type": "code",
   "execution_count": 2,
   "id": "55e6838b",
   "metadata": {
    "execution": {
     "iopub.execute_input": "2023-10-14T20:40:10.816220Z",
     "iopub.status.busy": "2023-10-14T20:40:10.815848Z",
     "iopub.status.idle": "2023-10-14T20:40:12.369766Z",
     "shell.execute_reply": "2023-10-14T20:40:12.368855Z"
    },
    "papermill": {
     "duration": 1.560415,
     "end_time": "2023-10-14T20:40:12.371575",
     "exception": false,
     "start_time": "2023-10-14T20:40:10.811160",
     "status": "completed"
    },
    "tags": []
   },
   "outputs": [
    {
     "data": {
      "text/html": [
       "<div>\n",
       "<style scoped>\n",
       "    .dataframe tbody tr th:only-of-type {\n",
       "        vertical-align: middle;\n",
       "    }\n",
       "\n",
       "    .dataframe tbody tr th {\n",
       "        vertical-align: top;\n",
       "    }\n",
       "\n",
       "    .dataframe thead th {\n",
       "        text-align: right;\n",
       "    }\n",
       "</style>\n",
       "<table border=\"1\" class=\"dataframe\">\n",
       "  <thead>\n",
       "    <tr style=\"text-align: right;\">\n",
       "      <th></th>\n",
       "      <th>review</th>\n",
       "      <th>sentiment</th>\n",
       "    </tr>\n",
       "  </thead>\n",
       "  <tbody>\n",
       "    <tr>\n",
       "      <th>0</th>\n",
       "      <td>In 1974, the teenager Martha Moxley (Maggie Gr...</td>\n",
       "      <td>1</td>\n",
       "    </tr>\n",
       "    <tr>\n",
       "      <th>1</th>\n",
       "      <td>OK... so... I really like Kris Kristofferson a...</td>\n",
       "      <td>0</td>\n",
       "    </tr>\n",
       "    <tr>\n",
       "      <th>2</th>\n",
       "      <td>***SPOILER*** Do not read this, if you think a...</td>\n",
       "      <td>0</td>\n",
       "    </tr>\n",
       "    <tr>\n",
       "      <th>3</th>\n",
       "      <td>hi for all the people who have seen this wonde...</td>\n",
       "      <td>1</td>\n",
       "    </tr>\n",
       "    <tr>\n",
       "      <th>4</th>\n",
       "      <td>I recently bought the DVD, forgetting just how...</td>\n",
       "      <td>0</td>\n",
       "    </tr>\n",
       "    <tr>\n",
       "      <th>5</th>\n",
       "      <td>Leave it to Braik to put on a good show. Final...</td>\n",
       "      <td>1</td>\n",
       "    </tr>\n",
       "    <tr>\n",
       "      <th>6</th>\n",
       "      <td>Nathan Detroit (Frank Sinatra) is the manager ...</td>\n",
       "      <td>1</td>\n",
       "    </tr>\n",
       "    <tr>\n",
       "      <th>7</th>\n",
       "      <td>To understand \"Crash Course\" in the right cont...</td>\n",
       "      <td>1</td>\n",
       "    </tr>\n",
       "    <tr>\n",
       "      <th>8</th>\n",
       "      <td>I've been impressed with Chavez's stance again...</td>\n",
       "      <td>1</td>\n",
       "    </tr>\n",
       "    <tr>\n",
       "      <th>9</th>\n",
       "      <td>This movie is directed by Renny Harlin the fin...</td>\n",
       "      <td>1</td>\n",
       "    </tr>\n",
       "  </tbody>\n",
       "</table>\n",
       "</div>"
      ],
      "text/plain": [
       "                                              review  sentiment\n",
       "0  In 1974, the teenager Martha Moxley (Maggie Gr...          1\n",
       "1  OK... so... I really like Kris Kristofferson a...          0\n",
       "2  ***SPOILER*** Do not read this, if you think a...          0\n",
       "3  hi for all the people who have seen this wonde...          1\n",
       "4  I recently bought the DVD, forgetting just how...          0\n",
       "5  Leave it to Braik to put on a good show. Final...          1\n",
       "6  Nathan Detroit (Frank Sinatra) is the manager ...          1\n",
       "7  To understand \"Crash Course\" in the right cont...          1\n",
       "8  I've been impressed with Chavez's stance again...          1\n",
       "9  This movie is directed by Renny Harlin the fin...          1"
      ]
     },
     "execution_count": 2,
     "metadata": {},
     "output_type": "execute_result"
    }
   ],
   "source": [
    "# Read the data\n",
    "data = pd.read_csv(\"/kaggle/input/movie-reviews-homework/movie_data.csv\")\n",
    "data.head(10)"
   ]
  },
  {
   "cell_type": "code",
   "execution_count": 3,
   "id": "55a63d96",
   "metadata": {
    "execution": {
     "iopub.execute_input": "2023-10-14T20:40:12.380732Z",
     "iopub.status.busy": "2023-10-14T20:40:12.380471Z",
     "iopub.status.idle": "2023-10-14T20:40:12.647686Z",
     "shell.execute_reply": "2023-10-14T20:40:12.646784Z"
    },
    "papermill": {
     "duration": 0.274123,
     "end_time": "2023-10-14T20:40:12.649702",
     "exception": false,
     "start_time": "2023-10-14T20:40:12.375579",
     "status": "completed"
    },
    "tags": []
   },
   "outputs": [
    {
     "data": {
      "image/png": "[encoded data removed]",
      "text/plain": [
       "<Figure size 1000x500 with 1 Axes>"
      ]
     },
     "metadata": {},
     "output_type": "display_data"
    }
   ],
   "source": [
    "# Amount of Positive and Negative Reviews\n",
    "data.sentiment.value_counts().plot(kind= \"bar\", \n",
    "                                   title= \"Negative and Positive Reviews\", figsize= (10, 5))\n",
    "plt.show()"
   ]
  },
  {
   "cell_type": "markdown",
   "id": "47519be5",
   "metadata": {
    "papermill": {
     "duration": 0.003933,
     "end_time": "2023-10-14T20:40:12.657947",
     "exception": false,
     "start_time": "2023-10-14T20:40:12.654014",
     "status": "completed"
    },
    "tags": []
   },
   "source": [
    "## Cleaning the Data"
   ]
  },
  {
   "cell_type": "code",
   "execution_count": 4,
   "id": "0251b160",
   "metadata": {
    "execution": {
     "iopub.execute_input": "2023-10-14T20:40:12.666848Z",
     "iopub.status.busy": "2023-10-14T20:40:12.666591Z",
     "iopub.status.idle": "2023-10-14T20:40:12.672501Z",
     "shell.execute_reply": "2023-10-14T20:40:12.671325Z"
    },
    "papermill": {
     "duration": 0.012493,
     "end_time": "2023-10-14T20:40:12.674329",
     "exception": false,
     "start_time": "2023-10-14T20:40:12.661836",
     "status": "completed"
    },
    "tags": []
   },
   "outputs": [
    {
     "data": {
      "text/plain": [
       "'In 1974, the teenager Martha Moxley (Maggie Grace) moves to the high-class area of Belle Haven, Greenwich, Connecticut. On the Mischief Night, eve of Halloween, she was murdered in the backyard of her house and her murder remained unsolved. Twenty-two years later, the writer Mark Fuhrman (Christopher Meloni), who is a former LA detective that has fallen in disgrace for perjury in O.J. Simpson trial and moved to Idaho, decides to investigate the case with his partner Stephen Weeks (Andrew Mitchell) with the purpose of writing a book. The locals squirm and do not welcome them, but with the support of the retired detective Steve Carroll (Robert Forster) that was in charge of the investigation in the 70\\'s, they discover the criminal and a net of power and money to cover the murder.<br /><br />\"Murder in Greenwich\" is a good TV movie, with the true story of a murder of a fifteen years old girl that was committed by a wealthy teenager whose mother was a Kennedy. The powerful and rich family used their influence to cover the murder for more than twenty years. However, a snoopy detective and convicted perjurer in disgrace was able to disclose how the hideous crime was committed. The screenplay shows the investigation of Mark and the last days of Martha in parallel, but there is a lack of the emotion in the dramatization. My vote is seven.<br /><br />Title (Brazil): Not Available'"
      ]
     },
     "execution_count": 4,
     "metadata": {},
     "output_type": "execute_result"
    }
   ],
   "source": [
    "example = data.review[0]\n",
    "example"
   ]
  },
  {
   "cell_type": "code",
   "execution_count": 5,
   "id": "3317af57",
   "metadata": {
    "execution": {
     "iopub.execute_input": "2023-10-14T20:40:12.683951Z",
     "iopub.status.busy": "2023-10-14T20:40:12.683714Z",
     "iopub.status.idle": "2023-10-14T20:40:12.689289Z",
     "shell.execute_reply": "2023-10-14T20:40:12.688436Z"
    },
    "papermill": {
     "duration": 0.012426,
     "end_time": "2023-10-14T20:40:12.691099",
     "exception": false,
     "start_time": "2023-10-14T20:40:12.678673",
     "status": "completed"
    },
    "tags": []
   },
   "outputs": [
    {
     "data": {
      "text/plain": [
       "\"in   the teenager martha moxley  maggie grace  moves to the high class area of belle haven  greenwich  connecticut  on the mischief night  eve of halloween  she was murdered in the backyard of her house and her murder remained unsolved  twenty two years later  the writer mark fuhrman  christopher meloni  who is a former la detective that has fallen in disgrace for perjury in o j  simpson trial and moved to idaho  decides to investigate the case with his partner stephen weeks  andrew mitchell  with the purpose of writing a book  the locals squirm and do not welcome them  but with the support of the retired detective steve carroll  robert forster  that was in charge of the investigation in the  's  they discover the criminal and a net of power and money to cover the murder    murder in greenwich  is a good tv movie  with the true story of a murder of a fifteen years old girl that was committed by a wealthy teenager whose mother was a kennedy  the powerful and rich family used their influence to cover the murder for more than twenty years  however  a snoopy detective and convicted perjurer in disgrace was able to disclose how the hideous crime was committed  the screenplay shows the investigation of mark and the last days of martha in parallel  but there is a lack of the emotion in the dramatization  my vote is seven   title  brazil  not available\""
      ]
     },
     "execution_count": 5,
     "metadata": {},
     "output_type": "execute_result"
    }
   ],
   "source": [
    "# Drop punctuation marks and labels (<br />). \n",
    "review = re.sub(r'<(?:br\\s*\\/?)>|[\"*\\\\.!,():\\-0-9;]+', ' ', example).lower()\n",
    "review"
   ]
  },
  {
   "cell_type": "code",
   "execution_count": 6,
   "id": "695b0a09",
   "metadata": {
    "execution": {
     "iopub.execute_input": "2023-10-14T20:40:12.700808Z",
     "iopub.status.busy": "2023-10-14T20:40:12.700470Z",
     "iopub.status.idle": "2023-10-14T20:40:12.739596Z",
     "shell.execute_reply": "2023-10-14T20:40:12.738734Z"
    },
    "papermill": {
     "duration": 0.045872,
     "end_time": "2023-10-14T20:40:12.741233",
     "exception": false,
     "start_time": "2023-10-14T20:40:12.695361",
     "status": "completed"
    },
    "tags": []
   },
   "outputs": [
    {
     "data": {
      "text/plain": [
       "\"teenag martha moxley maggi grace move high class area bell greenwich connecticut mischief night eve halloween murder backyard hous murder remain unsolv twenti two year later writer mark fuhrman christoph meloni former la detect fallen disgrac perjuri j simpson trial move idaho decid investig case partner stephen week andrew mitchel purpos write book local squirm welcom support retir detect steve carrol robert forster charg investig 's discov crimin net power money cover murder murder greenwich good tv movi true stori murder fifteen year old girl commit wealthi teenag whose mother kennedi power rich famili use influenc cover murder twenti year howev snoopi detect convict perjur disgrac abl disclos hideou crime commit screenplay show investig mark last day martha parallel lack emot dramat vote seven titl brazil avail\""
      ]
     },
     "execution_count": 6,
     "metadata": {},
     "output_type": "execute_result"
    }
   ],
   "source": [
    "# Drop stopwords and transform conjugated verbs.\n",
    "ps = PorterStemmer()\n",
    "review = [ps.stem(word) for word in review.split() if not word in set(stopwords.words('english'))]\n",
    "review = \" \".join(review)\n",
    "review"
   ]
  },
  {
   "cell_type": "code",
   "execution_count": 7,
   "id": "63b02364",
   "metadata": {
    "execution": {
     "iopub.execute_input": "2023-10-14T20:40:12.750714Z",
     "iopub.status.busy": "2023-10-14T20:40:12.750341Z",
     "iopub.status.idle": "2023-10-14T20:40:12.754889Z",
     "shell.execute_reply": "2023-10-14T20:40:12.753998Z"
    },
    "papermill": {
     "duration": 0.011059,
     "end_time": "2023-10-14T20:40:12.756498",
     "exception": false,
     "start_time": "2023-10-14T20:40:12.745439",
     "status": "completed"
    },
    "tags": []
   },
   "outputs": [],
   "source": [
    "# Function to Clean the Data\n",
    "def clean_data(review):\n",
    "    review = re.sub(r'<(?:br\\s*\\/?)>|[\"*\\\\.!,():\\-0-9]+', ' ', review).lower()\n",
    "    ps = PorterStemmer()\n",
    "    review = [ps.stem(word) for word in review.split() if not word in set(stopwords.words('english'))]\n",
    "    review = \" \".join(review)\n",
    "    return review"
   ]
  },
  {
   "cell_type": "code",
   "execution_count": 8,
   "id": "074d1c67",
   "metadata": {
    "execution": {
     "iopub.execute_input": "2023-10-14T20:40:12.767819Z",
     "iopub.status.busy": "2023-10-14T20:40:12.767592Z",
     "iopub.status.idle": "2023-10-14T21:02:45.001110Z",
     "shell.execute_reply": "2023-10-14T21:02:45.000171Z"
    },
    "papermill": {
     "duration": 1352.240532,
     "end_time": "2023-10-14T21:02:45.003221",
     "exception": false,
     "start_time": "2023-10-14T20:40:12.762689",
     "status": "completed"
    },
    "tags": []
   },
   "outputs": [
    {
     "name": "stdout",
     "output_type": "stream",
     "text": [
      "********************************************************************************************************************************************************************************************************************************************************************************************************************************************************************************************************************************************************************************************************************"
     ]
    }
   ],
   "source": [
    "# Revies Preprocessing\n",
    "\n",
    "corpus = {}\n",
    "for i, review in data.iterrows():\n",
    "    corpus[i] = [clean_data(review[0])]\n",
    "    if i % 100 == 0: \n",
    "        print(\"*\", end= '')"
   ]
  },
  {
   "cell_type": "code",
   "execution_count": 9,
   "id": "aa62a9c4",
   "metadata": {
    "execution": {
     "iopub.execute_input": "2023-10-14T21:02:45.056815Z",
     "iopub.status.busy": "2023-10-14T21:02:45.056175Z",
     "iopub.status.idle": "2023-10-14T21:02:46.153730Z",
     "shell.execute_reply": "2023-10-14T21:02:46.152874Z"
    },
    "papermill": {
     "duration": 1.126317,
     "end_time": "2023-10-14T21:02:46.155617",
     "exception": false,
     "start_time": "2023-10-14T21:02:45.029300",
     "status": "completed"
    },
    "tags": []
   },
   "outputs": [
    {
     "data": {
      "text/html": [
       "<div>\n",
       "<style scoped>\n",
       "    .dataframe tbody tr th:only-of-type {\n",
       "        vertical-align: middle;\n",
       "    }\n",
       "\n",
       "    .dataframe tbody tr th {\n",
       "        vertical-align: top;\n",
       "    }\n",
       "\n",
       "    .dataframe thead th {\n",
       "        text-align: right;\n",
       "    }\n",
       "</style>\n",
       "<table border=\"1\" class=\"dataframe\">\n",
       "  <thead>\n",
       "    <tr style=\"text-align: right;\">\n",
       "      <th></th>\n",
       "      <th>Reviews</th>\n",
       "    </tr>\n",
       "    <tr>\n",
       "      <th>index</th>\n",
       "      <th></th>\n",
       "    </tr>\n",
       "  </thead>\n",
       "  <tbody>\n",
       "    <tr>\n",
       "      <th>0</th>\n",
       "      <td>teenag martha moxley maggi grace move high cla...</td>\n",
       "    </tr>\n",
       "    <tr>\n",
       "      <th>1</th>\n",
       "      <td>ok realli like kri kristofferson usual easi go...</td>\n",
       "    </tr>\n",
       "    <tr>\n",
       "      <th>2</th>\n",
       "      <td>spoiler read think watch movi although would w...</td>\n",
       "    </tr>\n",
       "    <tr>\n",
       "      <th>3</th>\n",
       "      <td>hi peopl seen wonder movi im sure thet would l...</td>\n",
       "    </tr>\n",
       "    <tr>\n",
       "      <th>4</th>\n",
       "      <td>recent bought dvd forget much hate movi versio...</td>\n",
       "    </tr>\n",
       "  </tbody>\n",
       "</table>\n",
       "</div>"
      ],
      "text/plain": [
       "                                                 Reviews\n",
       "index                                                   \n",
       "0      teenag martha moxley maggi grace move high cla...\n",
       "1      ok realli like kri kristofferson usual easi go...\n",
       "2      spoiler read think watch movi although would w...\n",
       "3      hi peopl seen wonder movi im sure thet would l...\n",
       "4      recent bought dvd forget much hate movi versio..."
      ]
     },
     "execution_count": 9,
     "metadata": {},
     "output_type": "execute_result"
    }
   ],
   "source": [
    "# Show Corpus\n",
    "reviews = pd.DataFrame(corpus).T\n",
    "reviews = reviews.rename(columns = {0: \"Reviews\"}).reset_index().set_index(\"index\")\n",
    "reviews.head(5)"
   ]
  },
  {
   "cell_type": "markdown",
   "id": "3593b18e",
   "metadata": {
    "papermill": {
     "duration": 0.023371,
     "end_time": "2023-10-14T21:02:46.203158",
     "exception": false,
     "start_time": "2023-10-14T21:02:46.179787",
     "status": "completed"
    },
    "tags": []
   },
   "source": [
    "## Bag of Words\n"
   ]
  },
  {
   "cell_type": "code",
   "execution_count": 10,
   "id": "97fd245b",
   "metadata": {
    "execution": {
     "iopub.execute_input": "2023-10-14T21:02:46.251035Z",
     "iopub.status.busy": "2023-10-14T21:02:46.250763Z",
     "iopub.status.idle": "2023-10-14T21:02:52.605852Z",
     "shell.execute_reply": "2023-10-14T21:02:52.604826Z"
    },
    "papermill": {
     "duration": 6.381065,
     "end_time": "2023-10-14T21:02:52.607827",
     "exception": false,
     "start_time": "2023-10-14T21:02:46.226762",
     "status": "completed"
    },
    "tags": []
   },
   "outputs": [
    {
     "name": "stdout",
     "output_type": "stream",
     "text": [
      "Bag Shape: (50000, 5000) \n",
      " Sentiment Shape: 50000\n"
     ]
    }
   ],
   "source": [
    "from sklearn.feature_extraction.text import CountVectorizer\n",
    "\n",
    "cv = CountVectorizer(max_features= 5000)\n",
    "bag_words = cv.fit_transform(reviews.values.reshape(-1)).toarray()\n",
    "sentiment = data.sentiment.astype(int).values\n",
    "print(f\"Bag Shape: {bag_words.shape} \\n Sentiment Shape: {sentiment.size}\")"
   ]
  },
  {
   "cell_type": "code",
   "execution_count": 11,
   "id": "d83c17a0",
   "metadata": {
    "execution": {
     "iopub.execute_input": "2023-10-14T21:02:52.656899Z",
     "iopub.status.busy": "2023-10-14T21:02:52.656635Z",
     "iopub.status.idle": "2023-10-14T21:02:53.252670Z",
     "shell.execute_reply": "2023-10-14T21:02:53.251682Z"
    },
    "papermill": {
     "duration": 0.622293,
     "end_time": "2023-10-14T21:02:53.254493",
     "exception": false,
     "start_time": "2023-10-14T21:02:52.632200",
     "status": "completed"
    },
    "tags": []
   },
   "outputs": [
    {
     "name": "stdout",
     "output_type": "stream",
     "text": [
      "Train: (47500, 5000) \n",
      " Test: (2500, 5000)\n"
     ]
    }
   ],
   "source": [
    "# Split data into training and testing sets.\n",
    "from sklearn.model_selection import train_test_split\n",
    "\n",
    "x_train, x_test, y_train, y_test = train_test_split(bag_words, sentiment, train_size = 0.95)\n",
    "print(f\"Train: {x_train.shape} \\n Test: {x_test.shape}\")"
   ]
  },
  {
   "cell_type": "markdown",
   "id": "dc0af195",
   "metadata": {
    "papermill": {
     "duration": 0.023713,
     "end_time": "2023-10-14T21:02:53.302527",
     "exception": false,
     "start_time": "2023-10-14T21:02:53.278814",
     "status": "completed"
    },
    "tags": []
   },
   "source": [
    "## Build the ANN"
   ]
  },
  {
   "cell_type": "code",
   "execution_count": 12,
   "id": "2ac8a057",
   "metadata": {
    "execution": {
     "iopub.execute_input": "2023-10-14T21:02:53.350284Z",
     "iopub.status.busy": "2023-10-14T21:02:53.350027Z",
     "iopub.status.idle": "2023-10-14T21:05:33.130857Z",
     "shell.execute_reply": "2023-10-14T21:05:33.129743Z"
    },
    "papermill": {
     "duration": 159.920561,
     "end_time": "2023-10-14T21:05:33.246299",
     "exception": false,
     "start_time": "2023-10-14T21:02:53.325738",
     "status": "completed"
    },
    "tags": []
   },
   "outputs": [
    {
     "name": "stdout",
     "output_type": "stream",
     "text": [
      "Epoch 1/50\n",
      "372/372 [==============================] - 7s 5ms/step - loss: 0.3637 - accuracy: 0.8476\n",
      "Epoch 2/50\n",
      "372/372 [==============================] - 2s 5ms/step - loss: 0.2672 - accuracy: 0.8973\n",
      "Epoch 3/50\n",
      "372/372 [==============================] - 2s 6ms/step - loss: 0.2459 - accuracy: 0.9064\n",
      "Epoch 4/50\n",
      "372/372 [==============================] - 2s 6ms/step - loss: 0.2342 - accuracy: 0.9127\n",
      "Epoch 5/50\n",
      "372/372 [==============================] - 2s 5ms/step - loss: 0.2265 - accuracy: 0.9165\n",
      "Epoch 6/50\n",
      "372/372 [==============================] - 2s 5ms/step - loss: 0.2196 - accuracy: 0.9180\n",
      "Epoch 7/50\n",
      "372/372 [==============================] - 2s 5ms/step - loss: 0.2140 - accuracy: 0.9204\n",
      "Epoch 8/50\n",
      "372/372 [==============================] - 2s 5ms/step - loss: 0.2092 - accuracy: 0.9221\n",
      "Epoch 9/50\n",
      "372/372 [==============================] - 2s 5ms/step - loss: 0.2059 - accuracy: 0.9240\n",
      "Epoch 10/50\n",
      "372/372 [==============================] - 2s 5ms/step - loss: 0.2007 - accuracy: 0.9241\n",
      "Epoch 11/50\n",
      "372/372 [==============================] - 2s 5ms/step - loss: 0.1972 - accuracy: 0.9264\n",
      "Epoch 12/50\n",
      "372/372 [==============================] - 2s 5ms/step - loss: 0.1928 - accuracy: 0.9271\n",
      "Epoch 13/50\n",
      "372/372 [==============================] - 2s 5ms/step - loss: 0.1884 - accuracy: 0.9294\n",
      "Epoch 14/50\n",
      "372/372 [==============================] - 2s 5ms/step - loss: 0.1847 - accuracy: 0.9308\n",
      "Epoch 15/50\n",
      "372/372 [==============================] - 2s 5ms/step - loss: 0.1831 - accuracy: 0.9315\n",
      "Epoch 16/50\n",
      "372/372 [==============================] - 2s 5ms/step - loss: 0.1781 - accuracy: 0.9332\n",
      "Epoch 17/50\n",
      "372/372 [==============================] - 2s 5ms/step - loss: 0.1769 - accuracy: 0.9331\n",
      "Epoch 18/50\n",
      "372/372 [==============================] - 2s 5ms/step - loss: 0.1720 - accuracy: 0.9357\n",
      "Epoch 19/50\n",
      "372/372 [==============================] - 2s 5ms/step - loss: 0.1675 - accuracy: 0.9371\n",
      "Epoch 20/50\n",
      "372/372 [==============================] - 2s 7ms/step - loss: 0.1658 - accuracy: 0.9380\n",
      "Epoch 21/50\n",
      "372/372 [==============================] - 2s 5ms/step - loss: 0.1612 - accuracy: 0.9395\n",
      "Epoch 22/50\n",
      "372/372 [==============================] - 2s 5ms/step - loss: 0.1603 - accuracy: 0.9395\n",
      "Epoch 23/50\n",
      "372/372 [==============================] - 2s 5ms/step - loss: 0.1571 - accuracy: 0.9410\n",
      "Epoch 24/50\n",
      "372/372 [==============================] - 2s 5ms/step - loss: 0.1559 - accuracy: 0.9402\n",
      "Epoch 25/50\n",
      "372/372 [==============================] - 2s 5ms/step - loss: 0.1511 - accuracy: 0.9439\n",
      "Epoch 26/50\n",
      "372/372 [==============================] - 2s 5ms/step - loss: 0.1495 - accuracy: 0.9440\n",
      "Epoch 27/50\n",
      "372/372 [==============================] - 2s 5ms/step - loss: 0.1465 - accuracy: 0.9444\n",
      "Epoch 28/50\n",
      "372/372 [==============================] - 2s 5ms/step - loss: 0.1463 - accuracy: 0.9453\n",
      "Epoch 29/50\n",
      "372/372 [==============================] - 2s 5ms/step - loss: 0.1439 - accuracy: 0.9461\n",
      "Epoch 30/50\n",
      "372/372 [==============================] - 2s 5ms/step - loss: 0.1406 - accuracy: 0.9479\n",
      "Epoch 31/50\n",
      "372/372 [==============================] - 2s 5ms/step - loss: 0.1367 - accuracy: 0.9490\n",
      "Epoch 32/50\n",
      "372/372 [==============================] - 2s 5ms/step - loss: 0.1347 - accuracy: 0.9501\n",
      "Epoch 33/50\n",
      "372/372 [==============================] - 2s 5ms/step - loss: 0.1344 - accuracy: 0.9506\n",
      "Epoch 34/50\n",
      "372/372 [==============================] - 2s 5ms/step - loss: 0.1318 - accuracy: 0.9514\n",
      "Epoch 35/50\n",
      "372/372 [==============================] - 2s 5ms/step - loss: 0.1301 - accuracy: 0.9531\n",
      "Epoch 36/50\n",
      "372/372 [==============================] - 2s 6ms/step - loss: 0.1295 - accuracy: 0.9527\n",
      "Epoch 37/50\n",
      "372/372 [==============================] - 2s 5ms/step - loss: 0.1271 - accuracy: 0.9540\n",
      "Epoch 38/50\n",
      "372/372 [==============================] - 2s 5ms/step - loss: 0.1239 - accuracy: 0.9551\n",
      "Epoch 39/50\n",
      "372/372 [==============================] - 2s 5ms/step - loss: 0.1261 - accuracy: 0.9538\n",
      "Epoch 40/50\n",
      "372/372 [==============================] - 2s 5ms/step - loss: 0.1234 - accuracy: 0.9551\n",
      "Epoch 41/50\n",
      "372/372 [==============================] - 2s 5ms/step - loss: 0.1216 - accuracy: 0.9568\n",
      "Epoch 42/50\n",
      "372/372 [==============================] - 2s 5ms/step - loss: 0.1189 - accuracy: 0.9572\n",
      "Epoch 43/50\n",
      "372/372 [==============================] - 2s 5ms/step - loss: 0.1164 - accuracy: 0.9587\n",
      "Epoch 44/50\n",
      "372/372 [==============================] - 2s 5ms/step - loss: 0.1192 - accuracy: 0.9577\n",
      "Epoch 45/50\n",
      "372/372 [==============================] - 2s 5ms/step - loss: 0.1145 - accuracy: 0.9590\n",
      "Epoch 46/50\n",
      "372/372 [==============================] - 2s 5ms/step - loss: 0.1148 - accuracy: 0.9587\n",
      "Epoch 47/50\n",
      "372/372 [==============================] - 2s 5ms/step - loss: 0.1128 - accuracy: 0.9595\n",
      "Epoch 48/50\n",
      "372/372 [==============================] - 2s 5ms/step - loss: 0.1127 - accuracy: 0.9599\n",
      "Epoch 49/50\n",
      "372/372 [==============================] - 2s 5ms/step - loss: 0.1111 - accuracy: 0.9603\n",
      "Epoch 50/50\n",
      "372/372 [==============================] - 2s 5ms/step - loss: 0.1103 - accuracy: 0.9613\n"
     ]
    },
    {
     "data": {
      "text/plain": [
       "<keras.callbacks.History at 0x7da511b65f00>"
      ]
     },
     "execution_count": 12,
     "metadata": {},
     "output_type": "execute_result"
    }
   ],
   "source": [
    "# Build the Model\n",
    "from tensorflow.keras.models import Sequential\n",
    "from keras.layers import Dense, Dropout\n",
    "\n",
    "model = Sequential()\n",
    "\n",
    "model.add(Dense(units= 10, activation= \"tanh\", input_dim = x_train.shape[1]))\n",
    "model.add(Dropout(rate= 1/4))\n",
    "model.add(Dense(units= 10, activation= \"tanh\"))\n",
    "model.add(Dropout(rate= 1/4))\n",
    "model.add(Dense(units= 1, activation= \"sigmoid\"))\n",
    "\n",
    "model.compile(optimizer= \"adam\", \n",
    "             loss= \"binary_crossentropy\",\n",
    "             metrics= \"accuracy\")\n",
    "model.fit(x_train, y_train,\n",
    "         epochs= 50, batch_size= 128)"
   ]
  },
  {
   "cell_type": "markdown",
   "id": "6ac24388",
   "metadata": {
    "papermill": {
     "duration": 0.102151,
     "end_time": "2023-10-14T21:05:33.452790",
     "exception": false,
     "start_time": "2023-10-14T21:05:33.350639",
     "status": "completed"
    },
    "tags": []
   },
   "source": [
    "## Evaluate the Model"
   ]
  },
  {
   "cell_type": "code",
   "execution_count": 13,
   "id": "29f9257a",
   "metadata": {
    "execution": {
     "iopub.execute_input": "2023-10-14T21:05:33.664514Z",
     "iopub.status.busy": "2023-10-14T21:05:33.664154Z",
     "iopub.status.idle": "2023-10-14T21:05:34.291742Z",
     "shell.execute_reply": "2023-10-14T21:05:34.290563Z"
    },
    "papermill": {
     "duration": 0.735414,
     "end_time": "2023-10-14T21:05:34.293723",
     "exception": false,
     "start_time": "2023-10-14T21:05:33.558309",
     "status": "completed"
    },
    "tags": []
   },
   "outputs": [
    {
     "name": "stdout",
     "output_type": "stream",
     "text": [
      "79/79 [==============================] - 0s 2ms/step\n"
     ]
    },
    {
     "data": {
      "text/plain": [
       "array([[1105,  165],\n",
       "       [ 152, 1078]])"
      ]
     },
     "execution_count": 13,
     "metadata": {},
     "output_type": "execute_result"
    }
   ],
   "source": [
    "from sklearn.metrics import confusion_matrix\n",
    "\n",
    "x_set, y_set = x_test, y_test\n",
    "y_pred = (model.predict(x_set) > 0.5)\n",
    "\n",
    "cm = confusion_matrix(y_set, y_pred)\n",
    "cm"
   ]
  },
  {
   "cell_type": "code",
   "execution_count": 14,
   "id": "45e1bbc6",
   "metadata": {
    "execution": {
     "iopub.execute_input": "2023-10-14T21:05:34.516227Z",
     "iopub.status.busy": "2023-10-14T21:05:34.515378Z",
     "iopub.status.idle": "2023-10-14T21:05:35.197862Z",
     "shell.execute_reply": "2023-10-14T21:05:35.196902Z"
    },
    "papermill": {
     "duration": 0.794922,
     "end_time": "2023-10-14T21:05:35.199622",
     "exception": false,
     "start_time": "2023-10-14T21:05:34.404700",
     "status": "completed"
    },
    "tags": []
   },
   "outputs": [
    {
     "name": "stdout",
     "output_type": "stream",
     "text": [
      "79/79 [==============================] - 0s 3ms/step - loss: 0.4316 - accuracy: 0.8732\n",
      "Loss: 0.4315847158432007 \t Accuracy: 0.873199999332428\n"
     ]
    }
   ],
   "source": [
    "loss, accuracy = model.evaluate(x_test, y_test)\n",
    "print(f\"Loss: {loss} \\t Accuracy: {accuracy}\")"
   ]
  },
  {
   "cell_type": "code",
   "execution_count": 15,
   "id": "742c4e11",
   "metadata": {
    "execution": {
     "iopub.execute_input": "2023-10-14T21:05:35.459590Z",
     "iopub.status.busy": "2023-10-14T21:05:35.458519Z",
     "iopub.status.idle": "2023-10-14T21:05:35.464771Z",
     "shell.execute_reply": "2023-10-14T21:05:35.463844Z"
    },
    "papermill": {
     "duration": 0.114391,
     "end_time": "2023-10-14T21:05:35.466425",
     "exception": false,
     "start_time": "2023-10-14T21:05:35.352034",
     "status": "completed"
    },
    "tags": []
   },
   "outputs": [
    {
     "data": {
      "text/plain": [
       "'In 1974, the teenager Martha Moxley (Maggie Grace) moves to the high-class area of Belle Haven, Greenwich, Connecticut. On the Mischief Night, eve of Halloween, she was murdered in the backyard of her house and her murder remained unsolved. Twenty-two years later, the writer Mark Fuhrman (Christopher Meloni), who is a former LA detective that has fallen in disgrace for perjury in O.J. Simpson trial and moved to Idaho, decides to investigate the case with his partner Stephen Weeks (Andrew Mitchell) with the purpose of writing a book. The locals squirm and do not welcome them, but with the support of the retired detective Steve Carroll (Robert Forster) that was in charge of the investigation in the 70\\'s, they discover the criminal and a net of power and money to cover the murder.<br /><br />\"Murder in Greenwich\" is a good TV movie, with the true story of a murder of a fifteen years old girl that was committed by a wealthy teenager whose mother was a Kennedy. The powerful and rich family used their influence to cover the murder for more than twenty years. However, a snoopy detective and convicted perjurer in disgrace was able to disclose how the hideous crime was committed. The screenplay shows the investigation of Mark and the last days of Martha in parallel, but there is a lack of the emotion in the dramatization. My vote is seven.<br /><br />Title (Brazil): Not Available'"
      ]
     },
     "execution_count": 15,
     "metadata": {},
     "output_type": "execute_result"
    }
   ],
   "source": [
    "example"
   ]
  },
  {
   "cell_type": "code",
   "execution_count": 16,
   "id": "1bca128f",
   "metadata": {
    "execution": {
     "iopub.execute_input": "2023-10-14T21:05:35.679228Z",
     "iopub.status.busy": "2023-10-14T21:05:35.678911Z",
     "iopub.status.idle": "2023-10-14T21:05:35.722906Z",
     "shell.execute_reply": "2023-10-14T21:05:35.721868Z"
    },
    "papermill": {
     "duration": 0.150757,
     "end_time": "2023-10-14T21:05:35.724756",
     "exception": false,
     "start_time": "2023-10-14T21:05:35.573999",
     "status": "completed"
    },
    "tags": []
   },
   "outputs": [
    {
     "name": "stdout",
     "output_type": "stream",
     "text": [
      "review: [[0 0 0 ... 0 0 0]] \n",
      " Target: 1\n"
     ]
    }
   ],
   "source": [
    "x = clean_data(example)\n",
    "x = cv.transform([x]).toarray()\n",
    "y = data.sentiment[data.review == example].iloc[0]\n",
    "\n",
    "print(f\"review: {x} \\n Target: {y}\")"
   ]
  },
  {
   "cell_type": "code",
   "execution_count": 17,
   "id": "09690c2b",
   "metadata": {
    "execution": {
     "iopub.execute_input": "2023-10-14T21:05:35.951304Z",
     "iopub.status.busy": "2023-10-14T21:05:35.950533Z",
     "iopub.status.idle": "2023-10-14T21:05:36.009611Z",
     "shell.execute_reply": "2023-10-14T21:05:36.008706Z"
    },
    "papermill": {
     "duration": 0.167119,
     "end_time": "2023-10-14T21:05:36.011356",
     "exception": false,
     "start_time": "2023-10-14T21:05:35.844237",
     "status": "completed"
    },
    "tags": []
   },
   "outputs": [
    {
     "name": "stdout",
     "output_type": "stream",
     "text": [
      "1/1 [==============================] - 0s 19ms/step\n",
      "Valoracion Buena\n"
     ]
    }
   ],
   "source": [
    "y_pred = model.predict(x)\n",
    "print(\"Valoracion Buena\") if y_pred > 0.5 else print(\"Valoracion Mala\")"
   ]
  }
 ],
 "metadata": {
  "kernelspec": {
   "display_name": "Python 3",
   "language": "python",
   "name": "python3"
  },
  "language_info": {
   "codemirror_mode": {
    "name": "ipython",
    "version": 3
   },
   "file_extension": ".py",
   "mimetype": "text/x-python",
   "name": "python",
   "nbconvert_exporter": "python",
   "pygments_lexer": "ipython3",
   "version": "3.10.12"
  },
  "papermill": {
   "default_parameters": {},
   "duration": 1534.217545,
   "end_time": "2023-10-14T21:05:39.327788",
   "environment_variables": {},
   "exception": null,
   "input_path": "__notebook__.ipynb",
   "output_path": "__notebook__.ipynb",
   "parameters": {},
   "start_time": "2023-10-14T20:40:05.110243",
   "version": "2.4.0"
  }
 },
 "nbformat": 4,
 "nbformat_minor": 5
}
