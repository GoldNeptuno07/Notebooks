{
 "cells": [
  {
   "cell_type": "markdown",
   "id": "0e46e855",
   "metadata": {},
   "source": [
    "# Continuos Bag of Words "
   ]
  },
  {
   "cell_type": "code",
   "execution_count": 1,
   "id": "46e301dd",
   "metadata": {},
   "outputs": [],
   "source": [
    "import tensorflow as tf\n",
    "import numpy as np\n",
    "import matplotlib.pyplot as plt\n",
    "import collections\n",
    "import requests\n",
    "import os\n",
    "import tarfile\n",
    "import io\n",
    "from nltk.corpus import stopwords\n",
    "import re\n",
    "import time"
   ]
  },
  {
   "cell_type": "code",
   "execution_count": 2,
   "id": "67b13b84",
   "metadata": {},
   "outputs": [],
   "source": [
    "\"\"\"\n",
    "    The following seek and save reviews 10,000 from movies.\n",
    "\"\"\"\n",
    "def load_movies_data():\n",
    "    # Define paths\n",
    "    save_folder_name = 'movies_data'\n",
    "    pos_file = os.path.join(save_folder_name, 'rt-polarity.pos')\n",
    "    neg_file = os.path.join(save_folder_name, 'rt-polarity.neg')\n",
    "    \n",
    "    if os.path.exists(pos_file) and os.path.exists(neg_file):\n",
    "        ## Get the data from path\n",
    "        pos_data = []\n",
    "        with open(pos_file, 'r') as pos_file_handler:\n",
    "            for row in pos_file_handler:\n",
    "                pos_data.append(row)\n",
    "        neg_data = []\n",
    "        with open(neg_file, 'r') as neg_file_handler:\n",
    "            for row in neg_file_handler:\n",
    "                neg_data.append(row)\n",
    "    else:\n",
    "        # Download data from url\n",
    "        url = \"https://www.cs.cornell.edu/people/pabo/movie-review-data/rt-polaritydata.tar.gz\"\n",
    "        req = requests.get(url)\n",
    "        # Performe Request\n",
    "        if req.ok:\n",
    "            stream_data = io.BytesIO(req.content)\n",
    "            tmp = io.BytesIO() \n",
    "            while True:\n",
    "                s = stream_data.read(16384)\n",
    "                if not s:\n",
    "                    break\n",
    "                tmp.write(s)\n",
    "            stream_data.close()\n",
    "            tmp.seek(0)\n",
    "        else:\n",
    "            raise ConnectionError(f\"Something went wrong. Code: {req.code}\")\n",
    "        # Extract tar File\n",
    "        tar_file = tarfile.open(fileobj= tmp, mode= \"r:gz\")\n",
    "        pos = tar_file.extractfile('rt-polaritydata/rt-polarity.pos')\n",
    "        neg = tar_file.extractfile('rt-polaritydata/rt-polarity.neg')\n",
    "        # Get positive reviews\n",
    "        pos_data = []\n",
    "        for line in pos:\n",
    "            pos_data.append(line.decode(\"ISO-8859-1\").encode('ascii', errors= 'ignore').decode())\n",
    "        # Get negative reviews\n",
    "        neg_data = []\n",
    "        for line in neg:\n",
    "            neg_data.append(line.decode('ISO-8859-1').encode('ascii', errors= 'ignore').decode())\n",
    "        tar_file.close()\n",
    "        # Save data\n",
    "        os.makedirs(save_folder_name, exist_ok= True)\n",
    "        with open(pos_file, 'w') as pos_file_handler:\n",
    "            pos_file_handler.write(''.join(pos_data))\n",
    "        with open(neg_file, 'w') as neg_file_handler:\n",
    "            neg_file_handler.write(''.join(neg_data))\n",
    "    texts = pos_data + neg_data\n",
    "    target = [1]*len(pos_data) + [0]*len(neg_data)\n",
    "    return (texts, target)"
   ]
  },
  {
   "cell_type": "code",
   "execution_count": 3,
   "id": "660a019a",
   "metadata": {},
   "outputs": [],
   "source": [
    "\"\"\"\n",
    "    Function to Performe Text Cleaning\n",
    "\"\"\"\n",
    "def normalize_text(texts, stop):\n",
    "    texts = [x.lower() for x in texts] # To lower case\n",
    "    texts = [re.findall(pattern= \"[a-z]+\", string= x) for x in texts] # Remove Numbers and Punctuation marks\n",
    "    texts = [' '.join([x for x in row if x not in stop]) for row in texts ]\n",
    "    return texts"
   ]
  },
  {
   "cell_type": "code",
   "execution_count": 4,
   "id": "a2718e8c",
   "metadata": {},
   "outputs": [],
   "source": [
    "\"\"\"\n",
    "    Function to Build the Dictionary of Words\n",
    "\"\"\"\n",
    "def build_dictionary(sentences, vocabulary_size):\n",
    "    words = []\n",
    "    for sentence in sentences:\n",
    "        words.extend(sentence.split())\n",
    "    count= [['RARE', -1]]\n",
    "    count.extend(collections.Counter(words).most_common(vocabulary_size-1))\n",
    "    word_dict = {}\n",
    "    for word, word_count in count:\n",
    "        word_dict[word] = len(word_dict)\n",
    "    return word_dict"
   ]
  },
  {
   "cell_type": "code",
   "execution_count": 5,
   "id": "e96c820d",
   "metadata": {},
   "outputs": [],
   "source": [
    "\"\"\"\n",
    "    Function to Encode the Text into One-hot structure.\n",
    "\"\"\"\n",
    "\n",
    "def text_to_numbers(sentences, word_dict):\n",
    "    data = []\n",
    "    for sentence in sentences:\n",
    "        sentence_data = []\n",
    "        for word in sentence.split():\n",
    "            if word in word_dict:\n",
    "                word_idx = word_dict[word]\n",
    "            else:\n",
    "                word_idx = 0\n",
    "            sentence_data.append(word_idx)\n",
    "        data.append(sentence_data)\n",
    "    return data"
   ]
  },
  {
   "cell_type": "code",
   "execution_count": 6,
   "id": "18588574",
   "metadata": {},
   "outputs": [],
   "source": [
    "\"\"\"\n",
    "    Function to generate the batch for skip-gram / cbow\n",
    "\"\"\"\n",
    "def generate_batch_data(sentences, batch_size, window_size, method= 'skip_gram'):\n",
    "    batch_data = []\n",
    "    label_data = []\n",
    "    # While until achieve the batch size \n",
    "    while len(batch_data) < batch_size:\n",
    "        # Select a random sentence\n",
    "        rand_idx = np.random.choice(len(sentences))\n",
    "        rand_sentences = sentences[rand_idx]\n",
    "        # Select words that are inside window, starting from 0 to window_size + 1,\n",
    "        # which means at the beggining sequences won't have 2 * window_sixe + 1.\n",
    "        window_seq = [rand_sentences[max(ix-window_size, 0):ix+window_size+1]\n",
    "                  for ix, x in enumerate(rand_sentences)]\n",
    "        label_idx = [ix if ix < window_size else window_size for ix, x in enumerate(window_seq)]\n",
    "        if method == 'skip_gram':\n",
    "            # Split the middle word with the rest of the context\n",
    "            batch_and_labels = [(x[y], x[:y]+x[y+1:]) for x,y in zip(window_seq, label_idx)]\n",
    "            tuple_data = [(x,y_) for x, y in batch_and_labels for y_ in y]\n",
    "            batch, labels = [list(x) for x in zip(*tuple_data)]\n",
    "        elif method == 'cbow':\n",
    "            batch_and_labels = [(x[:y]+x[y+1:], x[y]) for x,y in zip(window_seq, label_idx)]\n",
    "            batch_and_labels = [(x, y) for x,y in batch_and_labels if len(x) == 2*window_size]\n",
    "            if not len(batch_and_labels):\n",
    "                continue\n",
    "            batch, labels = [list(x) for x in zip(*batch_and_labels)]\n",
    "        else:\n",
    "            raise ValueError(f'Invalid Method {method}.')\n",
    "        \n",
    "        batch_data.extend(batch[:batch_size])\n",
    "        label_data.extend(labels[:batch_size])\n",
    "    batch_data = batch_data[:batch_size]\n",
    "    label_data = label_data[:batch_size]\n",
    "    \n",
    "    batch_data = np.array(batch_data)\n",
    "    label_data = np.transpose(np.array(label_data))\n",
    "    return (batch_data, label_data)"
   ]
  },
  {
   "cell_type": "markdown",
   "id": "c7d801e5",
   "metadata": {},
   "source": [
    "### Define Hyperparameters"
   ]
  },
  {
   "cell_type": "code",
   "execution_count": 22,
   "id": "1c958c0b",
   "metadata": {},
   "outputs": [],
   "source": [
    "# Define Hyperparameters\n",
    "batch_size= 128\n",
    "embedding_size= 2\n",
    "vocabulary_size= 2000\n",
    "generations= 5000\n",
    "print_loss_every= 1000\n",
    "num_sampled= int(batch_size/2)\n",
    "window_size= 3\n",
    "stop_words= set(stopwords.words('english'))\n",
    "print_valid_every= 2000\n",
    "valid_words= ['love','hate','happy','sad','man','woman']"
   ]
  },
  {
   "cell_type": "markdown",
   "id": "68edb26e",
   "metadata": {},
   "source": [
    "#### Data Cleaning"
   ]
  },
  {
   "cell_type": "code",
   "execution_count": 23,
   "id": "d7c1cd0c",
   "metadata": {},
   "outputs": [],
   "source": [
    "# Load the data\n",
    "texts, target= load_movies_data()\n",
    "# Data Cleaning\n",
    "texts= normalize_text(texts, stop_words)\n",
    "texts= [x for x in texts if len(x.split()) > 2]\n",
    "\n",
    "# Build the Dictionary\n",
    "word_dict= build_dictionary(texts, vocabulary_size)\n",
    "# Build Reverse Dictionary\n",
    "word_dict_rev= dict(zip(word_dict.values(), word_dict.keys()))\n",
    "\n",
    "# Encode text to number\n",
    "text_data= text_to_numbers(texts, word_dict)\n",
    "# Encode the validation words into numbers\n",
    "valid_examples= [word_dict[x] for x in valid_words]"
   ]
  },
  {
   "cell_type": "markdown",
   "id": "8a34a631",
   "metadata": {},
   "source": [
    "#### Training the CBOW"
   ]
  },
  {
   "cell_type": "code",
   "execution_count": 24,
   "id": "ebc3a37a",
   "metadata": {},
   "outputs": [
    {
     "name": "stdout",
     "output_type": "stream",
     "text": [
      "Iterations: 1000 -- Loss: 0.3458626866340637\n",
      "Iterations: 2000 -- Loss: 0.3274305462837219\n",
      "Word: love Similarity: tsai - ugly - job - digital - acts - visual - put - pleasure - called - points - \n",
      "Word: hate Similarity: day - opera - face - good - silly - girl - damned - could - going - mark - \n",
      "Word: happy Similarity: somewhere - boy - intensity - flashy - probably - shot - loss - quirky - serious - humanity - \n",
      "Word: sad Similarity: opera - good - day - damned - going - mark - crafted - imagination - try - ups - \n",
      "Word: man Similarity: minute - um - effectively - kevin - changing - speaking - grief - absorbing - couple - running - \n",
      "Word: woman Similarity: adolescent - mayhem - true - pointless - soderbergh - offering - fly - turns - proceedings - favor - \n",
      "Iterations: 3000 -- Loss: 0.35380062460899353\n",
      "Iterations: 4000 -- Loss: 0.3250289559364319\n",
      "Word: love Similarity: hoffman - deal - middle - poem - strangely - godard - band - puts - families - double - \n",
      "Word: hate Similarity: odd - version - honest - cliche - away - parts - satire - birthday - green - supporting - \n",
      "Word: happy Similarity: somewhere - boy - intensity - flashy - fast - probably - shot - loss - dry - humanity - \n",
      "Word: sad Similarity: opera - good - day - damned - going - mark - crafted - ups - face - try - \n",
      "Word: man Similarity: minute - um - effectively - kevin - changing - speaking - grief - absorbing - couple - running - \n",
      "Word: woman Similarity: adolescent - mayhem - true - pointless - soderbergh - offering - larger - fly - turns - proceedings - \n",
      "Iterations: 5000 -- Loss: 0.3368605375289917\n",
      "Time: \n",
      "76.07382988929749\n"
     ]
    }
   ],
   "source": [
    "# Weights / Bias\n",
    "embeddings = tf.Variable(tf.random.uniform(shape= [embedding_size, vocabulary_size], \n",
    "                                           minval= 0, maxval= 1, dtype= tf.float32))\n",
    "b0 = tf.Variable(tf.zeros(shape= [embedding_size, 1], dtype= tf.float32))\n",
    "W1 = tf.Variable(tf.random.uniform(shape= [vocabulary_size, embedding_size], \n",
    "                                   minval= 0, maxval= 1, dtype= tf.float32))\n",
    "b1 = tf.Variable(tf.zeros(shape= [vocabulary_size, 1], dtype= tf.float32))\n",
    "\n",
    "# Identity Matrix\n",
    "identity = tf.linalg.diag(tf.ones(shape= [vocabulary_size], dtype= tf.float32))\n",
    "# Function to one_hot samples\n",
    "@tf.function\n",
    "def one_hot(samples, transpose= False):\n",
    "    encoded = tf.nn.embedding_lookup(identity, samples) \n",
    "    if len(encoded.shape) == 3:\n",
    "        encoded= tf.reduce_max(encoded, axis= 1)\n",
    "    if transpose:\n",
    "        return tf.transpose(encoded)\n",
    "    return encoded\n",
    "\n",
    "# Neural Network\n",
    "@tf.function\n",
    "def model(X):\n",
    "    A0 = tf.nn.relu(tf.matmul(embeddings, X) + b0)\n",
    "    A1 = tf.nn.softmax(tf.matmul(W1, A0) + b1, axis= 0)\n",
    "    return A1\n",
    "\n",
    "# Loss Function\n",
    "@tf.function\n",
    "def loss_function(y_true, y_pred):\n",
    "    y_pred_t = tf.transpose(y_pred)\n",
    "    return tf.reduce_sum(tf.losses.categorical_crossentropy(y_true, y_pred_t)) / len(y_pred)\n",
    "\n",
    "# Compute the Similarity Between validation words and all the vocabulary words\n",
    "@tf.function\n",
    "def compute_similarity(embeddings, val_idx, topk= 10):\n",
    "    # Normalize Embeddings\n",
    "    embeddings_t = tf.transpose(embeddings)\n",
    "    norm = tf.math.sqrt(tf.reduce_sum(tf.square(embeddings_t), 1, keepdims= True))\n",
    "    norm_embeddings = embeddings_t / norm # n_words, embedding_size\n",
    "    # Get Validation words\n",
    "    validation_words= tf.nn.embedding_lookup(norm_embeddings, val_idx) # n_samples, 200\n",
    "    # Dot Product\n",
    "    cos_similarity = tf.matmul(validation_words, norm_embeddings, transpose_b= True)\n",
    "    # Get top K words\n",
    "    values_K, idx_K = tf.nn.top_k(-cos_similarity, k= topk, )\n",
    "    return idx_K\n",
    "\n",
    "# Optimizer\n",
    "eta = 0.1\n",
    "my_opt = tf.optimizers.legacy.Adam(learning_rate= eta)\n",
    "\n",
    "# Main Loop\n",
    "loss_vect = []\n",
    "start_time= time.time()\n",
    "for ite in range(1, generations+1):\n",
    "    X_idx, y_idx = generate_batch_data(text_data, batch_size, window_size, method= 'cbow')\n",
    "    X_input= tf.constant(one_hot(X_idx, transpose= True), dtype= tf.float32)\n",
    "    y_input= tf.constant(one_hot(y_idx), dtype= tf.float32)\n",
    "\n",
    "    with tf.GradientTape() as g:\n",
    "        g.watch(embeddings)\n",
    "        g.watch(b0)\n",
    "        g.watch(W1)\n",
    "        g.watch(b1)\n",
    "\n",
    "        output= model(X_input)\n",
    "        loss= loss_function(y_input, output)\n",
    "    gradients= g.gradient(loss, [embeddings, b0, W1, b1])\n",
    "    my_opt.apply_gradients(zip(gradients, [embeddings, b0, W1, b1]))\n",
    "\n",
    "    if ite % print_loss_every == 0:\n",
    "        print(f\"Iterations: {ite} -- Loss: {loss.numpy()}\")\n",
    "    if ite % print_valid_every == 0:\n",
    "        similarity_idx = compute_similarity(embeddings, valid_examples, topk= 10)\n",
    "        for idx, val in enumerate(valid_words):\n",
    "            print(f'Word: {val} Similarity: ', end= '')\n",
    "            for k in similarity_idx[idx].numpy():\n",
    "                print(f'{word_dict_rev[k]}', end= ' - ')\n",
    "            print()\n",
    "    loss_vect.append(loss.numpy())\n",
    "\n",
    "end_time= time.time()\n",
    "print('Time: ')\n",
    "print(end_time - start_time)"
   ]
  },
  {
   "cell_type": "code",
   "execution_count": 25,
   "id": "33d5fc07",
   "metadata": {},
   "outputs": [],
   "source": [
    "word_vects = tf.transpose(embeddings).numpy() # (vocabulary_size, embedding_size)"
   ]
  },
  {
   "cell_type": "code",
   "execution_count": 43,
   "id": "20f205a6",
   "metadata": {},
   "outputs": [
    {
     "data": {
      "text/plain": [
       "'hip'"
      ]
     },
     "execution_count": 43,
     "metadata": {},
     "output_type": "execute_result"
    }
   ],
   "source": [
    "# king - man + women\n",
    "queen_vect = word_vects[word_dict['king']] + word_vects[word_dict['man']] - word_vects[word_dict['women']] - 0.8 # (600,)\n",
    "queen = queen_vect.reshape(1,1,queen_vect.shape[0]) # (1,1,embeddings)\n",
    "\n",
    "# L2 Norm\n",
    "l2_norm = np.power(queen-word_vects, 2) # (1, vocabulary_size, embedding_size)\n",
    "sum_l2_norm = np.sum(l2_norm, axis= 2) # (1, vocabulary_size)\n",
    "\n",
    "# Get Nearest Vector\n",
    "idx = np.argmin(sum_l2_norm)\n",
    "word_dict_rev[idx]"
   ]
  },
  {
   "cell_type": "markdown",
   "id": "151304a5-8d13-427f-984b-b40951ed7338",
   "metadata": {},
   "source": [
    "#### Save the Embeddings"
   ]
  },
  {
   "cell_type": "code",
   "execution_count": 12,
   "id": "d1bbdefe-f9d5-4a33-b815-a58b67c50266",
   "metadata": {},
   "outputs": [],
   "source": [
    "import pickle"
   ]
  },
  {
   "cell_type": "code",
   "execution_count": 13,
   "id": "67b4bccf-84e2-4408-9869-428ac3b7baa0",
   "metadata": {},
   "outputs": [],
   "source": [
    "# Save the Embeddings\n",
    "with open(os.path.join('Resources', 'cbow-200.pickle'), 'wb') as f:\n",
    "    pickle.dump(word_vects, f, pickle.HIGHEST_PROTOCOL)"
   ]
  },
  {
   "cell_type": "markdown",
   "id": "93bc5a97",
   "metadata": {},
   "source": [
    "### Visualize Embeddings"
   ]
  },
  {
   "cell_type": "code",
   "execution_count": 44,
   "id": "34b544f2",
   "metadata": {},
   "outputs": [
    {
     "data": {
      "text/plain": [
       "(14, 2)"
      ]
     },
     "execution_count": 44,
     "metadata": {},
     "output_type": "execute_result"
    }
   ],
   "source": [
    "sentiment_words = ['hip','water', 'love', 'hate','happy','sad', 'men', 'boy', 'women', 'queen', 'king', 'gentle', 'man', 'goofy']\n",
    "sentiment_idx = [word_dict[x] for x in sentiment_words]\n",
    "sentiment_embeddings = word_vects[sentiment_idx]\n",
    "sentiment_embeddings.shape"
   ]
  },
  {
   "cell_type": "code",
   "execution_count": 45,
   "id": "16153a2c",
   "metadata": {},
   "outputs": [
    {
     "data": {
      "image/png": "[encoded data removed]",
      "text/plain": [
       "<Figure size 640x480 with 1 Axes>"
      ]
     },
     "metadata": {},
     "output_type": "display_data"
    }
   ],
   "source": [
    "plt.scatter(sentiment_embeddings[:, 0], sentiment_embeddings[:, 1])\n",
    "\n",
    "for i, idx in enumerate(sentiment_idx):\n",
    "    plt.text(x= sentiment_embeddings[i,0], y= sentiment_embeddings[i,1], s= word_dict_rev[idx])\n",
    "plt.show()"
   ]
  }
 ],
 "metadata": {
  "kernelspec": {
   "display_name": "Python 3 (ipykernel)",
   "language": "python",
   "name": "python3"
  },
  "language_info": {
   "codemirror_mode": {
    "name": "ipython",
    "version": 3
   },
   "file_extension": ".py",
   "mimetype": "text/x-python",
   "name": "python",
   "nbconvert_exporter": "python",
   "pygments_lexer": "ipython3",
   "version": "3.11.4"
  }
 },
 "nbformat": 4,
 "nbformat_minor": 5
}
