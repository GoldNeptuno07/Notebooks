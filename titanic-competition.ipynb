{
 "cells": [
  {
   "cell_type": "markdown",
   "id": "9b848003",
   "metadata": {
    "papermill": {
     "duration": 0.017159,
     "end_time": "2024-01-31T00:10:50.513216",
     "exception": false,
     "start_time": "2024-01-31T00:10:50.496057",
     "status": "completed"
    },
    "tags": []
   },
   "source": [
    "# Titanic Competition 🚤🚤"
   ]
  },
  {
   "cell_type": "code",
   "execution_count": 1,
   "id": "1b39ba4a",
   "metadata": {
    "_cell_guid": "b1076dfc-b9ad-4769-8c92-a6c4dae69d19",
    "_uuid": "8f2839f25d086af736a60e9eeb907d3b93b6e0e5",
    "execution": {
     "iopub.execute_input": "2024-01-31T00:10:50.550338Z",
     "iopub.status.busy": "2024-01-31T00:10:50.549547Z",
     "iopub.status.idle": "2024-01-31T00:10:52.683044Z",
     "shell.execute_reply": "2024-01-31T00:10:52.681468Z"
    },
    "papermill": {
     "duration": 2.155458,
     "end_time": "2024-01-31T00:10:52.686320",
     "exception": false,
     "start_time": "2024-01-31T00:10:50.530862",
     "status": "completed"
    },
    "tags": []
   },
   "outputs": [],
   "source": [
    "import pandas as pd\n",
    "import numpy as np\n",
    "import matplotlib.pyplot as plt\n",
    "import seaborn as sns\n",
    "import os\n",
    "\n",
    "sns.set_style(\"darkgrid\")\n",
    "sns.set_palette(\"mako\")"
   ]
  },
  {
   "cell_type": "markdown",
   "id": "35d1934c",
   "metadata": {
    "papermill": {
     "duration": 0.019349,
     "end_time": "2024-01-31T00:10:52.726523",
     "exception": false,
     "start_time": "2024-01-31T00:10:52.707174",
     "status": "completed"
    },
    "tags": []
   },
   "source": [
    "## 1. 👁️ Quick View of the Data 👁️\n",
    "First of all, let's take a quick view of the data."
   ]
  },
  {
   "cell_type": "code",
   "execution_count": 2,
   "id": "83a4ed98",
   "metadata": {
    "execution": {
     "iopub.execute_input": "2024-01-31T00:10:52.764411Z",
     "iopub.status.busy": "2024-01-31T00:10:52.763880Z",
     "iopub.status.idle": "2024-01-31T00:10:52.827029Z",
     "shell.execute_reply": "2024-01-31T00:10:52.825776Z"
    },
    "papermill": {
     "duration": 0.085148,
     "end_time": "2024-01-31T00:10:52.829661",
     "exception": false,
     "start_time": "2024-01-31T00:10:52.744513",
     "status": "completed"
    },
    "tags": []
   },
   "outputs": [
    {
     "data": {
      "text/html": [
       "<div>\n",
       "<style scoped>\n",
       "    .dataframe tbody tr th:only-of-type {\n",
       "        vertical-align: middle;\n",
       "    }\n",
       "\n",
       "    .dataframe tbody tr th {\n",
       "        vertical-align: top;\n",
       "    }\n",
       "\n",
       "    .dataframe thead th {\n",
       "        text-align: right;\n",
       "    }\n",
       "</style>\n",
       "<table border=\"1\" class=\"dataframe\">\n",
       "  <thead>\n",
       "    <tr style=\"text-align: right;\">\n",
       "      <th></th>\n",
       "      <th>Survived</th>\n",
       "      <th>Pclass</th>\n",
       "      <th>Name</th>\n",
       "      <th>Sex</th>\n",
       "      <th>Age</th>\n",
       "      <th>SibSp</th>\n",
       "      <th>Parch</th>\n",
       "      <th>Ticket</th>\n",
       "      <th>Fare</th>\n",
       "      <th>Cabin</th>\n",
       "      <th>Embarked</th>\n",
       "    </tr>\n",
       "    <tr>\n",
       "      <th>PassengerId</th>\n",
       "      <th></th>\n",
       "      <th></th>\n",
       "      <th></th>\n",
       "      <th></th>\n",
       "      <th></th>\n",
       "      <th></th>\n",
       "      <th></th>\n",
       "      <th></th>\n",
       "      <th></th>\n",
       "      <th></th>\n",
       "      <th></th>\n",
       "    </tr>\n",
       "  </thead>\n",
       "  <tbody>\n",
       "    <tr>\n",
       "      <th>1</th>\n",
       "      <td>0</td>\n",
       "      <td>3</td>\n",
       "      <td>Braund, Mr. Owen Harris</td>\n",
       "      <td>male</td>\n",
       "      <td>22.0</td>\n",
       "      <td>1</td>\n",
       "      <td>0</td>\n",
       "      <td>A/5 21171</td>\n",
       "      <td>7.2500</td>\n",
       "      <td>NaN</td>\n",
       "      <td>S</td>\n",
       "    </tr>\n",
       "    <tr>\n",
       "      <th>2</th>\n",
       "      <td>1</td>\n",
       "      <td>1</td>\n",
       "      <td>Cumings, Mrs. John Bradley (Florence Briggs Th...</td>\n",
       "      <td>female</td>\n",
       "      <td>38.0</td>\n",
       "      <td>1</td>\n",
       "      <td>0</td>\n",
       "      <td>PC 17599</td>\n",
       "      <td>71.2833</td>\n",
       "      <td>C85</td>\n",
       "      <td>C</td>\n",
       "    </tr>\n",
       "    <tr>\n",
       "      <th>3</th>\n",
       "      <td>1</td>\n",
       "      <td>3</td>\n",
       "      <td>Heikkinen, Miss. Laina</td>\n",
       "      <td>female</td>\n",
       "      <td>26.0</td>\n",
       "      <td>0</td>\n",
       "      <td>0</td>\n",
       "      <td>STON/O2. 3101282</td>\n",
       "      <td>7.9250</td>\n",
       "      <td>NaN</td>\n",
       "      <td>S</td>\n",
       "    </tr>\n",
       "    <tr>\n",
       "      <th>4</th>\n",
       "      <td>1</td>\n",
       "      <td>1</td>\n",
       "      <td>Futrelle, Mrs. Jacques Heath (Lily May Peel)</td>\n",
       "      <td>female</td>\n",
       "      <td>35.0</td>\n",
       "      <td>1</td>\n",
       "      <td>0</td>\n",
       "      <td>113803</td>\n",
       "      <td>53.1000</td>\n",
       "      <td>C123</td>\n",
       "      <td>S</td>\n",
       "    </tr>\n",
       "    <tr>\n",
       "      <th>5</th>\n",
       "      <td>0</td>\n",
       "      <td>3</td>\n",
       "      <td>Allen, Mr. William Henry</td>\n",
       "      <td>male</td>\n",
       "      <td>35.0</td>\n",
       "      <td>0</td>\n",
       "      <td>0</td>\n",
       "      <td>373450</td>\n",
       "      <td>8.0500</td>\n",
       "      <td>NaN</td>\n",
       "      <td>S</td>\n",
       "    </tr>\n",
       "  </tbody>\n",
       "</table>\n",
       "</div>"
      ],
      "text/plain": [
       "             Survived  Pclass  \\\n",
       "PassengerId                     \n",
       "1                   0       3   \n",
       "2                   1       1   \n",
       "3                   1       3   \n",
       "4                   1       1   \n",
       "5                   0       3   \n",
       "\n",
       "                                                          Name     Sex   Age  \\\n",
       "PassengerId                                                                    \n",
       "1                                      Braund, Mr. Owen Harris    male  22.0   \n",
       "2            Cumings, Mrs. John Bradley (Florence Briggs Th...  female  38.0   \n",
       "3                                       Heikkinen, Miss. Laina  female  26.0   \n",
       "4                 Futrelle, Mrs. Jacques Heath (Lily May Peel)  female  35.0   \n",
       "5                                     Allen, Mr. William Henry    male  35.0   \n",
       "\n",
       "             SibSp  Parch            Ticket     Fare Cabin Embarked  \n",
       "PassengerId                                                          \n",
       "1                1      0         A/5 21171   7.2500   NaN        S  \n",
       "2                1      0          PC 17599  71.2833   C85        C  \n",
       "3                0      0  STON/O2. 3101282   7.9250   NaN        S  \n",
       "4                1      0            113803  53.1000  C123        S  \n",
       "5                0      0            373450   8.0500   NaN        S  "
      ]
     },
     "execution_count": 2,
     "metadata": {},
     "output_type": "execute_result"
    }
   ],
   "source": [
    "# Import data\n",
    "titanic_data = pd.read_csv(\"/kaggle/input/titanic/train.csv\", index_col= 0)\n",
    "\n",
    "# Get random samples for the testing set\n",
    "testing_set = titanic_data.groupby(\"Survived\").sample(25)\n",
    "\n",
    "# Remove the testing samples from data\n",
    "training_set = titanic_data.drop(index= testing_set.index)\n",
    "\n",
    "data = titanic_data.copy()\n",
    "data.head(5)"
   ]
  },
  {
   "cell_type": "code",
   "execution_count": 3,
   "id": "34ff9a69",
   "metadata": {
    "execution": {
     "iopub.execute_input": "2024-01-31T00:10:52.869657Z",
     "iopub.status.busy": "2024-01-31T00:10:52.869198Z",
     "iopub.status.idle": "2024-01-31T00:10:52.961936Z",
     "shell.execute_reply": "2024-01-31T00:10:52.961199Z"
    },
    "papermill": {
     "duration": 0.117112,
     "end_time": "2024-01-31T00:10:52.965296",
     "exception": false,
     "start_time": "2024-01-31T00:10:52.848184",
     "status": "completed"
    },
    "tags": []
   },
   "outputs": [
    {
     "name": "stdout",
     "output_type": "stream",
     "text": [
      "<class 'pandas.core.frame.DataFrame'>\n",
      "Index: 891 entries, 1 to 891\n",
      "Data columns (total 11 columns):\n",
      " #   Column    Non-Null Count  Dtype  \n",
      "---  ------    --------------  -----  \n",
      " 0   Survived  891 non-null    int64  \n",
      " 1   Pclass    891 non-null    int64  \n",
      " 2   Name      891 non-null    object \n",
      " 3   Sex       891 non-null    object \n",
      " 4   Age       714 non-null    float64\n",
      " 5   SibSp     891 non-null    int64  \n",
      " 6   Parch     891 non-null    int64  \n",
      " 7   Ticket    891 non-null    object \n",
      " 8   Fare      891 non-null    float64\n",
      " 9   Cabin     204 non-null    object \n",
      " 10  Embarked  889 non-null    object \n",
      "dtypes: float64(2), int64(4), object(5)\n",
      "memory usage: 115.8+ KB\n"
     ]
    }
   ],
   "source": [
    "# Columns Info\n",
    "data.info()"
   ]
  },
  {
   "cell_type": "code",
   "execution_count": 4,
   "id": "7bc9d730",
   "metadata": {
    "execution": {
     "iopub.execute_input": "2024-01-31T00:10:53.003467Z",
     "iopub.status.busy": "2024-01-31T00:10:53.003080Z",
     "iopub.status.idle": "2024-01-31T00:10:53.033013Z",
     "shell.execute_reply": "2024-01-31T00:10:53.031729Z"
    },
    "papermill": {
     "duration": 0.050997,
     "end_time": "2024-01-31T00:10:53.035516",
     "exception": false,
     "start_time": "2024-01-31T00:10:52.984519",
     "status": "completed"
    },
    "tags": []
   },
   "outputs": [
    {
     "data": {
      "text/html": [
       "<div>\n",
       "<style scoped>\n",
       "    .dataframe tbody tr th:only-of-type {\n",
       "        vertical-align: middle;\n",
       "    }\n",
       "\n",
       "    .dataframe tbody tr th {\n",
       "        vertical-align: top;\n",
       "    }\n",
       "\n",
       "    .dataframe thead th {\n",
       "        text-align: right;\n",
       "    }\n",
       "</style>\n",
       "<table border=\"1\" class=\"dataframe\">\n",
       "  <thead>\n",
       "    <tr style=\"text-align: right;\">\n",
       "      <th></th>\n",
       "      <th>Survived</th>\n",
       "      <th>Pclass</th>\n",
       "      <th>Age</th>\n",
       "      <th>SibSp</th>\n",
       "      <th>Parch</th>\n",
       "      <th>Fare</th>\n",
       "    </tr>\n",
       "  </thead>\n",
       "  <tbody>\n",
       "    <tr>\n",
       "      <th>count</th>\n",
       "      <td>891.000000</td>\n",
       "      <td>891.000000</td>\n",
       "      <td>714.000000</td>\n",
       "      <td>891.000000</td>\n",
       "      <td>891.000000</td>\n",
       "      <td>891.000000</td>\n",
       "    </tr>\n",
       "    <tr>\n",
       "      <th>mean</th>\n",
       "      <td>0.383838</td>\n",
       "      <td>2.308642</td>\n",
       "      <td>29.699118</td>\n",
       "      <td>0.523008</td>\n",
       "      <td>0.381594</td>\n",
       "      <td>32.204208</td>\n",
       "    </tr>\n",
       "    <tr>\n",
       "      <th>std</th>\n",
       "      <td>0.486592</td>\n",
       "      <td>0.836071</td>\n",
       "      <td>14.526497</td>\n",
       "      <td>1.102743</td>\n",
       "      <td>0.806057</td>\n",
       "      <td>49.693429</td>\n",
       "    </tr>\n",
       "    <tr>\n",
       "      <th>min</th>\n",
       "      <td>0.000000</td>\n",
       "      <td>1.000000</td>\n",
       "      <td>0.420000</td>\n",
       "      <td>0.000000</td>\n",
       "      <td>0.000000</td>\n",
       "      <td>0.000000</td>\n",
       "    </tr>\n",
       "    <tr>\n",
       "      <th>25%</th>\n",
       "      <td>0.000000</td>\n",
       "      <td>2.000000</td>\n",
       "      <td>20.125000</td>\n",
       "      <td>0.000000</td>\n",
       "      <td>0.000000</td>\n",
       "      <td>7.910400</td>\n",
       "    </tr>\n",
       "    <tr>\n",
       "      <th>50%</th>\n",
       "      <td>0.000000</td>\n",
       "      <td>3.000000</td>\n",
       "      <td>28.000000</td>\n",
       "      <td>0.000000</td>\n",
       "      <td>0.000000</td>\n",
       "      <td>14.454200</td>\n",
       "    </tr>\n",
       "    <tr>\n",
       "      <th>75%</th>\n",
       "      <td>1.000000</td>\n",
       "      <td>3.000000</td>\n",
       "      <td>38.000000</td>\n",
       "      <td>1.000000</td>\n",
       "      <td>0.000000</td>\n",
       "      <td>31.000000</td>\n",
       "    </tr>\n",
       "    <tr>\n",
       "      <th>max</th>\n",
       "      <td>1.000000</td>\n",
       "      <td>3.000000</td>\n",
       "      <td>80.000000</td>\n",
       "      <td>8.000000</td>\n",
       "      <td>6.000000</td>\n",
       "      <td>512.329200</td>\n",
       "    </tr>\n",
       "  </tbody>\n",
       "</table>\n",
       "</div>"
      ],
      "text/plain": [
       "         Survived      Pclass         Age       SibSp       Parch        Fare\n",
       "count  891.000000  891.000000  714.000000  891.000000  891.000000  891.000000\n",
       "mean     0.383838    2.308642   29.699118    0.523008    0.381594   32.204208\n",
       "std      0.486592    0.836071   14.526497    1.102743    0.806057   49.693429\n",
       "min      0.000000    1.000000    0.420000    0.000000    0.000000    0.000000\n",
       "25%      0.000000    2.000000   20.125000    0.000000    0.000000    7.910400\n",
       "50%      0.000000    3.000000   28.000000    0.000000    0.000000   14.454200\n",
       "75%      1.000000    3.000000   38.000000    1.000000    0.000000   31.000000\n",
       "max      1.000000    3.000000   80.000000    8.000000    6.000000  512.329200"
      ]
     },
     "execution_count": 4,
     "metadata": {},
     "output_type": "execute_result"
    }
   ],
   "source": [
    "# Numeric Column Statistics\n",
    "data.describe()"
   ]
  },
  {
   "cell_type": "code",
   "execution_count": 5,
   "id": "30704259",
   "metadata": {
    "execution": {
     "iopub.execute_input": "2024-01-31T00:10:53.077067Z",
     "iopub.status.busy": "2024-01-31T00:10:53.076688Z",
     "iopub.status.idle": "2024-01-31T00:10:53.086735Z",
     "shell.execute_reply": "2024-01-31T00:10:53.085663Z"
    },
    "papermill": {
     "duration": 0.035165,
     "end_time": "2024-01-31T00:10:53.089211",
     "exception": false,
     "start_time": "2024-01-31T00:10:53.054046",
     "status": "completed"
    },
    "tags": []
   },
   "outputs": [
    {
     "data": {
      "text/html": [
       "<div>\n",
       "<style scoped>\n",
       "    .dataframe tbody tr th:only-of-type {\n",
       "        vertical-align: middle;\n",
       "    }\n",
       "\n",
       "    .dataframe tbody tr th {\n",
       "        vertical-align: top;\n",
       "    }\n",
       "\n",
       "    .dataframe thead th {\n",
       "        text-align: right;\n",
       "    }\n",
       "</style>\n",
       "<table border=\"1\" class=\"dataframe\">\n",
       "  <thead>\n",
       "    <tr style=\"text-align: right;\">\n",
       "      <th></th>\n",
       "      <th>Amount of Na Values</th>\n",
       "    </tr>\n",
       "  </thead>\n",
       "  <tbody>\n",
       "    <tr>\n",
       "      <th>Survived</th>\n",
       "      <td>0</td>\n",
       "    </tr>\n",
       "    <tr>\n",
       "      <th>Pclass</th>\n",
       "      <td>0</td>\n",
       "    </tr>\n",
       "    <tr>\n",
       "      <th>Name</th>\n",
       "      <td>0</td>\n",
       "    </tr>\n",
       "    <tr>\n",
       "      <th>Sex</th>\n",
       "      <td>0</td>\n",
       "    </tr>\n",
       "    <tr>\n",
       "      <th>Age</th>\n",
       "      <td>177</td>\n",
       "    </tr>\n",
       "    <tr>\n",
       "      <th>SibSp</th>\n",
       "      <td>0</td>\n",
       "    </tr>\n",
       "    <tr>\n",
       "      <th>Parch</th>\n",
       "      <td>0</td>\n",
       "    </tr>\n",
       "    <tr>\n",
       "      <th>Ticket</th>\n",
       "      <td>0</td>\n",
       "    </tr>\n",
       "    <tr>\n",
       "      <th>Fare</th>\n",
       "      <td>0</td>\n",
       "    </tr>\n",
       "    <tr>\n",
       "      <th>Cabin</th>\n",
       "      <td>687</td>\n",
       "    </tr>\n",
       "    <tr>\n",
       "      <th>Embarked</th>\n",
       "      <td>2</td>\n",
       "    </tr>\n",
       "  </tbody>\n",
       "</table>\n",
       "</div>"
      ],
      "text/plain": [
       "          Amount of Na Values\n",
       "Survived                    0\n",
       "Pclass                      0\n",
       "Name                        0\n",
       "Sex                         0\n",
       "Age                       177\n",
       "SibSp                       0\n",
       "Parch                       0\n",
       "Ticket                      0\n",
       "Fare                        0\n",
       "Cabin                     687\n",
       "Embarked                    2"
      ]
     },
     "execution_count": 5,
     "metadata": {},
     "output_type": "execute_result"
    }
   ],
   "source": [
    "# Look for Na values and fix them\n",
    "pd.DataFrame(data.isna().sum(), columns= [\"Amount of Na Values\"])"
   ]
  },
  {
   "cell_type": "code",
   "execution_count": 6,
   "id": "a5847ab2",
   "metadata": {
    "execution": {
     "iopub.execute_input": "2024-01-31T00:10:53.207322Z",
     "iopub.status.busy": "2024-01-31T00:10:53.206857Z",
     "iopub.status.idle": "2024-01-31T00:10:53.215788Z",
     "shell.execute_reply": "2024-01-31T00:10:53.214550Z"
    },
    "papermill": {
     "duration": 0.030386,
     "end_time": "2024-01-31T00:10:53.217876",
     "exception": false,
     "start_time": "2024-01-31T00:10:53.187490",
     "status": "completed"
    },
    "tags": []
   },
   "outputs": [],
   "source": [
    "data['Age'] = data['Age'].ffill()\n",
    "#data.dropna(inplace= True)"
   ]
  },
  {
   "cell_type": "markdown",
   "id": "3bc75d06",
   "metadata": {
    "papermill": {
     "duration": 0.017232,
     "end_time": "2024-01-31T00:10:53.252707",
     "exception": false,
     "start_time": "2024-01-31T00:10:53.235475",
     "status": "completed"
    },
    "tags": []
   },
   "source": [
    "## 2. Data Visualization 🌈🌟\n",
    "\n",
    "In this section we will visualize each of the variables and perform some data engineering to improve the importance of the variable in predicting the objective."
   ]
  },
  {
   "cell_type": "code",
   "execution_count": 7,
   "id": "166fdab3",
   "metadata": {
    "execution": {
     "iopub.execute_input": "2024-01-31T00:10:53.290002Z",
     "iopub.status.busy": "2024-01-31T00:10:53.289568Z",
     "iopub.status.idle": "2024-01-31T00:10:53.647997Z",
     "shell.execute_reply": "2024-01-31T00:10:53.646837Z"
    },
    "papermill": {
     "duration": 0.380975,
     "end_time": "2024-01-31T00:10:53.651175",
     "exception": false,
     "start_time": "2024-01-31T00:10:53.270200",
     "status": "completed"
    },
    "tags": []
   },
   "outputs": [
    {
     "data": {
      "image/png": "[encoded data removed]",
      "text/plain": [
       "<Figure size 640x480 with 1 Axes>"
      ]
     },
     "metadata": {},
     "output_type": "display_data"
    }
   ],
   "source": [
    "s0, s1 = data['Survived'].value_counts().values\n",
    "\n",
    "data.Survived.value_counts().plot(kind= \"barh\", title= 'Number of Passengers who Survived')\n",
    "plt.text(x= s0, y= 0, s= f'{s0}')\n",
    "plt.text(x= s1, y= 1, s= f'{s1}')\n",
    "plt.show()"
   ]
  },
  {
   "cell_type": "code",
   "execution_count": 8,
   "id": "a7938d99",
   "metadata": {
    "execution": {
     "iopub.execute_input": "2024-01-31T00:10:53.693239Z",
     "iopub.status.busy": "2024-01-31T00:10:53.692398Z",
     "iopub.status.idle": "2024-01-31T00:10:53.701801Z",
     "shell.execute_reply": "2024-01-31T00:10:53.700291Z"
    },
    "papermill": {
     "duration": 0.033492,
     "end_time": "2024-01-31T00:10:53.704247",
     "exception": false,
     "start_time": "2024-01-31T00:10:53.670755",
     "status": "completed"
    },
    "tags": []
   },
   "outputs": [],
   "source": [
    "# Function to Visualize Features\n",
    "def visualize_f(kind, feature, data= data, order= None, rotate= None):\n",
    "    statistics = data.groupby(feature).Survived.mean().reset_index()\n",
    "    index, y_ratio = statistics[feature], statistics['Survived']\n",
    "    \n",
    "    if kind == \"line\":\n",
    "        sns.lineplot(data= statistics, x= feature, y= \"Survived\")\n",
    "    elif kind == \"bar\":\n",
    "        sns.barplot(data= statistics, x= feature, y= \"Survived\", order= order)\n",
    "    elif kind == \"cat\":\n",
    "        sns.catplot(data, x= \"Survived\", y= feature)\n",
    "        \n",
    "        \n",
    "    plt.title(f\"Survived Ratio ({feature})\")\n",
    "    plt.ylabel(\"Survived Ratio\")\n",
    "    plt.xlabel(feature)\n",
    "    plt.xticks(rotation= rotate)\n",
    "    plt.show()"
   ]
  },
  {
   "cell_type": "markdown",
   "id": "e5e6614f",
   "metadata": {
    "papermill": {
     "duration": 0.019397,
     "end_time": "2024-01-31T00:10:53.743891",
     "exception": false,
     "start_time": "2024-01-31T00:10:53.724494",
     "status": "completed"
    },
    "tags": []
   },
   "source": [
    "### Pclass Feature\n",
    "Ticket class\n",
    "- 1 = 1st\n",
    "- 2 = 2nd\n",
    "- 3 = 3rd\n",
    "\n",
    "As we can see, the better class we have, the higher survival rate we will have.\n",
    "\n",
    "__Strong Relationship with the Target__"
   ]
  },
  {
   "cell_type": "code",
   "execution_count": 9,
   "id": "2fd992c8",
   "metadata": {
    "execution": {
     "iopub.execute_input": "2024-01-31T00:10:53.785751Z",
     "iopub.status.busy": "2024-01-31T00:10:53.785280Z",
     "iopub.status.idle": "2024-01-31T00:10:54.073934Z",
     "shell.execute_reply": "2024-01-31T00:10:54.072687Z"
    },
    "papermill": {
     "duration": 0.314244,
     "end_time": "2024-01-31T00:10:54.077732",
     "exception": false,
     "start_time": "2024-01-31T00:10:53.763488",
     "status": "completed"
    },
    "tags": []
   },
   "outputs": [
    {
     "data": {
      "image/png": "[encoded data removed]",
      "text/plain": [
       "<Figure size 640x480 with 1 Axes>"
      ]
     },
     "metadata": {},
     "output_type": "display_data"
    }
   ],
   "source": [
    "# Pclass Feature\n",
    "visualize_f(kind= \"bar\", feature= \"Pclass\")"
   ]
  },
  {
   "cell_type": "code",
   "execution_count": 10,
   "id": "ea4c2445",
   "metadata": {
    "execution": {
     "iopub.execute_input": "2024-01-31T00:10:54.122002Z",
     "iopub.status.busy": "2024-01-31T00:10:54.120660Z",
     "iopub.status.idle": "2024-01-31T00:10:54.134428Z",
     "shell.execute_reply": "2024-01-31T00:10:54.132805Z"
    },
    "papermill": {
     "duration": 0.038826,
     "end_time": "2024-01-31T00:10:54.137052",
     "exception": false,
     "start_time": "2024-01-31T00:10:54.098226",
     "status": "completed"
    },
    "tags": []
   },
   "outputs": [
    {
     "data": {
      "text/html": [
       "<div>\n",
       "<style scoped>\n",
       "    .dataframe tbody tr th:only-of-type {\n",
       "        vertical-align: middle;\n",
       "    }\n",
       "\n",
       "    .dataframe tbody tr th {\n",
       "        vertical-align: top;\n",
       "    }\n",
       "\n",
       "    .dataframe thead th {\n",
       "        text-align: right;\n",
       "    }\n",
       "</style>\n",
       "<table border=\"1\" class=\"dataframe\">\n",
       "  <thead>\n",
       "    <tr style=\"text-align: right;\">\n",
       "      <th></th>\n",
       "      <th>count</th>\n",
       "      <th>mean</th>\n",
       "    </tr>\n",
       "    <tr>\n",
       "      <th>Pclass</th>\n",
       "      <th></th>\n",
       "      <th></th>\n",
       "    </tr>\n",
       "  </thead>\n",
       "  <tbody>\n",
       "    <tr>\n",
       "      <th>1</th>\n",
       "      <td>216</td>\n",
       "      <td>0.629630</td>\n",
       "    </tr>\n",
       "    <tr>\n",
       "      <th>2</th>\n",
       "      <td>184</td>\n",
       "      <td>0.472826</td>\n",
       "    </tr>\n",
       "    <tr>\n",
       "      <th>3</th>\n",
       "      <td>491</td>\n",
       "      <td>0.242363</td>\n",
       "    </tr>\n",
       "  </tbody>\n",
       "</table>\n",
       "</div>"
      ],
      "text/plain": [
       "        count      mean\n",
       "Pclass                 \n",
       "1         216  0.629630\n",
       "2         184  0.472826\n",
       "3         491  0.242363"
      ]
     },
     "execution_count": 10,
     "metadata": {},
     "output_type": "execute_result"
    }
   ],
   "source": [
    "data.groupby('Pclass')['Survived'].agg(['count', 'mean'])"
   ]
  },
  {
   "cell_type": "markdown",
   "id": "40350553",
   "metadata": {
    "papermill": {
     "duration": 0.021696,
     "end_time": "2024-01-31T00:10:54.180254",
     "exception": false,
     "start_time": "2024-01-31T00:10:54.158558",
     "status": "completed"
    },
    "tags": []
   },
   "source": [
    "### Sex Feature\n",
    "\n",
    "Like the last feature, we can see a clear difference between the survival rate of female and male.\n",
    "\n",
    "__Strong Relationship with the Target__"
   ]
  },
  {
   "cell_type": "code",
   "execution_count": 11,
   "id": "6ac53c26",
   "metadata": {
    "execution": {
     "iopub.execute_input": "2024-01-31T00:10:54.220602Z",
     "iopub.status.busy": "2024-01-31T00:10:54.219434Z",
     "iopub.status.idle": "2024-01-31T00:10:54.491894Z",
     "shell.execute_reply": "2024-01-31T00:10:54.490824Z"
    },
    "papermill": {
     "duration": 0.295171,
     "end_time": "2024-01-31T00:10:54.494304",
     "exception": false,
     "start_time": "2024-01-31T00:10:54.199133",
     "status": "completed"
    },
    "tags": []
   },
   "outputs": [
    {
     "data": {
      "image/png": "[encoded data removed]",
      "text/plain": [
       "<Figure size 640x480 with 1 Axes>"
      ]
     },
     "metadata": {},
     "output_type": "display_data"
    }
   ],
   "source": [
    "# Sex Feature\n",
    "visualize_f(kind= \"bar\", feature= \"Sex\")"
   ]
  },
  {
   "cell_type": "markdown",
   "id": "50dde758",
   "metadata": {
    "papermill": {
     "duration": 0.019174,
     "end_time": "2024-01-31T00:10:54.533141",
     "exception": false,
     "start_time": "2024-01-31T00:10:54.513967",
     "status": "completed"
    },
    "tags": []
   },
   "source": [
    "### Age Feature\n",
    "\n",
    "As we can see, there are some peaks between people under 19 and over 50 years olds:\n",
    "- under age < 19\n",
    "- adult 19 - 65\n",
    "- over age > 65\n",
    "\n",
    "We could perform data engineering later using the previous classes."
   ]
  },
  {
   "cell_type": "code",
   "execution_count": 12,
   "id": "9dc17d24",
   "metadata": {
    "execution": {
     "iopub.execute_input": "2024-01-31T00:10:54.573418Z",
     "iopub.status.busy": "2024-01-31T00:10:54.572381Z",
     "iopub.status.idle": "2024-01-31T00:10:55.011272Z",
     "shell.execute_reply": "2024-01-31T00:10:55.010112Z"
    },
    "papermill": {
     "duration": 0.462274,
     "end_time": "2024-01-31T00:10:55.014450",
     "exception": false,
     "start_time": "2024-01-31T00:10:54.552176",
     "status": "completed"
    },
    "tags": []
   },
   "outputs": [
    {
     "data": {
      "image/png": "[encoded data removed]",
      "text/plain": [
       "<Figure size 640x480 with 1 Axes>"
      ]
     },
     "metadata": {},
     "output_type": "display_data"
    }
   ],
   "source": [
    "# Age Feature\n",
    "visualize_f(kind= \"line\", feature= \"Age\")"
   ]
  },
  {
   "cell_type": "markdown",
   "id": "8859fc39",
   "metadata": {
    "papermill": {
     "duration": 0.020342,
     "end_time": "2024-01-31T00:10:55.055767",
     "exception": false,
     "start_time": "2024-01-31T00:10:55.035425",
     "status": "completed"
    },
    "tags": []
   },
   "source": [
    "Another way to divide  Ages into Ranges:"
   ]
  },
  {
   "cell_type": "code",
   "execution_count": 13,
   "id": "c621ba44",
   "metadata": {
    "execution": {
     "iopub.execute_input": "2024-01-31T00:10:55.098856Z",
     "iopub.status.busy": "2024-01-31T00:10:55.098451Z",
     "iopub.status.idle": "2024-01-31T00:10:55.122165Z",
     "shell.execute_reply": "2024-01-31T00:10:55.120769Z"
    },
    "papermill": {
     "duration": 0.048195,
     "end_time": "2024-01-31T00:10:55.124450",
     "exception": false,
     "start_time": "2024-01-31T00:10:55.076255",
     "status": "completed"
    },
    "tags": []
   },
   "outputs": [
    {
     "data": {
      "text/html": [
       "<div>\n",
       "<style scoped>\n",
       "    .dataframe tbody tr th:only-of-type {\n",
       "        vertical-align: middle;\n",
       "    }\n",
       "\n",
       "    .dataframe tbody tr th {\n",
       "        vertical-align: top;\n",
       "    }\n",
       "\n",
       "    .dataframe thead th {\n",
       "        text-align: right;\n",
       "    }\n",
       "</style>\n",
       "<table border=\"1\" class=\"dataframe\">\n",
       "  <thead>\n",
       "    <tr style=\"text-align: right;\">\n",
       "      <th></th>\n",
       "      <th>mean</th>\n",
       "      <th>count</th>\n",
       "    </tr>\n",
       "    <tr>\n",
       "      <th>AgeRange</th>\n",
       "      <th></th>\n",
       "      <th></th>\n",
       "    </tr>\n",
       "  </thead>\n",
       "  <tbody>\n",
       "    <tr>\n",
       "      <th>(0.419, 16.0]</th>\n",
       "      <td>0.519380</td>\n",
       "      <td>129</td>\n",
       "    </tr>\n",
       "    <tr>\n",
       "      <th>(16.0, 20.0]</th>\n",
       "      <td>0.329897</td>\n",
       "      <td>97</td>\n",
       "    </tr>\n",
       "    <tr>\n",
       "      <th>(20.0, 24.0]</th>\n",
       "      <td>0.325203</td>\n",
       "      <td>123</td>\n",
       "    </tr>\n",
       "    <tr>\n",
       "      <th>(24.0, 28.0]</th>\n",
       "      <td>0.326733</td>\n",
       "      <td>101</td>\n",
       "    </tr>\n",
       "    <tr>\n",
       "      <th>(28.0, 33.0]</th>\n",
       "      <td>0.398374</td>\n",
       "      <td>123</td>\n",
       "    </tr>\n",
       "    <tr>\n",
       "      <th>(33.0, 38.0]</th>\n",
       "      <td>0.422680</td>\n",
       "      <td>97</td>\n",
       "    </tr>\n",
       "    <tr>\n",
       "      <th>(38.0, 47.75]</th>\n",
       "      <td>0.339450</td>\n",
       "      <td>109</td>\n",
       "    </tr>\n",
       "    <tr>\n",
       "      <th>(47.75, 80.0]</th>\n",
       "      <td>0.383929</td>\n",
       "      <td>112</td>\n",
       "    </tr>\n",
       "  </tbody>\n",
       "</table>\n",
       "</div>"
      ],
      "text/plain": [
       "                   mean  count\n",
       "AgeRange                      \n",
       "(0.419, 16.0]  0.519380    129\n",
       "(16.0, 20.0]   0.329897     97\n",
       "(20.0, 24.0]   0.325203    123\n",
       "(24.0, 28.0]   0.326733    101\n",
       "(28.0, 33.0]   0.398374    123\n",
       "(33.0, 38.0]   0.422680     97\n",
       "(38.0, 47.75]  0.339450    109\n",
       "(47.75, 80.0]  0.383929    112"
      ]
     },
     "execution_count": 13,
     "metadata": {},
     "output_type": "execute_result"
    }
   ],
   "source": [
    "data['AgeRange'] = pd.qcut(data.Age, q= 8)\n",
    "data.groupby('AgeRange')['Survived'].agg(['mean', 'count'])"
   ]
  },
  {
   "cell_type": "code",
   "execution_count": 14,
   "id": "27e6ae93",
   "metadata": {
    "execution": {
     "iopub.execute_input": "2024-01-31T00:10:55.175136Z",
     "iopub.status.busy": "2024-01-31T00:10:55.173635Z",
     "iopub.status.idle": "2024-01-31T00:10:55.769322Z",
     "shell.execute_reply": "2024-01-31T00:10:55.768210Z"
    },
    "papermill": {
     "duration": 0.624918,
     "end_time": "2024-01-31T00:10:55.771606",
     "exception": false,
     "start_time": "2024-01-31T00:10:55.146688",
     "status": "completed"
    },
    "tags": []
   },
   "outputs": [
    {
     "data": {
      "image/png": "[encoded data removed]",
      "text/plain": [
       "<Figure size 640x480 with 1 Axes>"
      ]
     },
     "metadata": {},
     "output_type": "display_data"
    }
   ],
   "source": [
    "# Age Distribution\n",
    "norm = np.log(data.Age) # Transform the data\n",
    "sns.histplot(x= norm, kde= True, hue= data.Survived)\n",
    "plt.show()"
   ]
  },
  {
   "cell_type": "markdown",
   "id": "d55f54ed",
   "metadata": {
    "papermill": {
     "duration": 0.022761,
     "end_time": "2024-01-31T00:10:55.816118",
     "exception": false,
     "start_time": "2024-01-31T00:10:55.793357",
     "status": "completed"
    },
    "tags": []
   },
   "source": [
    "### SibSp Feature \n",
    "\n",
    "Number of siblings / spouses aboard the Titanic\t"
   ]
  },
  {
   "cell_type": "code",
   "execution_count": 15,
   "id": "b7b4d84e",
   "metadata": {
    "execution": {
     "iopub.execute_input": "2024-01-31T00:10:55.862214Z",
     "iopub.status.busy": "2024-01-31T00:10:55.861456Z",
     "iopub.status.idle": "2024-01-31T00:10:56.174604Z",
     "shell.execute_reply": "2024-01-31T00:10:56.173427Z"
    },
    "papermill": {
     "duration": 0.339412,
     "end_time": "2024-01-31T00:10:56.176941",
     "exception": false,
     "start_time": "2024-01-31T00:10:55.837529",
     "status": "completed"
    },
    "tags": []
   },
   "outputs": [
    {
     "data": {
      "image/png": "[encoded data removed]",
      "text/plain": [
       "<Figure size 640x480 with 1 Axes>"
      ]
     },
     "metadata": {},
     "output_type": "display_data"
    }
   ],
   "source": [
    "# SibSp Feature\n",
    "visualize_f(kind= \"bar\", feature= \"SibSp\")"
   ]
  },
  {
   "cell_type": "markdown",
   "id": "3ec9d8aa",
   "metadata": {
    "papermill": {
     "duration": 0.021877,
     "end_time": "2024-01-31T00:10:56.221037",
     "exception": false,
     "start_time": "2024-01-31T00:10:56.199160",
     "status": "completed"
    },
    "tags": []
   },
   "source": [
    "### Parch Feature\n",
    "\n",
    "Number of parents / children aboard the Titanic\t"
   ]
  },
  {
   "cell_type": "code",
   "execution_count": 16,
   "id": "c9a71c6f",
   "metadata": {
    "execution": {
     "iopub.execute_input": "2024-01-31T00:10:56.266866Z",
     "iopub.status.busy": "2024-01-31T00:10:56.266108Z",
     "iopub.status.idle": "2024-01-31T00:10:56.571881Z",
     "shell.execute_reply": "2024-01-31T00:10:56.570779Z"
    },
    "papermill": {
     "duration": 0.331598,
     "end_time": "2024-01-31T00:10:56.574437",
     "exception": false,
     "start_time": "2024-01-31T00:10:56.242839",
     "status": "completed"
    },
    "tags": []
   },
   "outputs": [
    {
     "data": {
      "image/png": "[encoded data removed]",
      "text/plain": [
       "<Figure size 640x480 with 1 Axes>"
      ]
     },
     "metadata": {},
     "output_type": "display_data"
    }
   ],
   "source": [
    "# Parch Feature\n",
    "visualize_f(kind= \"bar\", feature= \"Parch\")"
   ]
  },
  {
   "cell_type": "markdown",
   "id": "1df51330",
   "metadata": {
    "papermill": {
     "duration": 0.024663,
     "end_time": "2024-01-31T00:10:56.623332",
     "exception": false,
     "start_time": "2024-01-31T00:10:56.598669",
     "status": "completed"
    },
    "tags": []
   },
   "source": [
    "We can see some trends in the last variables, however we can create more variables by doing data engineering that will help us more."
   ]
  },
  {
   "cell_type": "markdown",
   "id": "999aa401",
   "metadata": {
    "papermill": {
     "duration": 0.025526,
     "end_time": "2024-01-31T00:10:56.675531",
     "exception": false,
     "start_time": "2024-01-31T00:10:56.650005",
     "status": "completed"
    },
    "tags": []
   },
   "source": [
    "### Cabin Feature\n",
    "\n",
    "At this time we cannot visualize the Cabin feature as there are a couple of things to do with it. We need to clean the values and fill in the missing data, we will do this task in the next section."
   ]
  },
  {
   "cell_type": "markdown",
   "id": "e22213ff",
   "metadata": {
    "papermill": {
     "duration": 0.024019,
     "end_time": "2024-01-31T00:10:56.722962",
     "exception": false,
     "start_time": "2024-01-31T00:10:56.698943",
     "status": "completed"
    },
    "tags": []
   },
   "source": [
    "### Fare Feature\n",
    "\n",
    "At the moment, we can't seem to get anything useful out of this feature."
   ]
  },
  {
   "cell_type": "code",
   "execution_count": 17,
   "id": "e6388569",
   "metadata": {
    "execution": {
     "iopub.execute_input": "2024-01-31T00:10:56.775824Z",
     "iopub.status.busy": "2024-01-31T00:10:56.775374Z",
     "iopub.status.idle": "2024-01-31T00:10:57.195446Z",
     "shell.execute_reply": "2024-01-31T00:10:57.194339Z"
    },
    "papermill": {
     "duration": 0.45049,
     "end_time": "2024-01-31T00:10:57.198159",
     "exception": false,
     "start_time": "2024-01-31T00:10:56.747669",
     "status": "completed"
    },
    "tags": []
   },
   "outputs": [
    {
     "data": {
      "image/png": "[encoded data removed]",
      "text/plain": [
       "<Figure size 500x500 with 1 Axes>"
      ]
     },
     "metadata": {},
     "output_type": "display_data"
    }
   ],
   "source": [
    "# Fare Feature\n",
    "visualize_f(kind= \"cat\", feature= \"Fare\")"
   ]
  },
  {
   "cell_type": "code",
   "execution_count": 18,
   "id": "eb31a8da",
   "metadata": {
    "execution": {
     "iopub.execute_input": "2024-01-31T00:10:57.249438Z",
     "iopub.status.busy": "2024-01-31T00:10:57.249023Z",
     "iopub.status.idle": "2024-01-31T00:10:57.266349Z",
     "shell.execute_reply": "2024-01-31T00:10:57.265388Z"
    },
    "papermill": {
     "duration": 0.045348,
     "end_time": "2024-01-31T00:10:57.268739",
     "exception": false,
     "start_time": "2024-01-31T00:10:57.223391",
     "status": "completed"
    },
    "tags": []
   },
   "outputs": [
    {
     "data": {
      "text/html": [
       "<div>\n",
       "<style scoped>\n",
       "    .dataframe tbody tr th:only-of-type {\n",
       "        vertical-align: middle;\n",
       "    }\n",
       "\n",
       "    .dataframe tbody tr th {\n",
       "        vertical-align: top;\n",
       "    }\n",
       "\n",
       "    .dataframe thead th {\n",
       "        text-align: right;\n",
       "    }\n",
       "</style>\n",
       "<table border=\"1\" class=\"dataframe\">\n",
       "  <thead>\n",
       "    <tr style=\"text-align: right;\">\n",
       "      <th></th>\n",
       "      <th>count</th>\n",
       "      <th>mean</th>\n",
       "    </tr>\n",
       "    <tr>\n",
       "      <th>FareRange</th>\n",
       "      <th></th>\n",
       "      <th></th>\n",
       "    </tr>\n",
       "  </thead>\n",
       "  <tbody>\n",
       "    <tr>\n",
       "      <th>(-0.001, 7.91]</th>\n",
       "      <td>223</td>\n",
       "      <td>0.197309</td>\n",
       "    </tr>\n",
       "    <tr>\n",
       "      <th>(7.91, 14.454]</th>\n",
       "      <td>224</td>\n",
       "      <td>0.303571</td>\n",
       "    </tr>\n",
       "    <tr>\n",
       "      <th>(14.454, 31.0]</th>\n",
       "      <td>222</td>\n",
       "      <td>0.454955</td>\n",
       "    </tr>\n",
       "    <tr>\n",
       "      <th>(31.0, 512.329]</th>\n",
       "      <td>222</td>\n",
       "      <td>0.581081</td>\n",
       "    </tr>\n",
       "  </tbody>\n",
       "</table>\n",
       "</div>"
      ],
      "text/plain": [
       "                 count      mean\n",
       "FareRange                       \n",
       "(-0.001, 7.91]     223  0.197309\n",
       "(7.91, 14.454]     224  0.303571\n",
       "(14.454, 31.0]     222  0.454955\n",
       "(31.0, 512.329]    222  0.581081"
      ]
     },
     "execution_count": 18,
     "metadata": {},
     "output_type": "execute_result"
    }
   ],
   "source": [
    "# Fare Ranges\n",
    "data[\"FareRange\"] = pd.qcut(data['Fare'], q= 4)\n",
    "data.groupby('FareRange')['Survived'].agg(['count', 'mean'])"
   ]
  },
  {
   "cell_type": "markdown",
   "id": "f0b86a9e",
   "metadata": {
    "papermill": {
     "duration": 0.024224,
     "end_time": "2024-01-31T00:10:57.317105",
     "exception": false,
     "start_time": "2024-01-31T00:10:57.292881",
     "status": "completed"
    },
    "tags": []
   },
   "source": [
    "### Embarked Feature\n",
    "\n",
    "Port of Embarkation:\n",
    "- C = Cherbourg\n",
    "- Q = Queenstown \n",
    "- S = Southampton\n",
    "\n",
    "It seems that this feature can contribute something to our model. \n",
    "\n",
    "__Strong Relationship with the Target__"
   ]
  },
  {
   "cell_type": "code",
   "execution_count": 19,
   "id": "1182cf84",
   "metadata": {
    "execution": {
     "iopub.execute_input": "2024-01-31T00:10:57.371478Z",
     "iopub.status.busy": "2024-01-31T00:10:57.371104Z",
     "iopub.status.idle": "2024-01-31T00:10:57.617987Z",
     "shell.execute_reply": "2024-01-31T00:10:57.616491Z"
    },
    "papermill": {
     "duration": 0.276676,
     "end_time": "2024-01-31T00:10:57.620525",
     "exception": false,
     "start_time": "2024-01-31T00:10:57.343849",
     "status": "completed"
    },
    "tags": []
   },
   "outputs": [
    {
     "data": {
      "image/png": "[encoded data removed]",
      "text/plain": [
       "<Figure size 640x480 with 1 Axes>"
      ]
     },
     "metadata": {},
     "output_type": "display_data"
    }
   ],
   "source": [
    "# Embarked Feature\n",
    "visualize_f(kind= \"bar\", feature= \"Embarked\")"
   ]
  },
  {
   "cell_type": "markdown",
   "id": "2fc94d5e",
   "metadata": {
    "papermill": {
     "duration": 0.022918,
     "end_time": "2024-01-31T00:10:57.667273",
     "exception": false,
     "start_time": "2024-01-31T00:10:57.644355",
     "status": "completed"
    },
    "tags": []
   },
   "source": [
    "## 3. Data Engeneering 🤔🚀\n",
    "In this section we will do data engineering and clean the data, and finally visualize the results of data engineering.\n",
    "<hr>"
   ]
  },
  {
   "cell_type": "markdown",
   "id": "7a025416",
   "metadata": {
    "papermill": {
     "duration": 0.022504,
     "end_time": "2024-01-31T00:10:57.712456",
     "exception": false,
     "start_time": "2024-01-31T00:10:57.689952",
     "status": "completed"
    },
    "tags": []
   },
   "source": [
    "#### Name\n",
    "We can get several ideas from the names of the passengers, for example:\n",
    "\n",
    "* PassengerTitle: We can extract all the passengers' titles and based on that we define the priority of each passenger. The following classes were made with ChatGPT.\n",
    "\n",
    "    - Noble: \n",
    "        - The Countess\n",
    "        - Lady\n",
    "        - Sir\n",
    "        - Don\n",
    "        - Jonkheer\n",
    "    - Professional:\n",
    "        - Dr (Doctor)\n",
    "        - Mme (Madame)\n",
    "    - Military:\n",
    "        - Major\n",
    "        - Col\n",
    "        - Capt\n",
    "    - Common:\n",
    "        - Mr\n",
    "        - Mrs\n",
    "        - Ms\n",
    "        - Mlle\n",
    "        - Miss\n",
    "        - Master\n",
    "     - Religious:\n",
    "         - Rev"
   ]
  },
  {
   "cell_type": "code",
   "execution_count": 20,
   "id": "1559c0cf",
   "metadata": {
    "execution": {
     "iopub.execute_input": "2024-01-31T00:10:57.760549Z",
     "iopub.status.busy": "2024-01-31T00:10:57.759551Z",
     "iopub.status.idle": "2024-01-31T00:10:57.772632Z",
     "shell.execute_reply": "2024-01-31T00:10:57.771849Z"
    },
    "papermill": {
     "duration": 0.039604,
     "end_time": "2024-01-31T00:10:57.774907",
     "exception": false,
     "start_time": "2024-01-31T00:10:57.735303",
     "status": "completed"
    },
    "tags": []
   },
   "outputs": [],
   "source": [
    "# Get Passenger Titles\n",
    "data['PassengerTitle'] = data['Name'].str.split('.', expand= True)[0].str.split(', ', expand= True)[1].values\n",
    "\n",
    "title_to_category = {\n",
    "    'the Countess': 'Noble',\n",
    "    'Lady': 'Noble',\n",
    "    'Sir': 'Noble',\n",
    "    'Don': 'Noble',\n",
    "    'Dr': 'Professional',\n",
    "    'Rev': 'Religious',\n",
    "    'Major': 'Military',\n",
    "    'Col': 'Military',\n",
    "    'Mme': 'Professional',\n",
    "    'Mr': 'Common',\n",
    "    'Mrs': 'Common',\n",
    "    'Ms': 'Common',\n",
    "    'Capt': 'Military',\n",
    "    'Mlle': 'Common',\n",
    "    'Miss': 'Common',\n",
    "    'Master': 'Common',\n",
    "    'Jonkheer': 'Noble'\n",
    "}\n",
    "\n",
    "# Classify Titles\n",
    "data['Class'] = data['PassengerTitle'].map(title_to_category)"
   ]
  },
  {
   "cell_type": "code",
   "execution_count": 21,
   "id": "b875621f",
   "metadata": {
    "execution": {
     "iopub.execute_input": "2024-01-31T00:10:57.823426Z",
     "iopub.status.busy": "2024-01-31T00:10:57.822849Z",
     "iopub.status.idle": "2024-01-31T00:10:58.107518Z",
     "shell.execute_reply": "2024-01-31T00:10:58.106469Z"
    },
    "papermill": {
     "duration": 0.312072,
     "end_time": "2024-01-31T00:10:58.110196",
     "exception": false,
     "start_time": "2024-01-31T00:10:57.798124",
     "status": "completed"
    },
    "tags": []
   },
   "outputs": [
    {
     "data": {
      "image/png": "[encoded data removed]",
      "text/plain": [
       "<Figure size 640x480 with 1 Axes>"
      ]
     },
     "metadata": {},
     "output_type": "display_data"
    }
   ],
   "source": [
    "visualize_f(kind= \"bar\", feature= \"Class\", data= data, rotate= 45)"
   ]
  },
  {
   "cell_type": "markdown",
   "id": "9c392cd5",
   "metadata": {
    "papermill": {
     "duration": 0.023394,
     "end_time": "2024-01-31T00:10:58.157339",
     "exception": false,
     "start_time": "2024-01-31T00:10:58.133945",
     "status": "completed"
    },
    "tags": []
   },
   "source": [
    "#### Age\n",
    "First of all, let's define the age ranges:\n",
    "- under age < 19\n",
    "- adult 19 - 65\n",
    "- over age > 65\n",
    "\n",
    "You can experiment with different age ranges."
   ]
  },
  {
   "cell_type": "code",
   "execution_count": 22,
   "id": "5d3c724c",
   "metadata": {
    "execution": {
     "iopub.execute_input": "2024-01-31T00:10:58.206064Z",
     "iopub.status.busy": "2024-01-31T00:10:58.205722Z",
     "iopub.status.idle": "2024-01-31T00:10:58.449617Z",
     "shell.execute_reply": "2024-01-31T00:10:58.448603Z"
    },
    "papermill": {
     "duration": 0.271155,
     "end_time": "2024-01-31T00:10:58.452004",
     "exception": false,
     "start_time": "2024-01-31T00:10:58.180849",
     "status": "completed"
    },
    "tags": []
   },
   "outputs": [
    {
     "data": {
      "image/png": "[encoded data removed]",
      "text/plain": [
       "<Figure size 640x480 with 1 Axes>"
      ]
     },
     "metadata": {},
     "output_type": "display_data"
    }
   ],
   "source": [
    "data.loc[:, \"AgeType\"] = \"underAge\"\n",
    "data.loc[(data.Age >= 19) & (data.Age <= 65), \"AgeType\"] = \"adult\"\n",
    "data.loc[(data.Age > 65), \"AgeType\"] = \"overAge\"\n",
    "\n",
    "visualize_f(kind= \"bar\", feature= \"AgeType\", order= ['underAge','adult','overAge'])"
   ]
  },
  {
   "cell_type": "markdown",
   "id": "a38c8438",
   "metadata": {
    "papermill": {
     "duration": 0.026863,
     "end_time": "2024-01-31T00:10:58.506161",
     "exception": false,
     "start_time": "2024-01-31T00:10:58.479298",
     "status": "completed"
    },
    "tags": []
   },
   "source": [
    "#### Fare \n",
    "Just like we did before, we can split **Fare** feature into ranges:"
   ]
  },
  {
   "cell_type": "code",
   "execution_count": 23,
   "id": "5ec23a8a",
   "metadata": {
    "execution": {
     "iopub.execute_input": "2024-01-31T00:10:58.568169Z",
     "iopub.status.busy": "2024-01-31T00:10:58.567768Z",
     "iopub.status.idle": "2024-01-31T00:10:58.842598Z",
     "shell.execute_reply": "2024-01-31T00:10:58.841092Z"
    },
    "papermill": {
     "duration": 0.312219,
     "end_time": "2024-01-31T00:10:58.845149",
     "exception": false,
     "start_time": "2024-01-31T00:10:58.532930",
     "status": "completed"
    },
    "tags": []
   },
   "outputs": [
    {
     "data": {
      "image/png": "[encoded data removed]",
      "text/plain": [
       "<Figure size 640x480 with 1 Axes>"
      ]
     },
     "metadata": {},
     "output_type": "display_data"
    }
   ],
   "source": [
    "fareMap = {}\n",
    "for i, interval in enumerate(pd.qcut(data['Fare'], q= 4).unique().sort_values()):\n",
    "    fareMap[interval] = i\n",
    "\n",
    "data['FareInterval'] = data['FareRange'].map(fareMap)\n",
    "visualize_f(kind= \"bar\", feature= \"FareInterval\")"
   ]
  },
  {
   "cell_type": "markdown",
   "id": "1e70107a",
   "metadata": {
    "papermill": {
     "duration": 0.024758,
     "end_time": "2024-01-31T00:10:58.895234",
     "exception": false,
     "start_time": "2024-01-31T00:10:58.870476",
     "status": "completed"
    },
    "tags": []
   },
   "source": [
    "#### SibSp and Parch\n",
    "\n",
    "Now it's the turn of the **SibSp** and **Parch** features. There are a few ideas I would like to try:\n",
    "* Create a new numeric variable called 'TotalFamilyMembers' = SibSp + Parch\n",
    "* Create another variable but this time it will be binary, 'hasFamilyAboard' = 1 if SibSp or Parch != 0 else 0"
   ]
  },
  {
   "cell_type": "code",
   "execution_count": 24,
   "id": "b1a9d766",
   "metadata": {
    "execution": {
     "iopub.execute_input": "2024-01-31T00:10:58.947407Z",
     "iopub.status.busy": "2024-01-31T00:10:58.946383Z",
     "iopub.status.idle": "2024-01-31T00:10:59.329028Z",
     "shell.execute_reply": "2024-01-31T00:10:59.327815Z"
    },
    "papermill": {
     "duration": 0.411981,
     "end_time": "2024-01-31T00:10:59.332118",
     "exception": false,
     "start_time": "2024-01-31T00:10:58.920137",
     "status": "completed"
    },
    "tags": []
   },
   "outputs": [
    {
     "data": {
      "image/png": "[encoded data removed]",
      "text/plain": [
       "<Figure size 640x480 with 1 Axes>"
      ]
     },
     "metadata": {},
     "output_type": "display_data"
    }
   ],
   "source": [
    "# Total Family Members (on board)\n",
    "data.loc[:, \"TotalFamilyMembers\"] = data[\"Parch\"] + data[\"SibSp\"]\n",
    "\n",
    "visualize_f(kind= \"bar\", feature= \"TotalFamilyMembers\")"
   ]
  },
  {
   "cell_type": "markdown",
   "id": "3e05b645",
   "metadata": {
    "papermill": {
     "duration": 0.028819,
     "end_time": "2024-01-31T00:10:59.389451",
     "exception": false,
     "start_time": "2024-01-31T00:10:59.360632",
     "status": "completed"
    },
    "tags": []
   },
   "source": [
    "Now we can also create a new feature called **FamilySize**, since we can see a good Survived Ratio between 1 to 3."
   ]
  },
  {
   "cell_type": "code",
   "execution_count": 25,
   "id": "094b8fbc",
   "metadata": {
    "execution": {
     "iopub.execute_input": "2024-01-31T00:10:59.447151Z",
     "iopub.status.busy": "2024-01-31T00:10:59.446749Z",
     "iopub.status.idle": "2024-01-31T00:10:59.720504Z",
     "shell.execute_reply": "2024-01-31T00:10:59.719199Z"
    },
    "papermill": {
     "duration": 0.3066,
     "end_time": "2024-01-31T00:10:59.723314",
     "exception": false,
     "start_time": "2024-01-31T00:10:59.416714",
     "status": "completed"
    },
    "tags": []
   },
   "outputs": [
    {
     "data": {
      "image/png": "[encoded data removed]",
      "text/plain": [
       "<Figure size 640x480 with 1 Axes>"
      ]
     },
     "metadata": {},
     "output_type": "display_data"
    }
   ],
   "source": [
    "ranges = [-float('inf'), 0, 3, 6, float('inf')]\n",
    "sizes = ['None', 'Small','Medium', 'Big']\n",
    "\n",
    "data['FamilySize'] = pd.cut(data['TotalFamilyMembers'], bins= ranges, labels= sizes)\n",
    "visualize_f(kind= \"bar\", feature= \"FamilySize\")"
   ]
  },
  {
   "cell_type": "code",
   "execution_count": 26,
   "id": "36257200",
   "metadata": {
    "execution": {
     "iopub.execute_input": "2024-01-31T00:10:59.783145Z",
     "iopub.status.busy": "2024-01-31T00:10:59.782736Z",
     "iopub.status.idle": "2024-01-31T00:11:00.012122Z",
     "shell.execute_reply": "2024-01-31T00:11:00.010373Z"
    },
    "papermill": {
     "duration": 0.26234,
     "end_time": "2024-01-31T00:11:00.015010",
     "exception": false,
     "start_time": "2024-01-31T00:10:59.752670",
     "status": "completed"
    },
    "tags": []
   },
   "outputs": [
    {
     "data": {
      "image/png": "[encoded data removed]",
      "text/plain": [
       "<Figure size 640x480 with 1 Axes>"
      ]
     },
     "metadata": {},
     "output_type": "display_data"
    }
   ],
   "source": [
    "# Has Family Aboard\n",
    "data.loc[:, \"hasFamilyAboard\"] = (data[\"TotalFamilyMembers\"] > 0)\n",
    "data[\"hasFamilyAboard\"] = data[\"hasFamilyAboard\"].astype(np.int32)\n",
    "\n",
    "visualize_f(kind= \"bar\", feature= \"hasFamilyAboard\")"
   ]
  },
  {
   "cell_type": "markdown",
   "id": "e9e8cf6e",
   "metadata": {
    "execution": {
     "iopub.execute_input": "2024-01-12T21:52:49.356517Z",
     "iopub.status.busy": "2024-01-12T21:52:49.356027Z",
     "iopub.status.idle": "2024-01-12T21:52:49.365837Z",
     "shell.execute_reply": "2024-01-12T21:52:49.364145Z",
     "shell.execute_reply.started": "2024-01-12T21:52:49.356484Z"
    },
    "papermill": {
     "duration": 0.025562,
     "end_time": "2024-01-31T00:11:00.066786",
     "exception": false,
     "start_time": "2024-01-31T00:11:00.041224",
     "status": "completed"
    },
    "tags": []
   },
   "source": [
    "#### Cabin\n",
    "\n",
    "Now in order to visualize the __Cabin__ feature much better, we need to clean up the values, since some people have more than one Cabin and there is also some noise in the data.\n",
    "\n",
    "For instance:\n",
    "* Na Values (Unassigned).\n",
    "* More than one Cabin: 'B58 B60'\n",
    "* Noise: 'F G73'\n",
    "\n",
    "After solving the last problems, we can split it into **CabinLetter** and **ReservedCabins**."
   ]
  },
  {
   "cell_type": "code",
   "execution_count": 27,
   "id": "233d877e",
   "metadata": {
    "execution": {
     "iopub.execute_input": "2024-01-31T00:11:00.122596Z",
     "iopub.status.busy": "2024-01-31T00:11:00.121243Z",
     "iopub.status.idle": "2024-01-31T00:11:00.129824Z",
     "shell.execute_reply": "2024-01-31T00:11:00.128843Z"
    },
    "papermill": {
     "duration": 0.038751,
     "end_time": "2024-01-31T00:11:00.132023",
     "exception": false,
     "start_time": "2024-01-31T00:11:00.093272",
     "status": "completed"
    },
    "tags": []
   },
   "outputs": [],
   "source": [
    "# Fill Na values \n",
    "data['Cabin'] = data['Cabin'].fillna('Unassigned')\n",
    "\n",
    "# Clean 'F Cabin' noise\n",
    "data['Cabin'] = data['Cabin'].str.replace('F ', '')"
   ]
  },
  {
   "cell_type": "code",
   "execution_count": 28,
   "id": "79b21099",
   "metadata": {
    "execution": {
     "iopub.execute_input": "2024-01-31T00:11:00.187266Z",
     "iopub.status.busy": "2024-01-31T00:11:00.186466Z",
     "iopub.status.idle": "2024-01-31T00:11:00.196517Z",
     "shell.execute_reply": "2024-01-31T00:11:00.195586Z"
    },
    "papermill": {
     "duration": 0.040595,
     "end_time": "2024-01-31T00:11:00.198872",
     "exception": false,
     "start_time": "2024-01-31T00:11:00.158277",
     "status": "completed"
    },
    "tags": []
   },
   "outputs": [],
   "source": [
    "# Get Cabin Letter\n",
    "data['CabinLetter'] = data['Cabin'].str[0]\n",
    "\n",
    "# Reserved Cabins\n",
    "data['ReservedCabins'] = data['Cabin'].str.split(' ').str.len()\n",
    "data.loc[ data['Cabin'] == 'Unassigned', 'ReservedCabins'] = 0   # Set 0 to Unassigned Cabins"
   ]
  },
  {
   "cell_type": "code",
   "execution_count": 29,
   "id": "993a1305",
   "metadata": {
    "execution": {
     "iopub.execute_input": "2024-01-31T00:11:00.253442Z",
     "iopub.status.busy": "2024-01-31T00:11:00.253030Z",
     "iopub.status.idle": "2024-01-31T00:11:00.606741Z",
     "shell.execute_reply": "2024-01-31T00:11:00.604301Z"
    },
    "papermill": {
     "duration": 0.383735,
     "end_time": "2024-01-31T00:11:00.609144",
     "exception": false,
     "start_time": "2024-01-31T00:11:00.225409",
     "status": "completed"
    },
    "tags": []
   },
   "outputs": [
    {
     "data": {
      "image/png": "[encoded data removed]",
      "text/plain": [
       "<Figure size 640x480 with 1 Axes>"
      ]
     },
     "metadata": {},
     "output_type": "display_data"
    }
   ],
   "source": [
    "visualize_f(kind= \"bar\", feature= \"CabinLetter\")"
   ]
  },
  {
   "cell_type": "code",
   "execution_count": 30,
   "id": "f3af1e7b",
   "metadata": {
    "execution": {
     "iopub.execute_input": "2024-01-31T00:11:00.664332Z",
     "iopub.status.busy": "2024-01-31T00:11:00.663733Z",
     "iopub.status.idle": "2024-01-31T00:11:01.037511Z",
     "shell.execute_reply": "2024-01-31T00:11:01.036305Z"
    },
    "papermill": {
     "duration": 0.404183,
     "end_time": "2024-01-31T00:11:01.039864",
     "exception": false,
     "start_time": "2024-01-31T00:11:00.635681",
     "status": "completed"
    },
    "tags": []
   },
   "outputs": [
    {
     "data": {
      "image/png": "[encoded data removed]",
      "text/plain": [
       "<Figure size 640x480 with 1 Axes>"
      ]
     },
     "metadata": {},
     "output_type": "display_data"
    }
   ],
   "source": [
    "visualize_f(kind= \"bar\", feature= \"ReservedCabins\")"
   ]
  },
  {
   "cell_type": "markdown",
   "id": "b9873ca9",
   "metadata": {
    "papermill": {
     "duration": 0.029872,
     "end_time": "2024-01-31T00:11:01.096835",
     "exception": false,
     "start_time": "2024-01-31T00:11:01.066963",
     "status": "completed"
    },
    "tags": []
   },
   "source": [
    "#### Ticket\n",
    "- First, let's fill in the tickets without a place with a 'blank' value, for instance: **blank 211536**\n",
    "- After that we can split it into **TicketPlace** and **TicketNumber**."
   ]
  },
  {
   "cell_type": "code",
   "execution_count": 31,
   "id": "fd735141",
   "metadata": {
    "execution": {
     "iopub.execute_input": "2024-01-31T00:11:01.152614Z",
     "iopub.status.busy": "2024-01-31T00:11:01.151850Z",
     "iopub.status.idle": "2024-01-31T00:11:01.166460Z",
     "shell.execute_reply": "2024-01-31T00:11:01.165115Z"
    },
    "papermill": {
     "duration": 0.045148,
     "end_time": "2024-01-31T00:11:01.168877",
     "exception": false,
     "start_time": "2024-01-31T00:11:01.123729",
     "status": "completed"
    },
    "tags": []
   },
   "outputs": [],
   "source": [
    "# Split and get Blank Tickets \n",
    "split_ticket = data['Ticket'].str.split(' ', expand= True)\n",
    "blank_tickets = split_ticket[~split_ticket[1].notna()].index\n",
    "\n",
    "# Add 'blank' value\n",
    "data.loc[blank_tickets, 'Ticket'] = 'blank ' + data.loc[blank_tickets, 'Ticket'].values\n",
    "\n",
    "# Ticket Place\n",
    "data['TicketPlace'] = data['Ticket'].str.split(' ').str[0]\n",
    "# Ticket Number\n",
    "data['TicketNumber'] = data['Ticket'].str.split(' ').str[1]"
   ]
  },
  {
   "cell_type": "markdown",
   "id": "cbe95915",
   "metadata": {
    "papermill": {
     "duration": 0.026916,
     "end_time": "2024-01-31T00:11:01.222907",
     "exception": false,
     "start_time": "2024-01-31T00:11:01.195991",
     "status": "completed"
    },
    "tags": []
   },
   "source": [
    "Now we can try different things, like counting the number of digits in the **TicketNumber**."
   ]
  },
  {
   "cell_type": "code",
   "execution_count": 32,
   "id": "f9b9afc5",
   "metadata": {
    "execution": {
     "iopub.execute_input": "2024-01-31T00:11:01.280407Z",
     "iopub.status.busy": "2024-01-31T00:11:01.279844Z",
     "iopub.status.idle": "2024-01-31T00:11:01.582752Z",
     "shell.execute_reply": "2024-01-31T00:11:01.581656Z"
    },
    "papermill": {
     "duration": 0.334132,
     "end_time": "2024-01-31T00:11:01.584940",
     "exception": false,
     "start_time": "2024-01-31T00:11:01.250808",
     "status": "completed"
    },
    "tags": []
   },
   "outputs": [
    {
     "data": {
      "image/png": "[encoded data removed]",
      "text/plain": [
       "<Figure size 640x480 with 1 Axes>"
      ]
     },
     "metadata": {},
     "output_type": "display_data"
    }
   ],
   "source": [
    "data['TicketLength'] = data['TicketNumber'].str.len()\n",
    "visualize_f(kind= 'bar', feature= 'TicketLength', data= data)"
   ]
  },
  {
   "cell_type": "markdown",
   "id": "e7608ba7",
   "metadata": {
    "papermill": {
     "duration": 0.027177,
     "end_time": "2024-01-31T00:11:01.639477",
     "exception": false,
     "start_time": "2024-01-31T00:11:01.612300",
     "status": "completed"
    },
    "tags": []
   },
   "source": [
    "#### Features we will use:\n",
    "- Class\n",
    "- AgeType\n",
    "- FareInterval\n",
    "- FamilySize\n",
    "- hasFamilyAboard\n",
    "- CabinLetter\n",
    "- ReservedCabins\n",
    "- TicketLength"
   ]
  },
  {
   "cell_type": "markdown",
   "id": "a17739b3",
   "metadata": {
    "papermill": {
     "duration": 0.027211,
     "end_time": "2024-01-31T00:11:01.694190",
     "exception": false,
     "start_time": "2024-01-31T00:11:01.666979",
     "status": "completed"
    },
    "tags": []
   },
   "source": [
    "## 4. Build a Class to perform the Preprocess Data ⚒🔨\n",
    "\n",
    "Now, we will be developing a class to create the new variables and remove features that are not useful. "
   ]
  },
  {
   "cell_type": "code",
   "execution_count": 33,
   "id": "1475994b",
   "metadata": {
    "execution": {
     "iopub.execute_input": "2024-01-31T00:11:01.751136Z",
     "iopub.status.busy": "2024-01-31T00:11:01.750757Z",
     "iopub.status.idle": "2024-01-31T00:11:01.903231Z",
     "shell.execute_reply": "2024-01-31T00:11:01.902022Z"
    },
    "papermill": {
     "duration": 0.184687,
     "end_time": "2024-01-31T00:11:01.906058",
     "exception": false,
     "start_time": "2024-01-31T00:11:01.721371",
     "status": "completed"
    },
    "tags": []
   },
   "outputs": [],
   "source": [
    "from sklearn.base import TransformerMixin, BaseEstimator\n",
    "import re\n",
    "\n",
    "class CombinedAttributesAdder(BaseEstimator, TransformerMixin):\n",
    "    def __init__(self, drop_columns= True):\n",
    "        self.columns_to_remove = [1,3,9] # Name, Ticket, Cabin\n",
    "        self.drop = drop_columns\n",
    "    \n",
    "    # Handle log( 0. ) errors\n",
    "    def safe_log(self, x, epsilon= 1e-2):\n",
    "        return np.log(x.astype(np.float32) + epsilon)\n",
    "\n",
    "    def fit(self, X, y= None):\n",
    "        return self\n",
    "    \n",
    "    \n",
    "    def transform(self, X):\n",
    "        # Total Family feature\n",
    "        totalFamily = np.sum(X[:, [6,7]], axis= 1).reshape(-1,1)\n",
    "        # FamilySize *\n",
    "        family_conditions = [\n",
    "            (totalFamily < 1),\n",
    "            (np.logical_and(totalFamily >= 1, totalFamily <= 3)),\n",
    "            (np.logical_and(totalFamily >= 4, totalFamily <= 6)),\n",
    "            (totalFamily > 6),\n",
    "        ]\n",
    "        family_labels = ['None', 'Small', 'Medium','Big']\n",
    "        familySize = np.select(family_conditions, family_labels, default= 'Unknown').reshape(-1,1)\n",
    "        # Has Family feature *\n",
    "        hasFamily = np.where(totalFamily > 0, 1, 0).reshape(-1,1)\n",
    "        \n",
    "        # Ages Type *\n",
    "        agesRange = np.full((X.shape[0],1), \"underAge\")\n",
    "        adult = np.where( (X[:, 5] >= 19) & (X[:, 5] <= 65) )\n",
    "        overAge = np.where( (X[:, 5] > 65) )\n",
    "        agesRange[adult, 0] = 'adult'\n",
    "        agesRange[overAge, 0] = 'overAge'\n",
    "        \n",
    "        # Fare Intervals *\n",
    "        fare = X[:, 8]\n",
    "        fare_conditions = [\n",
    "            (fare <= 7.91),\n",
    "            (np.logical_and(fare > 7.91, fare <= 14.454)),\n",
    "            (np.logical_and(fare > 14.454, fare <= 31.0)),\n",
    "            (fare > 31.0),\n",
    "        ]\n",
    "        fare_labels = [0, 1, 2, 3]\n",
    "        fareIntervals = np.select(fare_conditions, fare_labels, default= 'Unknown').reshape(-1,1)\n",
    "        \n",
    "        # Class *\n",
    "        names = X[:, 1].astype(str)\n",
    "        title = [re.search(r'\\b((the )?\\w+\\.)', name).group().replace('.','') for name in names]\n",
    "        classes = np.array([title_to_category[t] if t in set(title_to_category.keys()) else 'None'  for t in title]).reshape(-1,1) # We use the last dictionary we made to encode the titles as long as the title exists\n",
    "        \n",
    "        # Cabin Letter *\n",
    "        cabin = X[:, 9].astype(str)\n",
    "        cabin[cabin == 'nan'] = 'U'                                 # Fill nan values\n",
    "        cabin = np.char.replace(cabin, old= 'F ', new= '')          # Clear the noise\n",
    "        cabinLetter = np.array([c[0] for c in cabin]).reshape(-1,1) # Get cabin letter\n",
    "        \n",
    "        # Reserved Cabins *\n",
    "        cabinsN = np.char.split(cabin, sep= ' ')\n",
    "        reservedCabins = np.array([len(n) if n != 'U' else 0. for n in cabinsN], dtype= np.float32).reshape(-1,1)\n",
    "        \n",
    "        # Ticket Length *\n",
    "        ticket = X[:, 3].astype(str)\n",
    "        split_ticket = np.char.split(ticket, sep= ' ')\n",
    "        ticketLength = np.array([ len(x[-1]) for x in split_ticket]).reshape(-1,1)\n",
    "        \n",
    "        \n",
    "        if self.drop:\n",
    "            self.columns_to_remove.extend([5,6,7,8]) # Age, SibSp, Parch, Fare\n",
    "        X = np.delete(X, self.columns_to_remove, axis= 1)\n",
    "        X = np.concatenate((X,familySize,hasFamily,agesRange,fareIntervals,classes,cabinLetter,reservedCabins,ticketLength), axis= 1)\n",
    "        \n",
    "        return X  # Final Data\n",
    "\n",
    "# Class to remove some columns and avoid Multicollinearity\n",
    "class MulticollinearityRemover(BaseEstimator, TransformerMixin):\n",
    "    def __init__(self):\n",
    "        self.columns_to_exclude = [7,9,12,14,17]\n",
    "\n",
    "    def fit(self, X, y=None):\n",
    "        return self\n",
    "\n",
    "    def transform(self, X):\n",
    "        X_transformed = np.delete(X, self.columns_to_exclude, axis=1)\n",
    "        return X_transformed"
   ]
  },
  {
   "cell_type": "code",
   "execution_count": 34,
   "id": "9d26b455",
   "metadata": {
    "execution": {
     "iopub.execute_input": "2024-01-31T00:11:01.963538Z",
     "iopub.status.busy": "2024-01-31T00:11:01.963064Z",
     "iopub.status.idle": "2024-01-31T00:11:02.271828Z",
     "shell.execute_reply": "2024-01-31T00:11:02.270501Z"
    },
    "papermill": {
     "duration": 0.341482,
     "end_time": "2024-01-31T00:11:02.274984",
     "exception": false,
     "start_time": "2024-01-31T00:11:01.933502",
     "status": "completed"
    },
    "tags": []
   },
   "outputs": [],
   "source": [
    "from sklearn.pipeline import Pipeline\n",
    "from sklearn.compose import ColumnTransformer\n",
    "from sklearn.preprocessing import OneHotEncoder\n",
    "from sklearn.preprocessing import StandardScaler\n",
    "from sklearn.impute import SimpleImputer"
   ]
  },
  {
   "cell_type": "code",
   "execution_count": 35,
   "id": "1703510b",
   "metadata": {
    "execution": {
     "iopub.execute_input": "2024-01-31T00:11:02.337596Z",
     "iopub.status.busy": "2024-01-31T00:11:02.337202Z",
     "iopub.status.idle": "2024-01-31T00:11:02.346608Z",
     "shell.execute_reply": "2024-01-31T00:11:02.344332Z"
    },
    "papermill": {
     "duration": 0.044305,
     "end_time": "2024-01-31T00:11:02.349345",
     "exception": false,
     "start_time": "2024-01-31T00:11:02.305040",
     "status": "completed"
    },
    "tags": []
   },
   "outputs": [],
   "source": [
    "# Define the Imputer\n",
    "data_imputer = ColumnTransformer([\n",
    "    (\"Impute_Categorical\", SimpleImputer(strategy= \"most_frequent\"), [0,1,2,6,9]),\n",
    "    (\"Impute_Numeric\", SimpleImputer(strategy= \"mean\"), [3,4,5,7]),\n",
    "], remainder= 'passthrough')\n",
    "\n",
    "# Define the Scaler for Numeric data and Encoder for Categorical data\n",
    "\"\"\"\n",
    "    if drop_columns == True:\n",
    "                           StandardScaler: [9] OneHotEncoder: [0,1,2,3,4,5,6,7,8,10]\n",
    "\n",
    "    if drop_columns == False:\n",
    "                            StandardScaler: [2,3,4,5,13] OneHotEncoder: [0,1,6,7,8,9,10,11,12,14]\n",
    "\"\"\"\n",
    "scale_encode_data = ColumnTransformer([\n",
    "    (\"StandardScaler\", StandardScaler(), [9]),\n",
    "    (\"OneHotEncoder\", OneHotEncoder(sparse_output= False), [0,1,2,3,4,5,6,7,8,10])\n",
    "], remainder= 'passthrough')\n",
    "\n",
    "# Data Preprocessing PipeLine\n",
    "data_preprocessing = Pipeline([\n",
    "    (\"Scale_Encode_Data\", scale_encode_data),\n",
    "    #(\"Fix_Multicollinearity\", MulticollinearityRemover())\n",
    "])\n",
    "\n",
    "# Define the Main PipeLine\n",
    "prepare_data = Pipeline([\n",
    "    (\"Data_Imputation\", data_imputer),\n",
    "    (\"Data_Engineering\", CombinedAttributesAdder()),\n",
    "    (\"Data_Preprocessing\", data_preprocessing)\n",
    "])"
   ]
  },
  {
   "cell_type": "code",
   "execution_count": 36,
   "id": "384dcb97",
   "metadata": {
    "execution": {
     "iopub.execute_input": "2024-01-31T00:11:02.409147Z",
     "iopub.status.busy": "2024-01-31T00:11:02.408694Z",
     "iopub.status.idle": "2024-01-31T00:11:02.442362Z",
     "shell.execute_reply": "2024-01-31T00:11:02.441123Z"
    },
    "papermill": {
     "duration": 0.066019,
     "end_time": "2024-01-31T00:11:02.444975",
     "exception": false,
     "start_time": "2024-01-31T00:11:02.378956",
     "status": "completed"
    },
    "tags": []
   },
   "outputs": [],
   "source": [
    "x_training = training_set.drop(columns= [\"Survived\"], axis= 1)\n",
    "x_training.loc[len(x_training)] = [1, 'Oliva y Ocana, Dona. Fermina', 'female', 39.0, 0, 0,'PC 17758', 108.9, 'C105', 'C'] # Add a Name without title\n",
    "y_training = training_set.Survived.values\n",
    "\n",
    "x_training = prepare_data.fit_transform(x_training.values)"
   ]
  },
  {
   "cell_type": "markdown",
   "id": "ef859a4d",
   "metadata": {
    "papermill": {
     "duration": 0.027779,
     "end_time": "2024-01-31T00:11:02.500197",
     "exception": false,
     "start_time": "2024-01-31T00:11:02.472418",
     "status": "completed"
    },
    "tags": []
   },
   "source": [
    "## 5. Build the Model ⚙️🧰🔧\n",
    "In this section we will try different things, such as:\n",
    "- Voting Classifier (Hard Voting)\n",
    "- Stacking Classifier\n",
    "- Bagging (Using XGBoost)\n",
    "- Pasting (Using XGBoost)\n",
    "\n",
    "And finally we will take the best estimator and tune its hyperparameters with GridSearchCV."
   ]
  },
  {
   "cell_type": "code",
   "execution_count": 37,
   "id": "02ea90c8",
   "metadata": {
    "execution": {
     "iopub.execute_input": "2024-01-31T00:11:02.557710Z",
     "iopub.status.busy": "2024-01-31T00:11:02.557246Z",
     "iopub.status.idle": "2024-01-31T00:11:02.868597Z",
     "shell.execute_reply": "2024-01-31T00:11:02.867339Z"
    },
    "papermill": {
     "duration": 0.343664,
     "end_time": "2024-01-31T00:11:02.871454",
     "exception": false,
     "start_time": "2024-01-31T00:11:02.527790",
     "status": "completed"
    },
    "tags": []
   },
   "outputs": [],
   "source": [
    "from sklearn.model_selection import train_test_split\n",
    "\n",
    "from xgboost import XGBClassifier\n",
    "from sklearn.linear_model import LogisticRegression\n",
    "from sklearn.svm import SVC\n",
    "from sklearn.ensemble import RandomForestClassifier\n",
    "from sklearn.naive_bayes import GaussianNB\n",
    "\n",
    "from sklearn.ensemble import StackingClassifier\n",
    "from sklearn.ensemble import VotingClassifier\n",
    "from sklearn.ensemble import BaggingClassifier"
   ]
  },
  {
   "cell_type": "code",
   "execution_count": 38,
   "id": "cfdb7c9e",
   "metadata": {
    "execution": {
     "iopub.execute_input": "2024-01-31T00:11:02.929723Z",
     "iopub.status.busy": "2024-01-31T00:11:02.929247Z",
     "iopub.status.idle": "2024-01-31T00:11:02.937283Z",
     "shell.execute_reply": "2024-01-31T00:11:02.936080Z"
    },
    "papermill": {
     "duration": 0.0401,
     "end_time": "2024-01-31T00:11:02.939295",
     "exception": false,
     "start_time": "2024-01-31T00:11:02.899195",
     "status": "completed"
    },
    "tags": []
   },
   "outputs": [
    {
     "name": "stdout",
     "output_type": "stream",
     "text": [
      "Training: (756, 43), Validation: (85, 43)\n"
     ]
    }
   ],
   "source": [
    "# Split Data into training and validation set\n",
    "x_train, x_val, y_train, y_val = train_test_split(x_training, y_training, train_size= 0.90)\n",
    "\n",
    "print(f\"Training: {x_train.shape}, Validation: {x_val.shape}\")"
   ]
  },
  {
   "cell_type": "code",
   "execution_count": 39,
   "id": "c0b097a6",
   "metadata": {
    "execution": {
     "iopub.execute_input": "2024-01-31T00:11:02.995906Z",
     "iopub.status.busy": "2024-01-31T00:11:02.995104Z",
     "iopub.status.idle": "2024-01-31T00:11:03.001149Z",
     "shell.execute_reply": "2024-01-31T00:11:03.000284Z"
    },
    "papermill": {
     "duration": 0.036936,
     "end_time": "2024-01-31T00:11:03.003358",
     "exception": false,
     "start_time": "2024-01-31T00:11:02.966422",
     "status": "completed"
    },
    "tags": []
   },
   "outputs": [],
   "source": [
    "# Estimators\n",
    "log_clf = LogisticRegression()\n",
    "svm_clf = SVC()\n",
    "randomF_clf = RandomForestClassifier()\n",
    "naiveBayes_clf = GaussianNB()\n",
    "xgb_clf = XGBClassifier()\n",
    "\n",
    "estimators_clf = [('Logistic', log_clf), ('SVM', svm_clf), ('RandomForest', randomF_clf), ('Naive Bayes', naiveBayes_clf), ('XGBoost', xgb_clf)]"
   ]
  },
  {
   "cell_type": "markdown",
   "id": "9e018cc1",
   "metadata": {
    "papermill": {
     "duration": 0.027597,
     "end_time": "2024-01-31T00:11:03.058451",
     "exception": false,
     "start_time": "2024-01-31T00:11:03.030854",
     "status": "completed"
    },
    "tags": []
   },
   "source": [
    "### Voting"
   ]
  },
  {
   "cell_type": "code",
   "execution_count": 40,
   "id": "8999c4cc",
   "metadata": {
    "execution": {
     "iopub.execute_input": "2024-01-31T00:11:03.115600Z",
     "iopub.status.busy": "2024-01-31T00:11:03.115165Z",
     "iopub.status.idle": "2024-01-31T00:11:03.626152Z",
     "shell.execute_reply": "2024-01-31T00:11:03.624201Z"
    },
    "papermill": {
     "duration": 0.542978,
     "end_time": "2024-01-31T00:11:03.628978",
     "exception": false,
     "start_time": "2024-01-31T00:11:03.086000",
     "status": "completed"
    },
    "tags": []
   },
   "outputs": [
    {
     "name": "stdout",
     "output_type": "stream",
     "text": [
      "Stacking Clf Score: 0.7647058823529411\n"
     ]
    }
   ],
   "source": [
    "# Voting Classifier\n",
    "voting_clf = VotingClassifier(\n",
    "    estimators= estimators_clf,\n",
    "    voting= 'hard'\n",
    ")\n",
    "voting_clf.fit(x_train, y_train)\n",
    "\n",
    "score = voting_clf.score(x_val, y_val)\n",
    "print(f'Stacking Clf Score: {score}')"
   ]
  },
  {
   "cell_type": "markdown",
   "id": "f42fdd30",
   "metadata": {
    "papermill": {
     "duration": 0.03056,
     "end_time": "2024-01-31T00:11:03.688784",
     "exception": false,
     "start_time": "2024-01-31T00:11:03.658224",
     "status": "completed"
    },
    "tags": []
   },
   "source": [
    "### Stacking Classifiers\n",
    "We will perform a **Hard Voting Classifier** using the estimator in **estimators_clf**."
   ]
  },
  {
   "cell_type": "code",
   "execution_count": 41,
   "id": "00d4fa47",
   "metadata": {
    "execution": {
     "iopub.execute_input": "2024-01-31T00:11:03.751506Z",
     "iopub.status.busy": "2024-01-31T00:11:03.750022Z",
     "iopub.status.idle": "2024-01-31T00:11:05.964072Z",
     "shell.execute_reply": "2024-01-31T00:11:05.963185Z"
    },
    "papermill": {
     "duration": 2.246997,
     "end_time": "2024-01-31T00:11:05.966533",
     "exception": false,
     "start_time": "2024-01-31T00:11:03.719536",
     "status": "completed"
    },
    "tags": []
   },
   "outputs": [
    {
     "name": "stdout",
     "output_type": "stream",
     "text": [
      "Stacking Clf Score: 0.8\n"
     ]
    }
   ],
   "source": [
    "stacking_clf = StackingClassifier(estimators= estimators_clf, cv= 5)\n",
    "stacking_clf.fit(x_train, y_train)\n",
    "\n",
    "score = stacking_clf.score(x_val, y_val)\n",
    "print(f'Stacking Clf Score: {score}')"
   ]
  },
  {
   "cell_type": "markdown",
   "id": "36443cc8",
   "metadata": {
    "papermill": {
     "duration": 0.031802,
     "end_time": "2024-01-31T00:11:06.028862",
     "exception": false,
     "start_time": "2024-01-31T00:11:05.997060",
     "status": "completed"
    },
    "tags": []
   },
   "source": [
    "### Bagging"
   ]
  },
  {
   "cell_type": "code",
   "execution_count": 42,
   "id": "c48f58f3",
   "metadata": {
    "execution": {
     "iopub.execute_input": "2024-01-31T00:11:06.095723Z",
     "iopub.status.busy": "2024-01-31T00:11:06.094787Z",
     "iopub.status.idle": "2024-01-31T00:11:26.469752Z",
     "shell.execute_reply": "2024-01-31T00:11:26.468265Z"
    },
    "papermill": {
     "duration": 20.412441,
     "end_time": "2024-01-31T00:11:26.472425",
     "exception": false,
     "start_time": "2024-01-31T00:11:06.059984",
     "status": "completed"
    },
    "tags": []
   },
   "outputs": [
    {
     "name": "stdout",
     "output_type": "stream",
     "text": [
      "Stacking Clf Score: 0.7764705882352941\n"
     ]
    }
   ],
   "source": [
    "bagging_clf = BaggingClassifier(estimator= XGBClassifier(), n_estimators= 500, n_jobs= -1, bootstrap= True)\n",
    "bagging_clf.fit(x_train, y_train)\n",
    "\n",
    "score = bagging_clf.score(x_val, y_val)\n",
    "print(f'Stacking Clf Score: {score}')"
   ]
  },
  {
   "cell_type": "markdown",
   "id": "e261fe47",
   "metadata": {
    "papermill": {
     "duration": 0.030636,
     "end_time": "2024-01-31T00:11:26.535058",
     "exception": false,
     "start_time": "2024-01-31T00:11:26.504422",
     "status": "completed"
    },
    "tags": []
   },
   "source": [
    "### Pasting"
   ]
  },
  {
   "cell_type": "code",
   "execution_count": 43,
   "id": "21573764",
   "metadata": {
    "execution": {
     "iopub.execute_input": "2024-01-31T00:11:26.598728Z",
     "iopub.status.busy": "2024-01-31T00:11:26.598115Z",
     "iopub.status.idle": "2024-01-31T00:11:44.657049Z",
     "shell.execute_reply": "2024-01-31T00:11:44.656204Z"
    },
    "papermill": {
     "duration": 18.093722,
     "end_time": "2024-01-31T00:11:44.659406",
     "exception": false,
     "start_time": "2024-01-31T00:11:26.565684",
     "status": "completed"
    },
    "tags": []
   },
   "outputs": [
    {
     "name": "stdout",
     "output_type": "stream",
     "text": [
      "Pasting Clf Score: 0.788235294117647\n"
     ]
    }
   ],
   "source": [
    "pasting_clf = BaggingClassifier(estimator= XGBClassifier(), n_estimators= 500, n_jobs= -1, bootstrap= False)\n",
    "pasting_clf.fit(x_train, y_train)\n",
    "\n",
    "score = pasting_clf.score(x_val, y_val)\n",
    "print(f'Pasting Clf Score: {score}')"
   ]
  },
  {
   "cell_type": "markdown",
   "id": "388d616d",
   "metadata": {
    "papermill": {
     "duration": 0.028724,
     "end_time": "2024-01-31T00:11:44.716802",
     "exception": false,
     "start_time": "2024-01-31T00:11:44.688078",
     "status": "completed"
    },
    "tags": []
   },
   "source": [
    "Since **Stacking** is the best estimator, we will now perform GridSearch to tune its hyperparameters."
   ]
  },
  {
   "cell_type": "code",
   "execution_count": 44,
   "id": "93934922",
   "metadata": {
    "execution": {
     "iopub.execute_input": "2024-01-31T00:11:44.779289Z",
     "iopub.status.busy": "2024-01-31T00:11:44.778892Z",
     "iopub.status.idle": "2024-01-31T00:11:44.783920Z",
     "shell.execute_reply": "2024-01-31T00:11:44.782604Z"
    },
    "papermill": {
     "duration": 0.039235,
     "end_time": "2024-01-31T00:11:44.786207",
     "exception": false,
     "start_time": "2024-01-31T00:11:44.746972",
     "status": "completed"
    },
    "tags": []
   },
   "outputs": [],
   "source": [
    "from sklearn.decomposition import PCA\n",
    "from sklearn.pipeline import Pipeline\n",
    "from sklearn.model_selection import GridSearchCV"
   ]
  },
  {
   "cell_type": "code",
   "execution_count": 45,
   "id": "86b45cc6",
   "metadata": {
    "execution": {
     "iopub.execute_input": "2024-01-31T00:11:44.847780Z",
     "iopub.status.busy": "2024-01-31T00:11:44.846215Z",
     "iopub.status.idle": "2024-01-31T00:14:02.662913Z",
     "shell.execute_reply": "2024-01-31T00:14:02.661747Z"
    },
    "papermill": {
     "duration": 137.878308,
     "end_time": "2024-01-31T00:14:02.694181",
     "exception": false,
     "start_time": "2024-01-31T00:11:44.815873",
     "status": "completed"
    },
    "tags": []
   },
   "outputs": [
    {
     "data": {
      "text/html": [
       "<style>#sk-container-id-1 {color: black;background-color: white;}#sk-container-id-1 pre{padding: 0;}#sk-container-id-1 div.sk-toggleable {background-color: white;}#sk-container-id-1 label.sk-toggleable__label {cursor: pointer;display: block;width: 100%;margin-bottom: 0;padding: 0.3em;box-sizing: border-box;text-align: center;}#sk-container-id-1 label.sk-toggleable__label-arrow:before {content: \"▸\";float: left;margin-right: 0.25em;color: #696969;}#sk-container-id-1 label.sk-toggleable__label-arrow:hover:before {color: black;}#sk-container-id-1 div.sk-estimator:hover label.sk-toggleable__label-arrow:before {color: black;}#sk-container-id-1 div.sk-toggleable__content {max-height: 0;max-width: 0;overflow: hidden;text-align: left;background-color: #f0f8ff;}#sk-container-id-1 div.sk-toggleable__content pre {margin: 0.2em;color: black;border-radius: 0.25em;background-color: #f0f8ff;}#sk-container-id-1 input.sk-toggleable__control:checked~div.sk-toggleable__content {max-height: 200px;max-width: 100%;overflow: auto;}#sk-container-id-1 input.sk-toggleable__control:checked~label.sk-toggleable__label-arrow:before {content: \"▾\";}#sk-container-id-1 div.sk-estimator input.sk-toggleable__control:checked~label.sk-toggleable__label {background-color: #d4ebff;}#sk-container-id-1 div.sk-label input.sk-toggleable__control:checked~label.sk-toggleable__label {background-color: #d4ebff;}#sk-container-id-1 input.sk-hidden--visually {border: 0;clip: rect(1px 1px 1px 1px);clip: rect(1px, 1px, 1px, 1px);height: 1px;margin: -1px;overflow: hidden;padding: 0;position: absolute;width: 1px;}#sk-container-id-1 div.sk-estimator {font-family: monospace;background-color: #f0f8ff;border: 1px dotted black;border-radius: 0.25em;box-sizing: border-box;margin-bottom: 0.5em;}#sk-container-id-1 div.sk-estimator:hover {background-color: #d4ebff;}#sk-container-id-1 div.sk-parallel-item::after {content: \"\";width: 100%;border-bottom: 1px solid gray;flex-grow: 1;}#sk-container-id-1 div.sk-label:hover label.sk-toggleable__label {background-color: #d4ebff;}#sk-container-id-1 div.sk-serial::before {content: \"\";position: absolute;border-left: 1px solid gray;box-sizing: border-box;top: 0;bottom: 0;left: 50%;z-index: 0;}#sk-container-id-1 div.sk-serial {display: flex;flex-direction: column;align-items: center;background-color: white;padding-right: 0.2em;padding-left: 0.2em;position: relative;}#sk-container-id-1 div.sk-item {position: relative;z-index: 1;}#sk-container-id-1 div.sk-parallel {display: flex;align-items: stretch;justify-content: center;background-color: white;position: relative;}#sk-container-id-1 div.sk-item::before, #sk-container-id-1 div.sk-parallel-item::before {content: \"\";position: absolute;border-left: 1px solid gray;box-sizing: border-box;top: 0;bottom: 0;left: 50%;z-index: -1;}#sk-container-id-1 div.sk-parallel-item {display: flex;flex-direction: column;z-index: 1;position: relative;background-color: white;}#sk-container-id-1 div.sk-parallel-item:first-child::after {align-self: flex-end;width: 50%;}#sk-container-id-1 div.sk-parallel-item:last-child::after {align-self: flex-start;width: 50%;}#sk-container-id-1 div.sk-parallel-item:only-child::after {width: 0;}#sk-container-id-1 div.sk-dashed-wrapped {border: 1px dashed gray;margin: 0 0.4em 0.5em 0.4em;box-sizing: border-box;padding-bottom: 0.4em;background-color: white;}#sk-container-id-1 div.sk-label label {font-family: monospace;font-weight: bold;display: inline-block;line-height: 1.2em;}#sk-container-id-1 div.sk-label-container {text-align: center;}#sk-container-id-1 div.sk-container {/* jupyter's `normalize.less` sets `[hidden] { display: none; }` but bootstrap.min.css set `[hidden] { display: none !important; }` so we also need the `!important` here to be able to override the default hidden behavior on the sphinx rendered scikit-learn.org. See: https://github.com/scikit-learn/scikit-learn/issues/21755 */display: inline-block !important;position: relative;}#sk-container-id-1 div.sk-text-repr-fallback {display: none;}</style><div id=\"sk-container-id-1\" class=\"sk-top-container\"><div class=\"sk-text-repr-fallback\"><pre>GridSearchCV(cv=5,\n",
       "             estimator=Pipeline(steps=[(&#x27;PCA&#x27;, PCA()),\n",
       "                                       (&#x27;Estimator&#x27;,\n",
       "                                        StackingClassifier(cv=5,\n",
       "                                                           estimators=[(&#x27;Logistic&#x27;,\n",
       "                                                                        LogisticRegression()),\n",
       "                                                                       (&#x27;SVM&#x27;,\n",
       "                                                                        SVC()),\n",
       "                                                                       (&#x27;RandomForest&#x27;,\n",
       "                                                                        RandomForestClassifier()),\n",
       "                                                                       (&#x27;Naive &#x27;\n",
       "                                                                        &#x27;Bayes&#x27;,\n",
       "                                                                        GaussianNB()),\n",
       "                                                                       (&#x27;XGBoost&#x27;,\n",
       "                                                                        XGBClassifier(base_score=None,\n",
       "                                                                                      booster=None,\n",
       "                                                                                      callbacks=None,\n",
       "                                                                                      colsample_bylevel=None,\n",
       "                                                                                      colsample_bynode=None,\n",
       "                                                                                      colsample...\n",
       "                                                                                      min_child_weight=None,\n",
       "                                                                                      missing=nan,\n",
       "                                                                                      monotone_constraints=None,\n",
       "                                                                                      multi_strategy=None,\n",
       "                                                                                      n_estimators=None,\n",
       "                                                                                      n_jobs=None,\n",
       "                                                                                      num_parallel_tree=None,\n",
       "                                                                                      random_state=None, ...))]))]),\n",
       "             n_jobs=-1,\n",
       "             param_grid={&#x27;Estimator__RandomForest__n_estimators&#x27;: [100, 300],\n",
       "                         &#x27;Estimator__SVM__C&#x27;: [1.0, 2.0],\n",
       "                         &#x27;Estimator__XGBoost__n_estimators&#x27;: [100, 300],\n",
       "                         &#x27;PCA__n_components&#x27;: [10, 15]},\n",
       "             scoring=&#x27;accuracy&#x27;)</pre><b>In a Jupyter environment, please rerun this cell to show the HTML representation or trust the notebook. <br />On GitHub, the HTML representation is unable to render, please try loading this page with nbviewer.org.</b></div><div class=\"sk-container\" hidden><div class=\"sk-item sk-dashed-wrapped\"><div class=\"sk-label-container\"><div class=\"sk-label sk-toggleable\"><input class=\"sk-toggleable__control sk-hidden--visually\" id=\"sk-estimator-id-1\" type=\"checkbox\" ><label for=\"sk-estimator-id-1\" class=\"sk-toggleable__label sk-toggleable__label-arrow\">GridSearchCV</label><div class=\"sk-toggleable__content\"><pre>GridSearchCV(cv=5,\n",
       "             estimator=Pipeline(steps=[(&#x27;PCA&#x27;, PCA()),\n",
       "                                       (&#x27;Estimator&#x27;,\n",
       "                                        StackingClassifier(cv=5,\n",
       "                                                           estimators=[(&#x27;Logistic&#x27;,\n",
       "                                                                        LogisticRegression()),\n",
       "                                                                       (&#x27;SVM&#x27;,\n",
       "                                                                        SVC()),\n",
       "                                                                       (&#x27;RandomForest&#x27;,\n",
       "                                                                        RandomForestClassifier()),\n",
       "                                                                       (&#x27;Naive &#x27;\n",
       "                                                                        &#x27;Bayes&#x27;,\n",
       "                                                                        GaussianNB()),\n",
       "                                                                       (&#x27;XGBoost&#x27;,\n",
       "                                                                        XGBClassifier(base_score=None,\n",
       "                                                                                      booster=None,\n",
       "                                                                                      callbacks=None,\n",
       "                                                                                      colsample_bylevel=None,\n",
       "                                                                                      colsample_bynode=None,\n",
       "                                                                                      colsample...\n",
       "                                                                                      min_child_weight=None,\n",
       "                                                                                      missing=nan,\n",
       "                                                                                      monotone_constraints=None,\n",
       "                                                                                      multi_strategy=None,\n",
       "                                                                                      n_estimators=None,\n",
       "                                                                                      n_jobs=None,\n",
       "                                                                                      num_parallel_tree=None,\n",
       "                                                                                      random_state=None, ...))]))]),\n",
       "             n_jobs=-1,\n",
       "             param_grid={&#x27;Estimator__RandomForest__n_estimators&#x27;: [100, 300],\n",
       "                         &#x27;Estimator__SVM__C&#x27;: [1.0, 2.0],\n",
       "                         &#x27;Estimator__XGBoost__n_estimators&#x27;: [100, 300],\n",
       "                         &#x27;PCA__n_components&#x27;: [10, 15]},\n",
       "             scoring=&#x27;accuracy&#x27;)</pre></div></div></div><div class=\"sk-parallel\"><div class=\"sk-parallel-item\"><div class=\"sk-item\"><div class=\"sk-label-container\"><div class=\"sk-label sk-toggleable\"><input class=\"sk-toggleable__control sk-hidden--visually\" id=\"sk-estimator-id-2\" type=\"checkbox\" ><label for=\"sk-estimator-id-2\" class=\"sk-toggleable__label sk-toggleable__label-arrow\">estimator: Pipeline</label><div class=\"sk-toggleable__content\"><pre>Pipeline(steps=[(&#x27;PCA&#x27;, PCA()),\n",
       "                (&#x27;Estimator&#x27;,\n",
       "                 StackingClassifier(cv=5,\n",
       "                                    estimators=[(&#x27;Logistic&#x27;,\n",
       "                                                 LogisticRegression()),\n",
       "                                                (&#x27;SVM&#x27;, SVC()),\n",
       "                                                (&#x27;RandomForest&#x27;,\n",
       "                                                 RandomForestClassifier()),\n",
       "                                                (&#x27;Naive Bayes&#x27;, GaussianNB()),\n",
       "                                                (&#x27;XGBoost&#x27;,\n",
       "                                                 XGBClassifier(base_score=None,\n",
       "                                                               booster=None,\n",
       "                                                               callbacks=None,\n",
       "                                                               colsample_bylevel=None,\n",
       "                                                               colsample_bynode=None,\n",
       "                                                               colsample_bytree=None,\n",
       "                                                               device=None,\n",
       "                                                               early...\n",
       "                                                               grow_policy=None,\n",
       "                                                               importance_type=None,\n",
       "                                                               interaction_constraints=None,\n",
       "                                                               learning_rate=None,\n",
       "                                                               max_bin=None,\n",
       "                                                               max_cat_threshold=None,\n",
       "                                                               max_cat_to_onehot=None,\n",
       "                                                               max_delta_step=None,\n",
       "                                                               max_depth=None,\n",
       "                                                               max_leaves=None,\n",
       "                                                               min_child_weight=None,\n",
       "                                                               missing=nan,\n",
       "                                                               monotone_constraints=None,\n",
       "                                                               multi_strategy=None,\n",
       "                                                               n_estimators=None,\n",
       "                                                               n_jobs=None,\n",
       "                                                               num_parallel_tree=None,\n",
       "                                                               random_state=None, ...))]))])</pre></div></div></div><div class=\"sk-serial\"><div class=\"sk-item\"><div class=\"sk-serial\"><div class=\"sk-item\"><div class=\"sk-estimator sk-toggleable\"><input class=\"sk-toggleable__control sk-hidden--visually\" id=\"sk-estimator-id-3\" type=\"checkbox\" ><label for=\"sk-estimator-id-3\" class=\"sk-toggleable__label sk-toggleable__label-arrow\">PCA</label><div class=\"sk-toggleable__content\"><pre>PCA()</pre></div></div></div><div class=\"sk-item\"><div class=\"sk-label-container\"><div class=\"sk-label sk-toggleable\"><input class=\"sk-toggleable__control sk-hidden--visually\" id=\"sk-estimator-id-4\" type=\"checkbox\" ><label for=\"sk-estimator-id-4\" class=\"sk-toggleable__label sk-toggleable__label-arrow\">Estimator: StackingClassifier</label><div class=\"sk-toggleable__content\"><pre>StackingClassifier(cv=5,\n",
       "                   estimators=[(&#x27;Logistic&#x27;, LogisticRegression()),\n",
       "                               (&#x27;SVM&#x27;, SVC()),\n",
       "                               (&#x27;RandomForest&#x27;, RandomForestClassifier()),\n",
       "                               (&#x27;Naive Bayes&#x27;, GaussianNB()),\n",
       "                               (&#x27;XGBoost&#x27;,\n",
       "                                XGBClassifier(base_score=None, booster=None,\n",
       "                                              callbacks=None,\n",
       "                                              colsample_bylevel=None,\n",
       "                                              colsample_bynode=None,\n",
       "                                              colsample_bytree=None,\n",
       "                                              device=None,\n",
       "                                              early_stopping_rounds=None,\n",
       "                                              enable_categorical=Fa...\n",
       "                                              grow_policy=None,\n",
       "                                              importance_type=None,\n",
       "                                              interaction_constraints=None,\n",
       "                                              learning_rate=None, max_bin=None,\n",
       "                                              max_cat_threshold=None,\n",
       "                                              max_cat_to_onehot=None,\n",
       "                                              max_delta_step=None,\n",
       "                                              max_depth=None, max_leaves=None,\n",
       "                                              min_child_weight=None,\n",
       "                                              missing=nan,\n",
       "                                              monotone_constraints=None,\n",
       "                                              multi_strategy=None,\n",
       "                                              n_estimators=None, n_jobs=None,\n",
       "                                              num_parallel_tree=None,\n",
       "                                              random_state=None, ...))])</pre></div></div></div><div class=\"sk-serial\"><div class=\"sk-item\"><div class=\"sk-parallel\"><div class=\"sk-parallel-item\"><div class=\"sk-item\"><div class=\"sk-label-container\"><div class=\"sk-label sk-toggleable\"><label>Logistic</label></div></div><div class=\"sk-serial\"><div class=\"sk-item\"><div class=\"sk-estimator sk-toggleable\"><input class=\"sk-toggleable__control sk-hidden--visually\" id=\"sk-estimator-id-5\" type=\"checkbox\" ><label for=\"sk-estimator-id-5\" class=\"sk-toggleable__label sk-toggleable__label-arrow\">LogisticRegression</label><div class=\"sk-toggleable__content\"><pre>LogisticRegression()</pre></div></div></div></div></div></div><div class=\"sk-parallel-item\"><div class=\"sk-item\"><div class=\"sk-label-container\"><div class=\"sk-label sk-toggleable\"><label>SVM</label></div></div><div class=\"sk-serial\"><div class=\"sk-item\"><div class=\"sk-estimator sk-toggleable\"><input class=\"sk-toggleable__control sk-hidden--visually\" id=\"sk-estimator-id-6\" type=\"checkbox\" ><label for=\"sk-estimator-id-6\" class=\"sk-toggleable__label sk-toggleable__label-arrow\">SVC</label><div class=\"sk-toggleable__content\"><pre>SVC()</pre></div></div></div></div></div></div><div class=\"sk-parallel-item\"><div class=\"sk-item\"><div class=\"sk-label-container\"><div class=\"sk-label sk-toggleable\"><label>RandomForest</label></div></div><div class=\"sk-serial\"><div class=\"sk-item\"><div class=\"sk-estimator sk-toggleable\"><input class=\"sk-toggleable__control sk-hidden--visually\" id=\"sk-estimator-id-7\" type=\"checkbox\" ><label for=\"sk-estimator-id-7\" class=\"sk-toggleable__label sk-toggleable__label-arrow\">RandomForestClassifier</label><div class=\"sk-toggleable__content\"><pre>RandomForestClassifier()</pre></div></div></div></div></div></div><div class=\"sk-parallel-item\"><div class=\"sk-item\"><div class=\"sk-label-container\"><div class=\"sk-label sk-toggleable\"><label>Naive Bayes</label></div></div><div class=\"sk-serial\"><div class=\"sk-item\"><div class=\"sk-estimator sk-toggleable\"><input class=\"sk-toggleable__control sk-hidden--visually\" id=\"sk-estimator-id-8\" type=\"checkbox\" ><label for=\"sk-estimator-id-8\" class=\"sk-toggleable__label sk-toggleable__label-arrow\">GaussianNB</label><div class=\"sk-toggleable__content\"><pre>GaussianNB()</pre></div></div></div></div></div></div><div class=\"sk-parallel-item\"><div class=\"sk-item\"><div class=\"sk-label-container\"><div class=\"sk-label sk-toggleable\"><label>XGBoost</label></div></div><div class=\"sk-serial\"><div class=\"sk-item\"><div class=\"sk-estimator sk-toggleable\"><input class=\"sk-toggleable__control sk-hidden--visually\" id=\"sk-estimator-id-9\" type=\"checkbox\" ><label for=\"sk-estimator-id-9\" class=\"sk-toggleable__label sk-toggleable__label-arrow\">XGBClassifier</label><div class=\"sk-toggleable__content\"><pre>XGBClassifier(base_score=None, booster=None, callbacks=None,\n",
       "              colsample_bylevel=None, colsample_bynode=None,\n",
       "              colsample_bytree=None, device=None, early_stopping_rounds=None,\n",
       "              enable_categorical=False, eval_metric=None, feature_types=None,\n",
       "              gamma=None, grow_policy=None, importance_type=None,\n",
       "              interaction_constraints=None, learning_rate=None, max_bin=None,\n",
       "              max_cat_threshold=None, max_cat_to_onehot=None,\n",
       "              max_delta_step=None, max_depth=None, max_leaves=None,\n",
       "              min_child_weight=None, missing=nan, monotone_constraints=None,\n",
       "              multi_strategy=None, n_estimators=None, n_jobs=None,\n",
       "              num_parallel_tree=None, random_state=None, ...)</pre></div></div></div></div></div></div></div></div><div class=\"sk-item\"><div class=\"sk-parallel\"><div class=\"sk-parallel-item\"><div class=\"sk-item\"><div class=\"sk-label-container\"><div class=\"sk-label sk-toggleable\"><label>final_estimator</label></div></div><div class=\"sk-serial\"><div class=\"sk-item\"><div class=\"sk-estimator sk-toggleable\"><input class=\"sk-toggleable__control sk-hidden--visually\" id=\"sk-estimator-id-10\" type=\"checkbox\" ><label for=\"sk-estimator-id-10\" class=\"sk-toggleable__label sk-toggleable__label-arrow\">LogisticRegression</label><div class=\"sk-toggleable__content\"><pre>LogisticRegression()</pre></div></div></div></div></div></div></div></div></div></div></div></div></div></div></div></div></div></div></div>"
      ],
      "text/plain": [
       "GridSearchCV(cv=5,\n",
       "             estimator=Pipeline(steps=[('PCA', PCA()),\n",
       "                                       ('Estimator',\n",
       "                                        StackingClassifier(cv=5,\n",
       "                                                           estimators=[('Logistic',\n",
       "                                                                        LogisticRegression()),\n",
       "                                                                       ('SVM',\n",
       "                                                                        SVC()),\n",
       "                                                                       ('RandomForest',\n",
       "                                                                        RandomForestClassifier()),\n",
       "                                                                       ('Naive '\n",
       "                                                                        'Bayes',\n",
       "                                                                        GaussianNB()),\n",
       "                                                                       ('XGBoost',\n",
       "                                                                        XGBClassifier(base_score=None,\n",
       "                                                                                      booster=None,\n",
       "                                                                                      callbacks=None,\n",
       "                                                                                      colsample_bylevel=None,\n",
       "                                                                                      colsample_bynode=None,\n",
       "                                                                                      colsample...\n",
       "                                                                                      min_child_weight=None,\n",
       "                                                                                      missing=nan,\n",
       "                                                                                      monotone_constraints=None,\n",
       "                                                                                      multi_strategy=None,\n",
       "                                                                                      n_estimators=None,\n",
       "                                                                                      n_jobs=None,\n",
       "                                                                                      num_parallel_tree=None,\n",
       "                                                                                      random_state=None, ...))]))]),\n",
       "             n_jobs=-1,\n",
       "             param_grid={'Estimator__RandomForest__n_estimators': [100, 300],\n",
       "                         'Estimator__SVM__C': [1.0, 2.0],\n",
       "                         'Estimator__XGBoost__n_estimators': [100, 300],\n",
       "                         'PCA__n_components': [10, 15]},\n",
       "             scoring='accuracy')"
      ]
     },
     "execution_count": 45,
     "metadata": {},
     "output_type": "execute_result"
    }
   ],
   "source": [
    "# Classifier\n",
    "classifier = Pipeline(steps= [\n",
    "    (\"PCA\", PCA()),\n",
    "    (\"Estimator\", stacking_clf)\n",
    "])\n",
    "\n",
    "# Parameters\n",
    "params = {\n",
    "    'PCA__n_components': [10,15],\n",
    "    'Estimator__SVM__C': [1.0, 2.0],\n",
    "    'Estimator__RandomForest__n_estimators': [100,300],\n",
    "    'Estimator__XGBoost__n_estimators': [100,300],\n",
    "}\n",
    "\n",
    "# Grid Search\n",
    "gridSearch = GridSearchCV(estimator= classifier, param_grid= params, cv= 5, n_jobs= -1, scoring= 'accuracy')\n",
    "gridSearch.fit(x_train, y_train)"
   ]
  },
  {
   "cell_type": "code",
   "execution_count": 46,
   "id": "014d2935",
   "metadata": {
    "execution": {
     "iopub.execute_input": "2024-01-31T00:14:02.752594Z",
     "iopub.status.busy": "2024-01-31T00:14:02.752214Z",
     "iopub.status.idle": "2024-01-31T00:14:02.759053Z",
     "shell.execute_reply": "2024-01-31T00:14:02.757954Z"
    },
    "papermill": {
     "duration": 0.038414,
     "end_time": "2024-01-31T00:14:02.761216",
     "exception": false,
     "start_time": "2024-01-31T00:14:02.722802",
     "status": "completed"
    },
    "tags": []
   },
   "outputs": [
    {
     "data": {
      "text/plain": [
       "{'Estimator__RandomForest__n_estimators': 100,\n",
       " 'Estimator__SVM__C': 2.0,\n",
       " 'Estimator__XGBoost__n_estimators': 100,\n",
       " 'PCA__n_components': 10}"
      ]
     },
     "execution_count": 46,
     "metadata": {},
     "output_type": "execute_result"
    }
   ],
   "source": [
    "gridSearch.best_params_"
   ]
  },
  {
   "cell_type": "code",
   "execution_count": 47,
   "id": "aa1647b6",
   "metadata": {
    "execution": {
     "iopub.execute_input": "2024-01-31T00:14:02.820189Z",
     "iopub.status.busy": "2024-01-31T00:14:02.819792Z",
     "iopub.status.idle": "2024-01-31T00:14:02.839680Z",
     "shell.execute_reply": "2024-01-31T00:14:02.838741Z"
    },
    "papermill": {
     "duration": 0.051929,
     "end_time": "2024-01-31T00:14:02.841904",
     "exception": false,
     "start_time": "2024-01-31T00:14:02.789975",
     "status": "completed"
    },
    "tags": []
   },
   "outputs": [
    {
     "name": "stdout",
     "output_type": "stream",
     "text": [
      "Best Estimator Score: 0.7764705882352941\n"
     ]
    }
   ],
   "source": [
    "best_model = gridSearch.best_estimator_\n",
    "\n",
    "score = best_model.score(x_val, y_val)\n",
    "print(f'Best Estimator Score: {score}')"
   ]
  },
  {
   "cell_type": "markdown",
   "id": "fb05ab8c",
   "metadata": {
    "papermill": {
     "duration": 0.029224,
     "end_time": "2024-01-31T00:14:02.900074",
     "exception": false,
     "start_time": "2024-01-31T00:14:02.870850",
     "status": "completed"
    },
    "tags": []
   },
   "source": [
    "## 6. Evaluate the Model 🤖🔍📑\n",
    "Now is the time to evaluate the model with the **Test set** that we defined at the beginning of the notebook and see if the model generalizes well."
   ]
  },
  {
   "cell_type": "code",
   "execution_count": 48,
   "id": "27538c05",
   "metadata": {
    "execution": {
     "iopub.execute_input": "2024-01-31T00:14:02.960686Z",
     "iopub.status.busy": "2024-01-31T00:14:02.959569Z",
     "iopub.status.idle": "2024-01-31T00:14:02.964524Z",
     "shell.execute_reply": "2024-01-31T00:14:02.963823Z"
    },
    "papermill": {
     "duration": 0.037305,
     "end_time": "2024-01-31T00:14:02.966486",
     "exception": false,
     "start_time": "2024-01-31T00:14:02.929181",
     "status": "completed"
    },
    "tags": []
   },
   "outputs": [],
   "source": [
    "from sklearn.metrics import roc_curve\n",
    "from sklearn.metrics import confusion_matrix"
   ]
  },
  {
   "cell_type": "markdown",
   "id": "35019bc8",
   "metadata": {
    "papermill": {
     "duration": 0.028652,
     "end_time": "2024-01-31T00:14:03.024717",
     "exception": false,
     "start_time": "2024-01-31T00:14:02.996065",
     "status": "completed"
    },
    "tags": []
   },
   "source": [
    "### Visualize ROC Curve (Training set)"
   ]
  },
  {
   "cell_type": "code",
   "execution_count": 49,
   "id": "3d564a33",
   "metadata": {
    "execution": {
     "iopub.execute_input": "2024-01-31T00:14:03.084435Z",
     "iopub.status.busy": "2024-01-31T00:14:03.083449Z",
     "iopub.status.idle": "2024-01-31T00:14:03.533899Z",
     "shell.execute_reply": "2024-01-31T00:14:03.532931Z"
    },
    "papermill": {
     "duration": 0.482838,
     "end_time": "2024-01-31T00:14:03.536364",
     "exception": false,
     "start_time": "2024-01-31T00:14:03.053526",
     "status": "completed"
    },
    "tags": []
   },
   "outputs": [
    {
     "data": {
      "image/png": "[encoded data removed]",
      "text/plain": [
       "<Figure size 640x480 with 1 Axes>"
      ]
     },
     "metadata": {},
     "output_type": "display_data"
    }
   ],
   "source": [
    "train_pred = best_model.predict(x_train)\n",
    "fpr_t, tpr_t, _ = roc_curve(y_train, train_pred)\n",
    "\n",
    "val_pred = best_model.predict(x_val)\n",
    "fpr_v, tpr_v, _ = roc_curve(y_val, val_pred)\n",
    "\n",
    "sns.lineplot(x=fpr_t, y=tpr_t, label= \"Training Score\")\n",
    "sns.lineplot(x=fpr_v, y=tpr_v, label= \"Validation Score\")\n",
    "plt.show()"
   ]
  },
  {
   "cell_type": "markdown",
   "id": "0b445e58",
   "metadata": {
    "papermill": {
     "duration": 0.029513,
     "end_time": "2024-01-31T00:14:03.595240",
     "exception": false,
     "start_time": "2024-01-31T00:14:03.565727",
     "status": "completed"
    },
    "tags": []
   },
   "source": [
    "### Evaluate the Testing set"
   ]
  },
  {
   "cell_type": "code",
   "execution_count": 50,
   "id": "9d027dbc",
   "metadata": {
    "execution": {
     "iopub.execute_input": "2024-01-31T00:14:03.656242Z",
     "iopub.status.busy": "2024-01-31T00:14:03.655244Z",
     "iopub.status.idle": "2024-01-31T00:14:03.678982Z",
     "shell.execute_reply": "2024-01-31T00:14:03.677546Z"
    },
    "papermill": {
     "duration": 0.057035,
     "end_time": "2024-01-31T00:14:03.681343",
     "exception": false,
     "start_time": "2024-01-31T00:14:03.624308",
     "status": "completed"
    },
    "tags": []
   },
   "outputs": [
    {
     "name": "stdout",
     "output_type": "stream",
     "text": [
      "[[23  2]\n",
      " [ 8 17]]\n",
      "Testing set Accuracy: 0.8\n"
     ]
    }
   ],
   "source": [
    "# Evaluate with the testing set\n",
    "x_test = prepare_data.transform(testing_set.drop(\"Survived\", axis= 1).values)\n",
    "y_test = testing_set.Survived.values\n",
    "\n",
    "predictions = best_model.predict(x_test)\n",
    "cm = confusion_matrix(y_test, predictions)\n",
    "accuracy = (cm[0,0] + cm[1,1]) / np.sum(cm)\n",
    "\n",
    "print(cm)\n",
    "print(f'Testing set Accuracy: {accuracy}')"
   ]
  },
  {
   "cell_type": "markdown",
   "id": "6532c7e5",
   "metadata": {
    "papermill": {
     "duration": 0.02897,
     "end_time": "2024-01-31T00:14:03.739822",
     "exception": false,
     "start_time": "2024-01-31T00:14:03.710852",
     "status": "completed"
    },
    "tags": []
   },
   "source": [
    "### Precision/Recall Trade-off\n",
    "We can still improve the **Accuracy** of the test set a little by taking into account the **Precision/Recall Trade-off**:\n",
    "\n",
    "$precision= ~\\frac{TP}{TP~+~FP}$\n",
    "\n",
    "$recall= ~\\frac{TP}{TP~+~FN}$\n",
    "\n",
    "To correctly adjust the threshold we will use the entire data set."
   ]
  },
  {
   "cell_type": "code",
   "execution_count": 51,
   "id": "ce6f871a",
   "metadata": {
    "execution": {
     "iopub.execute_input": "2024-01-31T00:14:03.801259Z",
     "iopub.status.busy": "2024-01-31T00:14:03.800092Z",
     "iopub.status.idle": "2024-01-31T00:14:05.021428Z",
     "shell.execute_reply": "2024-01-31T00:14:05.020187Z"
    },
    "papermill": {
     "duration": 1.254347,
     "end_time": "2024-01-31T00:14:05.023912",
     "exception": false,
     "start_time": "2024-01-31T00:14:03.769565",
     "status": "completed"
    },
    "tags": []
   },
   "outputs": [
    {
     "data": {
      "image/png": "[encoded data removed]",
      "text/plain": [
       "<Figure size 640x480 with 1 Axes>"
      ]
     },
     "metadata": {},
     "output_type": "display_data"
    }
   ],
   "source": [
    "# Define a list with 10 thresholds\n",
    "threshold = np.linspace(start= 0.1, stop= .9, num= 10)\n",
    "\n",
    "# Get the entire data set\n",
    "data = prepare_data.transform(titanic_data.drop(columns= [\"Survived\"], axis= 1).values)\n",
    "targets = titanic_data.Survived.values\n",
    "\n",
    "precision = []\n",
    "recall = []\n",
    "for i, thr in enumerate(threshold):\n",
    "    prob = best_model.predict_proba(data)[:, 1]\n",
    "    y_pred = (prob > thr)\n",
    "    \n",
    "    cm = confusion_matrix(targets, y_pred)\n",
    "    precision.append( cm[1,1] / (cm[1,1] + cm[0,1]) )\n",
    "    recall.append( cm[1,1] / (cm[1,1] + cm[1,0]) )\n",
    "\n",
    "# Plot the trade-off\n",
    "sns.lineplot(x= threshold, y= precision, label= 'Precision', c= 'red')\n",
    "sns.lineplot(x= threshold, y= recall, label= 'Recall', c= 'blue')\n",
    "\n",
    "plt.legend()\n",
    "plt.xlabel('Threshold')\n",
    "plt.ylabel('Precision / Recall')\n",
    "plt.title(\"Precision / Recall Trade-off\")\n",
    "plt.show()"
   ]
  },
  {
   "cell_type": "markdown",
   "id": "b79d3c3b",
   "metadata": {
    "papermill": {
     "duration": 0.030558,
     "end_time": "2024-01-31T00:14:05.085502",
     "exception": false,
     "start_time": "2024-01-31T00:14:05.054944",
     "status": "completed"
    },
    "tags": []
   },
   "source": [
    "As we can see, the perfect balance is approximately at a threshold of 0.35.  Based on that, let's predict the test set once again."
   ]
  },
  {
   "cell_type": "code",
   "execution_count": 52,
   "id": "3526a6c8",
   "metadata": {
    "execution": {
     "iopub.execute_input": "2024-01-31T00:14:05.149401Z",
     "iopub.status.busy": "2024-01-31T00:14:05.148935Z",
     "iopub.status.idle": "2024-01-31T00:14:05.168921Z",
     "shell.execute_reply": "2024-01-31T00:14:05.167732Z"
    },
    "papermill": {
     "duration": 0.054718,
     "end_time": "2024-01-31T00:14:05.171472",
     "exception": false,
     "start_time": "2024-01-31T00:14:05.116754",
     "status": "completed"
    },
    "tags": []
   },
   "outputs": [
    {
     "name": "stdout",
     "output_type": "stream",
     "text": [
      "[[21  4]\n",
      " [ 6 19]]\n",
      "Testing set Accuracy: 0.8\n"
     ]
    }
   ],
   "source": [
    "# Test set\n",
    "prob_t = best_model.predict_proba(x_test)[:, 1]\n",
    "test_pred = (prob_t > 0.35)\n",
    "\n",
    "cm = confusion_matrix(y_test, test_pred)\n",
    "test_accuracy = (cm[0,0] + cm[1,1]) / (np.sum(cm))\n",
    "\n",
    "print(cm)\n",
    "print(f'Testing set Accuracy: {test_accuracy}')"
   ]
  },
  {
   "cell_type": "markdown",
   "id": "9e7834bd",
   "metadata": {
    "papermill": {
     "duration": 0.030182,
     "end_time": "2024-01-31T00:14:05.232308",
     "exception": false,
     "start_time": "2024-01-31T00:14:05.202126",
     "status": "completed"
    },
    "tags": []
   },
   "source": [
    "It's not much but at least it's an improvement. 😃🎉"
   ]
  },
  {
   "cell_type": "markdown",
   "id": "54e9eaab",
   "metadata": {
    "papermill": {
     "duration": 0.030215,
     "end_time": "2024-01-31T00:14:05.292980",
     "exception": false,
     "start_time": "2024-01-31T00:14:05.262765",
     "status": "completed"
    },
    "tags": []
   },
   "source": [
    "## 7. Make the Predictions 👽👻\n",
    "Finally, we will predict the data set that we will upload to the competition taking into account the best threshold."
   ]
  },
  {
   "cell_type": "code",
   "execution_count": 53,
   "id": "01668541",
   "metadata": {
    "execution": {
     "iopub.execute_input": "2024-01-31T00:14:05.355781Z",
     "iopub.status.busy": "2024-01-31T00:14:05.355350Z",
     "iopub.status.idle": "2024-01-31T00:14:05.410316Z",
     "shell.execute_reply": "2024-01-31T00:14:05.409245Z"
    },
    "papermill": {
     "duration": 0.089068,
     "end_time": "2024-01-31T00:14:05.412548",
     "exception": false,
     "start_time": "2024-01-31T00:14:05.323480",
     "status": "completed"
    },
    "tags": []
   },
   "outputs": [
    {
     "data": {
      "text/html": [
       "<div>\n",
       "<style scoped>\n",
       "    .dataframe tbody tr th:only-of-type {\n",
       "        vertical-align: middle;\n",
       "    }\n",
       "\n",
       "    .dataframe tbody tr th {\n",
       "        vertical-align: top;\n",
       "    }\n",
       "\n",
       "    .dataframe thead th {\n",
       "        text-align: right;\n",
       "    }\n",
       "</style>\n",
       "<table border=\"1\" class=\"dataframe\">\n",
       "  <thead>\n",
       "    <tr style=\"text-align: right;\">\n",
       "      <th></th>\n",
       "      <th>Survived</th>\n",
       "    </tr>\n",
       "    <tr>\n",
       "      <th>PassengerId</th>\n",
       "      <th></th>\n",
       "    </tr>\n",
       "  </thead>\n",
       "  <tbody>\n",
       "    <tr>\n",
       "      <th>892</th>\n",
       "      <td>0</td>\n",
       "    </tr>\n",
       "    <tr>\n",
       "      <th>893</th>\n",
       "      <td>1</td>\n",
       "    </tr>\n",
       "    <tr>\n",
       "      <th>894</th>\n",
       "      <td>0</td>\n",
       "    </tr>\n",
       "    <tr>\n",
       "      <th>895</th>\n",
       "      <td>0</td>\n",
       "    </tr>\n",
       "    <tr>\n",
       "      <th>896</th>\n",
       "      <td>0</td>\n",
       "    </tr>\n",
       "    <tr>\n",
       "      <th>...</th>\n",
       "      <td>...</td>\n",
       "    </tr>\n",
       "    <tr>\n",
       "      <th>1305</th>\n",
       "      <td>0</td>\n",
       "    </tr>\n",
       "    <tr>\n",
       "      <th>1306</th>\n",
       "      <td>1</td>\n",
       "    </tr>\n",
       "    <tr>\n",
       "      <th>1307</th>\n",
       "      <td>0</td>\n",
       "    </tr>\n",
       "    <tr>\n",
       "      <th>1308</th>\n",
       "      <td>0</td>\n",
       "    </tr>\n",
       "    <tr>\n",
       "      <th>1309</th>\n",
       "      <td>0</td>\n",
       "    </tr>\n",
       "  </tbody>\n",
       "</table>\n",
       "<p>418 rows × 1 columns</p>\n",
       "</div>"
      ],
      "text/plain": [
       "             Survived\n",
       "PassengerId          \n",
       "892                 0\n",
       "893                 1\n",
       "894                 0\n",
       "895                 0\n",
       "896                 0\n",
       "...               ...\n",
       "1305                0\n",
       "1306                1\n",
       "1307                0\n",
       "1308                0\n",
       "1309                0\n",
       "\n",
       "[418 rows x 1 columns]"
      ]
     },
     "execution_count": 53,
     "metadata": {},
     "output_type": "execute_result"
    }
   ],
   "source": [
    "# Load and predict the testing set\n",
    "testing = pd.read_csv(\"/kaggle/input/titanic/test.csv\", index_col= 0)\n",
    "x_testing = prepare_data.transform(testing.values)\n",
    "\n",
    "\n",
    "proba_pred = best_model.predict_proba(x_testing)[:, 1]\n",
    "predictions = (proba_pred > 0.35)\n",
    "\n",
    "# Create the DataFrame\n",
    "submit_predictions = pd.DataFrame(np.c_[testing.index.values,predictions], columns= [\"PassengerId\", \"Survived\"]).set_index('PassengerId')\n",
    "submit_predictions"
   ]
  },
  {
   "cell_type": "code",
   "execution_count": 54,
   "id": "d813ff5d",
   "metadata": {
    "execution": {
     "iopub.execute_input": "2024-01-31T00:14:05.476075Z",
     "iopub.status.busy": "2024-01-31T00:14:05.475694Z",
     "iopub.status.idle": "2024-01-31T00:14:05.483792Z",
     "shell.execute_reply": "2024-01-31T00:14:05.482738Z"
    },
    "papermill": {
     "duration": 0.04231,
     "end_time": "2024-01-31T00:14:05.486052",
     "exception": false,
     "start_time": "2024-01-31T00:14:05.443742",
     "status": "completed"
    },
    "tags": []
   },
   "outputs": [],
   "source": [
    "submit_predictions.to_csv(\"Titanic_Predictions.csv\")"
   ]
  }
 ],
 "metadata": {
  "kaggle": {
   "accelerator": "none",
   "dataSources": [
    {
     "databundleVersionId": 26502,
     "sourceId": 3136,
     "sourceType": "competition"
    }
   ],
   "dockerImageVersionId": 30635,
   "isGpuEnabled": false,
   "isInternetEnabled": true,
   "language": "python",
   "sourceType": "notebook"
  },
  "kernelspec": {
   "display_name": "Python 3",
   "language": "python",
   "name": "python3"
  },
  "language_info": {
   "codemirror_mode": {
    "name": "ipython",
    "version": 3
   },
   "file_extension": ".py",
   "mimetype": "text/x-python",
   "name": "python",
   "nbconvert_exporter": "python",
   "pygments_lexer": "ipython3",
   "version": "3.10.12"
  },
  "papermill": {
   "default_parameters": {},
   "duration": 201.426599,
   "end_time": "2024-01-31T00:14:08.138541",
   "environment_variables": {},
   "exception": null,
   "input_path": "__notebook__.ipynb",
   "output_path": "__notebook__.ipynb",
   "parameters": {},
   "start_time": "2024-01-31T00:10:46.711942",
   "version": "2.4.0"
  }
 },
 "nbformat": 4,
 "nbformat_minor": 5
}
